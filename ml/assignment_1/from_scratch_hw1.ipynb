{
 "cells": [
  {
   "cell_type": "code",
   "execution_count": 26,
   "metadata": {},
   "outputs": [
    {
     "name": "stdout",
     "output_type": "stream",
     "text": [
      "a\n",
      "\n",
      "\n",
      "\n",
      "24466 24466\n"
     ]
    },
    {
     "data": {
      "text/plain": [
       "array([1])"
      ]
     },
     "execution_count": 26,
     "metadata": {},
     "output_type": "execute_result"
    }
   ],
   "source": [
    "# Language classifier\n",
    "\n",
    "# Import libraries\n",
    "from sklearn.neural_network import MLPClassifier\n",
    "\n",
    "# Load the data\n",
    "files = [\"english.txt\", \"german.txt\"]\n",
    "\n",
    "# Training list\n",
    "# Target list\n",
    "    # Eng = 0\n",
    "    # Ger = 1\n",
    "\n",
    "training = []\n",
    "target = []\n",
    "for file in files:\n",
    "    opened_file = open(file, 'r', encoding='latin-1')\n",
    "    file_lines = opened_file.readlines()\n",
    "    print(file_lines[0])\n",
    "    \n",
    "    if file == \"english.txt\":\n",
    "        # Create an array/list of 0s\n",
    "        six_letter_words = 0\n",
    "        for line in file_lines:\n",
    "            line = line.replace(\"\\n\", \"\")\n",
    "            if len(line) == 6:\n",
    "                orded_line = [ord(c) for c in line]\n",
    "                training.append(orded_line)\n",
    "                six_letter_words += 1\n",
    "            \n",
    "        class_target = [0 for i in range(six_letter_words)]\n",
    "        target += class_target\n",
    "    else:\n",
    "        # Create an array/list of 1s\n",
    "        six_letter_words = 0\n",
    "        for line in file_lines:\n",
    "            line = line.replace(\"\\n\", \"\")\n",
    "            if len(line) == 6:\n",
    "                orded_line = [ord(c) for c in line]\n",
    "                training.append(orded_line)\n",
    "                six_letter_words += 1\n",
    "        class_target = [1 for i in range(six_letter_words)]\n",
    "        target += class_target\n",
    "\n",
    "    training += file_lines\n",
    "\n",
    "print(len(orded_training), len(target))\n",
    "# Create neural network train, etc.\n",
    "mlp_nn = MLPClassifier()\n",
    "mlp_nn.fit(orded_training, target)\n",
    "\n",
    "\n",
    "# Predictions\n",
    "mlp_nn.predict([[ord(letter) for letter in \"Aargau\"]])"
   ]
  },
  {
   "cell_type": "code",
   "execution_count": null,
   "metadata": {},
   "outputs": [],
   "source": []
  }
 ],
 "metadata": {
  "kernelspec": {
   "display_name": "Python 3",
   "language": "python",
   "name": "python3"
  },
  "language_info": {
   "codemirror_mode": {
    "name": "ipython",
    "version": 3
   },
   "file_extension": ".py",
   "mimetype": "text/x-python",
   "name": "python",
   "nbconvert_exporter": "python",
   "pygments_lexer": "ipython3",
   "version": "3.7.7"
  }
 },
 "nbformat": 4,
 "nbformat_minor": 4
}
