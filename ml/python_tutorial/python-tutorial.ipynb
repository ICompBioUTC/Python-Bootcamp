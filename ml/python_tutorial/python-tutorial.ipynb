{
 "cells": [
  {
   "cell_type": "markdown",
   "metadata": {},
   "source": [
    "# Python Tutorial"
   ]
  },
  {
   "cell_type": "markdown",
   "metadata": {},
   "source": [
    "## Standard syntax\n",
    "- Python is dynamically typed -- therefore you do not need to explicitly state a variable's data type.\n",
    "- Scope is based on white space, so no use of brackets for methods, loops, etc. (brackets are used for the dictionary data type)\n",
    "- Do not need ```;``` to end lines"
   ]
  },
  {
   "cell_type": "code",
   "execution_count": 1,
   "metadata": {},
   "outputs": [
    {
     "name": "stdout",
     "output_type": "stream",
     "text": [
      "5\n",
      "Hello, world\n",
      "Type of my string: <class 'int'>\n"
     ]
    }
   ],
   "source": [
    "x = 5\n",
    "print(x)\n",
    "\n",
    "my_string = \"Hello, world\"\n",
    "print(my_string)\n",
    "\n",
    "# You can get confused to you set a variable's value to something it was not named for, for example:\n",
    "my_string = 3908274213408\n",
    "print(f\"Type of my string: {type(my_string)}\")"
   ]
  },
  {
   "cell_type": "markdown",
   "metadata": {},
   "source": [
    "## Data Types\n",
    "\n",
    "### Numbers\n",
    "\n",
    "- There are three types of \"number\" datatypes\n",
    "    - Integers (no distinctions to long, etc.)\n",
    "    - Floats (no distinction to doubles, etc.)\n",
    "    - Complex variables"
   ]
  },
  {
   "cell_type": "code",
   "execution_count": 1,
   "metadata": {},
   "outputs": [
    {
     "name": "stdout",
     "output_type": "stream",
     "text": "Type of integer_var: <class 'int'>\nType of float_var: <class 'float'>\nType of complex_var: <class 'complex'>\n"
    }
   ],
   "source": [
    "integer_var = 3\n",
    "float_var = 3.1\n",
    "complex_var = 3+2j\n",
    "\n",
    "print(f\"Type of integer_var: {type(integer_var)}\")\n",
    "print(f\"Type of float_var: {type(float_var)}\")\n",
    "print(f\"Type of complex_var: {type(complex_var)}\")"
   ]
  },
  {
   "cell_type": "markdown",
   "metadata": {},
   "source": [
    "### Strings\n",
    "\n",
    "- Python does not have the ```char``` datatype, and there is no real distinction between char and strings. Thus, you can ```''``` or ```\"\"``` to make strings"
   ]
  },
  {
   "cell_type": "code",
   "execution_count": 3,
   "metadata": {},
   "outputs": [
    {
     "name": "stdout",
     "output_type": "stream",
     "text": [
      "You can make a string using double quotes\n",
      "You can also make a string using single quotes\n"
     ]
    }
   ],
   "source": [
    "print(\"You can make a string using double quotes\")\n",
    "print('You can also make a string using single quotes')"
   ]
  },
  {
   "cell_type": "markdown",
   "metadata": {},
   "source": [
    "- There are many additional string methods available"
   ]
  },
  {
   "cell_type": "code",
   "execution_count": 4,
   "metadata": {},
   "outputs": [
    {
     "name": "stdout",
     "output_type": "stream",
     "text": [
      "my whole name is bob builder\n",
      "MY WHOLE NAME IS BOB BUILDER\n",
      "My whole name is Bran, The Builder\n"
     ]
    }
   ],
   "source": [
    "statement = \"My whole name is Bob Builder\"\n",
    "print(statement.lower())\n",
    "print(statement.upper())\n",
    "print(statement.replace('Bob', 'Bran, The'))"
   ]
  },
  {
   "cell_type": "markdown",
   "metadata": {},
   "source": [
    "- Additionally, as you have seen before, *formatted strings* (denoted by the use of ```f\"\"``` or ```f''``` allow the easy use of variables within strings\n",
    "    - You would put your variable/object/one-lined statements that you would like to convert into a string within ```{}```."
   ]
  },
  {
   "cell_type": "code",
   "execution_count": 5,
   "metadata": {},
   "outputs": [
    {
     "name": "stdout",
     "output_type": "stream",
     "text": [
      "The number is: 0 and it is even\n",
      "The number is: 1 and it is false\n",
      "The number is: 2 and it is even\n",
      "The number is: 3 and it is false\n",
      "The number is: 4 and it is even\n",
      "The number is: 5 and it is false\n"
     ]
    }
   ],
   "source": [
    "for number in range(6):\n",
    "    print(f\"The number is: {number} and it is {'even' if number % 2 == 0 else 'false'}\")"
   ]
  },
  {
   "cell_type": "markdown",
   "metadata": {},
   "source": [
    "### Lists\n",
    "\n",
    "- Arrays don't exist in Python (unless you use libraries such as numpy or libraries that rely on numpy/wrapper code). Instead, Python only has lists.\n",
    "- Due to dynamic typing, lists also don't have a fixed type (they are like object arrays). You can shove a whole bunch of different objects into lists. \n",
    "- List indices start at 0."
   ]
  },
  {
   "cell_type": "code",
   "execution_count": 6,
   "metadata": {},
   "outputs": [
    {
     "name": "stdout",
     "output_type": "stream",
     "text": [
      "['hello', 0, {'name': 'Dax'}]\n",
      "[<class 'str'>, <class 'int'>, <class 'dict'>]\n"
     ]
    }
   ],
   "source": [
    "my_list = [\"hello\", 0, {\"name\": \"Dax\"}]\n",
    "\n",
    "print(my_list) # Prints fine, no exception\n",
    "print([type(item) for item in my_list])"
   ]
  },
  {
   "cell_type": "markdown",
   "metadata": {},
   "source": [
    "- Adding, removing, and popping elements are pretty easy"
   ]
  },
  {
   "cell_type": "code",
   "execution_count": 7,
   "metadata": {},
   "outputs": [
    {
     "name": "stdout",
     "output_type": "stream",
     "text": [
      "[0, 15, 32, 99, 852, 16, 82]\n",
      "[0, 32, 99, 852, 16, 82]\n",
      "[0, 32, 99, 16, 82]\n",
      "99 [0, 32, 16, 82]\n",
      "[82, 16, 32, 0]\n",
      "[0, 16, 32, 82]\n",
      "Minimum number: 0, maximum number: 82\n"
     ]
    }
   ],
   "source": [
    "number_list = [0, 15, 32, 99, 852, 16]\n",
    "\n",
    "number_list.append(82) # Adds 82 to the end of the list\n",
    "print(number_list)\n",
    "\n",
    "number_list.remove(15) # Removes the value 15\n",
    "print(number_list)\n",
    "\n",
    "del number_list[3] # Removes object at index 3\n",
    "print(number_list)\n",
    "\n",
    "number = number_list.pop(2) # Removes the value at index 2 and returns it\n",
    "print(number, number_list)\n",
    "\n",
    "number_list.reverse() # Reverses the list in place\n",
    "print(number_list)\n",
    "\n",
    "number_list.sort() # Sorts the list\n",
    "print(number_list)\n",
    "\n",
    "minimum = min(number_list)\n",
    "maximum = max(number_list)\n",
    "print(f\"Minimum number: {minimum}, maximum number: {maximum}\")"
   ]
  },
  {
   "cell_type": "markdown",
   "metadata": {},
   "source": [
    "- Due to the fact that lists do not have fixed datatypes, making multi-dimensional arrays are pretty simple. \n",
    "    - This is not recommended, however, if you have high-dimensionality arrays as libraries made for ndarrays (such as numpy) are wrappers for C code that are *much* more efficient."
   ]
  },
  {
   "cell_type": "code",
   "execution_count": 8,
   "metadata": {},
   "outputs": [
    {
     "name": "stdout",
     "output_type": "stream",
     "text": [
      "[[1, 2], [2, 5], ['cat', 'dog']]\n"
     ]
    }
   ],
   "source": [
    "my_2d_array = [[1, 2], [2, 5], [\"cat\", \"dog\"]]\n",
    "print(my_2d_array)"
   ]
  },
  {
   "cell_type": "markdown",
   "metadata": {},
   "source": [
    "### Dictionaries\n",
    "\n",
    "- Initialized by ```var = {}``` or ```var = {'hello': 0, 'one': 1}```\n",
    "- Like lists, dictionaries don't have a set type. You can add different types of objects within the same dictionary"
   ]
  },
  {
   "cell_type": "code",
   "execution_count": 9,
   "metadata": {},
   "outputs": [
    {
     "name": "stdout",
     "output_type": "stream",
     "text": [
      "Dax's age is: 22\n",
      "Dr. Liang's age is: professor age\n",
      "Tucker's age is: ['zoomer', 'age']\n"
     ]
    }
   ],
   "source": [
    "my_age_dictionary = {'Dax': 22, 'Liang': 'professor age', 'Tucker': ['zoomer', 'age']}\n",
    "print(f\"Dax's age is: {my_age_dictionary['Dax']}\")\n",
    "print(f\"Dr. Liang's age is: {my_age_dictionary['Liang']}\")\n",
    "print(f\"Tucker's age is: {my_age_dictionary['Tucker']}\")"
   ]
  },
  {
   "cell_type": "markdown",
   "metadata": {},
   "source": [
    "- You can set and variables by simply setting the dictionary at a certain key"
   ]
  },
  {
   "cell_type": "code",
   "execution_count": 10,
   "metadata": {},
   "outputs": [
    {
     "name": "stdout",
     "output_type": "stream",
     "text": [
      "{'something': 'exists', (3+2j): 'its complicated'}\n",
      "its complicated\n"
     ]
    }
   ],
   "source": [
    "my_dictionary = {}\n",
    "my_dictionary['something'] = 'exists'\n",
    "my_dictionary[3+2j] = 'its complicated'\n",
    "\n",
    "print(my_dictionary)\n",
    "print(my_dictionary[3+2j])"
   ]
  },
  {
   "cell_type": "markdown",
   "metadata": {},
   "source": [
    "### Loops\n",
    "\n",
    "- Loops, in a sense, are always the \"shorthand\" version of loops found in other programming languages. Therefore, things like this can be done:"
   ]
  },
  {
   "cell_type": "code",
   "execution_count": 11,
   "metadata": {},
   "outputs": [
    {
     "name": "stdout",
     "output_type": "stream",
     "text": [
      "1\n",
      "2\n",
      "2\n",
      "5\n",
      "cat\n",
      "dog\n"
     ]
    }
   ],
   "source": [
    "my_2d_array = [[1, 2], [2, 5], [\"cat\", \"dog\"]]\n",
    "\n",
    "for row in my_2d_array:\n",
    "    for value in row:\n",
    "        print(value)"
   ]
  },
  {
   "cell_type": "markdown",
   "metadata": {},
   "source": [
    "- More standard looking for loops can be made using ```range()```"
   ]
  },
  {
   "cell_type": "code",
   "execution_count": 12,
   "metadata": {},
   "outputs": [
    {
     "name": "stdout",
     "output_type": "stream",
     "text": [
      "[1, 2]\n",
      "[2, 5]\n",
      "['cat', 'dog']\n",
      "[1, 2]\n",
      "[2, 5]\n",
      "['cat', 'dog']\n"
     ]
    }
   ],
   "source": [
    "# A more standard for loop analogous to i = 0; i < len(list); i++\n",
    "for i in range(0, len(my_2d_array), 1):\n",
    "    print(my_2d_array[i])\n",
    "\n",
    "# Shorthand exists for range as well:\n",
    "for i in range(len(my_2d_array)): # Handing one parameter automatically stops at the explicit parameter, starting at 0, and iteraring 1\n",
    "    print(my_2d_array[i])\n"
   ]
  },
  {
   "cell_type": "markdown",
   "metadata": {},
   "source": [
    "- For loops with else statements (for-else loops) also exist and can be quite helpful, say for simple search algorithms\n",
    "    - For-else loops work on the notion that you will break the for-loop yourself. If the for loop reaches its terminating state/the end of all objects, it executes the else statement."
   ]
  },
  {
   "cell_type": "code",
   "execution_count": 13,
   "metadata": {},
   "outputs": [
    {
     "name": "stdout",
     "output_type": "stream",
     "text": [
      "Found Dax!\n",
      "Did not find Evan!\n"
     ]
    }
   ],
   "source": [
    "names = ['Tucker', 'Dax', 'Dr. Liang']\n",
    "\n",
    "for name in names:\n",
    "    if name == \"Dax\":\n",
    "        print(\"Found Dax!\")\n",
    "        \n",
    "        # This should break the for loop and not execute the else statement\n",
    "        break\n",
    "else:\n",
    "    print(\"Did not find Dax!\")\n",
    "\n",
    "for name in names:\n",
    "    if name == \"Evan\":\n",
    "        print(\"Found Evan!\")\n",
    "        \n",
    "        # This loop should not break and it will execute the else statement\n",
    "        break\n",
    "else:\n",
    "    print(\"Did not find Evan!\")\n",
    "\n"
   ]
  },
  {
   "cell_type": "markdown",
   "metadata": {},
   "source": [
    "- While loops are as expected"
   ]
  },
  {
   "cell_type": "code",
   "execution_count": 14,
   "metadata": {},
   "outputs": [
    {
     "name": "stdout",
     "output_type": "stream",
     "text": [
      "0\n",
      "1\n",
      "2\n",
      "3\n",
      "4\n",
      "5\n"
     ]
    }
   ],
   "source": [
    "some_int = 0\n",
    "while(True):\n",
    "    print(some_int)\n",
    "    \n",
    "    some_int += 1 # some_int++ does not exist in Python\n",
    "    if some_int > 5:\n",
    "        break"
   ]
  },
  {
   "cell_type": "markdown",
   "metadata": {},
   "source": [
    "## Functions\n",
    "\n",
    "- Defining functions are pretty simple as you do not need to state what datatype they return"
   ]
  },
  {
   "cell_type": "code",
   "execution_count": 1,
   "metadata": {},
   "outputs": [
    {
     "name": "stdout",
     "output_type": "stream",
     "text": [
      "0\n"
     ]
    }
   ],
   "source": [
    "some_object = 0\n",
    "def my_function(an_object):\n",
    "    return an_object\n",
    "\n",
    "print(my_function(some_object))"
   ]
  },
  {
   "cell_type": "markdown",
   "metadata": {},
   "source": [
    "- Functions can have default values for their explicit parameters\n",
    "- You can set specific explicit parameters when calling a function"
   ]
  },
  {
   "cell_type": "code",
   "execution_count": 5,
   "metadata": {},
   "outputs": [
    {
     "name": "stdout",
     "output_type": "stream",
     "text": [
      "12, No name\n",
      "49, Dax\n"
     ]
    }
   ],
   "source": [
    "def another_function(number=0, name=\"No name\"):\n",
    "    return f\"{number}, {name}\"\n",
    "\n",
    "# Relying on default value for name parameter\n",
    "print(another_function(12))\n",
    "\n",
    "# Explicitly setting parameters, as seen here these do not follow the order that the parameters are in the function definition\n",
    "print(another_function(name=\"Dax\", number=49))"
   ]
  },
  {
   "cell_type": "markdown",
   "metadata": {},
   "source": [
    "## Importing Libraries\n",
    "How to import libraries: You can import libraries using \"import\", such as ```import numpy```\n",
    "There are variations on how to do this:\n",
    "1. To import a library as a different variable name, use the \"as\" keyword\n",
    "2. To import only part of a library, use the \"from\" keyword, such as ```from numpy import array```. You can also use \".\", such as ```import numpy.array```.\n",
    "    - Note that ```from numpy import *``` and ```import numpy.*``` is the same as ```import numpy```"
   ]
  },
  {
   "cell_type": "code",
   "execution_count": 2,
   "metadata": {},
   "outputs": [
    {
     "name": "stdout",
     "output_type": "stream",
     "text": "[[0. 0. 0. ... 0. 0. 0.]\n [0. 0. 0. ... 0. 0. 0.]\n [0. 0. 0. ... 0. 0. 0.]\n ...\n [0. 0. 0. ... 0. 0. 0.]\n [0. 0. 0. ... 0. 0. 0.]\n [0. 0. 0. ... 0. 0. 0.]]\n(500, 500)\n"
    }
   ],
   "source": [
    "import numpy as np\n",
    "\n",
    "a = np.zeros((500, 500))\n",
    "print(f\"{a}\\n{a.shape}\")"
   ]
  },
  {
   "cell_type": "code",
   "execution_count": null,
   "metadata": {},
   "outputs": [],
   "source": []
  },
  {
   "cell_type": "code",
   "execution_count": 21,
   "metadata": {},
   "outputs": [
    {
     "name": "stdout",
     "output_type": "stream",
     "text": "<class 'list'>\n<class 'numpy.ndarray'>\n(3,)\n1 2 3\n[5 2 3]\n"
    }
   ],
   "source": [
    "import pandas as pd\n",
    "import numpy as np\n",
    "list = [1,2,3]\n",
    "print(type(list))\n",
    "a = np.array(list)   # Create a rank 1 array, this is a ROW VECTOR of the underlying list object in python\n",
    "print(type(a))            # Prints \"<class 'numpy.ndarray'>\"\n",
    "print(a.shape)            # Prints \"(3,)\"\n",
    "print(a[0], a[1], a[2])   # Prints \"1 2 3\"\n",
    "a[0] = 5                  # Change an element of the array\n",
    "print(a)                  # Prints \"[5, 2, 3]\"\n",
    "\n",
    "                  # Prints \"(2, 3)\"\n"
   ]
  },
  {
   "cell_type": "code",
   "execution_count": 17,
   "metadata": {},
   "outputs": [
    {
     "name": "stdout",
     "output_type": "stream",
     "text": "(2, 3)\n1 2 4\n"
    }
   ],
   "source": [
    "#stepping up to a 2 dimensional array\n",
    "\n",
    "b = np.array([[1,2,3],[4,5,6]])    # Create a rank 2 array\n",
    "print(b.shape)\n",
    "print(b[0, 0], b[0, 1], b[1, 0])   # Prints \"1 2 4\"  "
   ]
  },
  {
   "cell_type": "code",
   "execution_count": 20,
   "metadata": {},
   "outputs": [
    {
     "name": "stdout",
     "output_type": "stream",
     "text": "(2, 2, 3)\n1\n2\n3\n4\n5\n6\n7\n8\n9\n10\n11\n12\n"
    }
   ],
   "source": [
    "#3 dimensional array now\n",
    "'''     Page :        0                  1 \n",
    "        Row  :    0       1         0         1\n",
    "     Column  :  0 1 2   0 1 2     0 1 2    0  1  2                  '''\n",
    "c = np.array([[[1,2,3],[4,5,6]],[[7,8,9],[10,11,12]]])\n",
    "print(c.shape)\n",
    "print(c[0,0,0])\n",
    "# print(c[0,0,1])\n",
    "# print(c[0,0,2])\n",
    "# print(c[0,1,0])\n",
    "# print(c[0,1,1])\n",
    "# print(c[0,1,2])\n",
    "# print(c[1,0,0])\n",
    "# print(c[1,0,1])\n",
    "# print(c[1,0,2])\n",
    "# print(c[1,1,0])\n",
    "# print(c[1,1,1])\n",
    "# print(c[1,1,2])"
   ]
  },
  {
   "cell_type": "code",
   "execution_count": 22,
   "metadata": {},
   "outputs": [
    {
     "name": "stdout",
     "output_type": "stream",
     "text": "[[ 6.  8.]\n [10. 12.]]\n[[ 6.  8.]\n [10. 12.]]\n[[-4. -4.]\n [-4. -4.]]\n[[-4. -4.]\n [-4. -4.]]\n"
    }
   ],
   "source": [
    "#Adding and Subtracting\n",
    "x = np.array([[1,2],[3,4]], dtype=np.float64)\n",
    "y = np.array([[5,6],[7,8]], dtype=np.float64)\n",
    "# Elementwise sum; both produce the array\n",
    "# [[ 6.0  8.0]\n",
    "#  [10.0 12.0]]\n",
    "print(x + y)\n",
    "print(np.add(x, y))\n",
    "\n",
    "# Elementwise difference; both produce the array\n",
    "# [[-4.0 -4.0]\n",
    "#  [-4.0 -4.0]]\n",
    "print(x - y)\n",
    "print(np.subtract(x, y))\n"
   ]
  },
  {
   "cell_type": "code",
   "execution_count": 23,
   "metadata": {},
   "outputs": [
    {
     "name": "stdout",
     "output_type": "stream",
     "text": "[[ 5. 12.]\n [21. 32.]]\n[[ 5. 12.]\n [21. 32.]]\n[[0.2        0.33333333]\n [0.42857143 0.5       ]]\n[[0.2        0.33333333]\n [0.42857143 0.5       ]]\n[[1.         1.41421356]\n [1.73205081 2.        ]]\n"
    }
   ],
   "source": [
    "#Element wise Multiplication and Division\n",
    "# Elementwise product; both produce the array\n",
    "# [[ 5.0 12.0]\n",
    "#  [21.0 32.0]]\n",
    "print(x * y)\n",
    "print(np.multiply(x, y))\n",
    "\n",
    "# Elementwise division; both produce the array\n",
    "# [[ 0.2         0.33333333]\n",
    "#  [ 0.42857143  0.5       ]]\n",
    "print(x / y)\n",
    "print(np.divide(x, y))\n",
    "\n",
    "# Elementwise square root; produces the array\n",
    "# [[ 1.          1.41421356]\n",
    "#  [ 1.73205081  2.        ]]\n",
    "print(np.sqrt(x))"
   ]
  },
  {
   "cell_type": "code",
   "execution_count": 24,
   "metadata": {},
   "outputs": [
    {
     "name": "stdout",
     "output_type": "stream",
     "text": "219\n219\n[29 67]\n[29 67]\n[[19 22]\n [43 50]]\n[[19 22]\n [43 50]]\n"
    }
   ],
   "source": [
    "import numpy as np\n",
    "\n",
    "x = np.array([[1,2],[3,4]])\n",
    "y = np.array([[5,6],[7,8]])\n",
    "\n",
    "v = np.array([9,10])\n",
    "w = np.array([11, 12])\n",
    "\n",
    "# Inner product of vectors; both produce 219\n",
    "print(v.dot(w))\n",
    "print(np.dot(v, w))\n",
    "\n",
    "# Matrix / vector product; both produce the rank 1 array [29 67]\n",
    "print(x.dot(v))\n",
    "print(np.dot(x, v))\n",
    "\n",
    "# Matrix / matrix product; both produce the rank 2 array\n",
    "# [[19 22]\n",
    "#  [43 50]]\n",
    "print(x.dot(y))\n",
    "print(np.dot(x, y))"
   ]
  },
  {
   "cell_type": "code",
   "execution_count": 30,
   "metadata": {},
   "outputs": [
    {
     "name": "stdout",
     "output_type": "stream",
     "text": "Original array : \n [[1 2]\n [3 4]]\nTransposed : \n [[1 3]\n [2 4]]\n"
    }
   ],
   "source": [
    "print(\"Original array : \\n\", x)\n",
    "print(\"Transposed : \\n\",x.T)"
   ]
  },
  {
   "cell_type": "code",
   "execution_count": 34,
   "metadata": {},
   "outputs": [
    {
     "name": "stdout",
     "output_type": "stream",
     "text": "Season  Daynum  Wteam  Wscore  Lteam  Lscore Wloc  Numot\n0    1985      20   1228      81   1328      64    N      0\n1    1985      25   1106      77   1354      70    H      0\n2    1985      25   1112      63   1223      56    H      0\n3    1985      25   1165      70   1432      54    H      0\n4    1985      25   1192      86   1447      74    H      0\n5    1985      25   1218      79   1337      78    H      0\n6    1985      25   1228      64   1226      44    N      0\n7    1985      25   1242      58   1268      56    N      0\n8    1985      25   1260      98   1133      80    H      0\n9    1985      25   1305      97   1424      89    H      0\n"
    }
   ],
   "source": [
    "#Pandas\n",
    "#Biggest difference: numpy arrays only contain one data type\n",
    "#Pandas arrays can contain multiple different \n",
    "'''NCAA basketball games from 1985 to 2016. This dataset is in a CSV file, and the function we're going to use to read in the file is called pd.read_csv(). This function returns a dataframe variable.'''\n",
    "import pandas as pd\n",
    "\n",
    "df = pd.read_csv(\"RegularSeasonCompactResults.csv\")\n",
    "print(df.head(10))"
   ]
  },
  {
   "cell_type": "code",
   "execution_count": 35,
   "metadata": {},
   "outputs": [
    {
     "name": "stdout",
     "output_type": "stream",
     "text": "Season  Daynum  Wteam  Wscore  Lteam  Lscore Wloc  Numot\n145284    2016     132   1114      70   1419      50    N      0\n145285    2016     132   1163      72   1272      58    N      0\n145286    2016     132   1246      82   1401      77    N      1\n145287    2016     132   1277      66   1345      62    N      0\n145288    2016     132   1386      87   1433      74    N      0\n"
    }
   ],
   "source": [
    "print(df.tail())"
   ]
  },
  {
   "cell_type": "code",
   "execution_count": 36,
   "metadata": {},
   "outputs": [
    {
     "name": "stdout",
     "output_type": "stream",
     "text": "Season         Daynum          Wteam         Wscore  \\\ncount  145289.000000  145289.000000  145289.000000  145289.000000   \nmean     2001.574834      75.223816    1286.720646      76.600321   \nstd         9.233342      33.287418     104.570275      12.173033   \nmin      1985.000000       0.000000    1101.000000      34.000000   \n25%      1994.000000      47.000000    1198.000000      68.000000   \n50%      2002.000000      78.000000    1284.000000      76.000000   \n75%      2010.000000     103.000000    1379.000000      84.000000   \nmax      2016.000000     132.000000    1464.000000     186.000000   \n\n               Lteam         Lscore          Numot  \ncount  145289.000000  145289.000000  145289.000000  \nmean     1282.864064      64.497009       0.044387  \nstd       104.829234      11.380625       0.247819  \nmin      1101.000000      20.000000       0.000000  \n25%      1191.000000      57.000000       0.000000  \n50%      1280.000000      64.000000       0.000000  \n75%      1375.000000      72.000000       0.000000  \nmax      1464.000000     150.000000       6.000000  \n"
    }
   ],
   "source": [
    "#Basic descriptive statistics\n",
    "\n",
    "print(df.describe())"
   ]
  },
  {
   "cell_type": "code",
   "execution_count": null,
   "metadata": {},
   "outputs": [],
   "source": []
  }
 ],
 "metadata": {
  "kernelspec": {
   "display_name": "Python 3",
   "language": "python",
   "name": "python3"
  },
  "language_info": {
   "codemirror_mode": {
    "name": "ipython",
    "version": 3
   },
   "file_extension": ".py",
   "mimetype": "text/x-python",
   "name": "python",
   "nbconvert_exporter": "python",
   "pygments_lexer": "ipython3",
   "version": "3.7.6-final"
  }
 },
 "nbformat": 4,
 "nbformat_minor": 2
}