{
 "cells": [
  {
   "cell_type": "markdown",
   "metadata": {},
   "source": [
    "### Image analysis\n",
    "\n",
    "Before we talk about image analysis, and libraries such as OpenCV, we must talk about a library called NumPy.\n",
    "\n",
    "#### What is NumPy?\n",
    "\n",
    "Essentially, it is a library that allows you to (efficiently) manage and manipulate multi-dimensional arrays. \n",
    "\n",
    "If you've taken matrix theory, or are familiar with matrices, you many helpful standard functions. Lets consider the following multidimensional array:"
   ]
  },
  {
   "cell_type": "code",
   "execution_count": 11,
   "metadata": {},
   "outputs": [
    {
     "name": "stdout",
     "output_type": "stream",
     "text": [
      "[100, 68, 68, 95, 17, 96, 63, 57, 22, 56, 91, 37, 21, 66, 6, 11, 83, 59, 35, 12]\n"
     ]
    },
    {
     "data": {
      "text/plain": [
       "array([[100,  68,  68,  95,  17],\n",
       "       [ 96,  63,  57,  22,  56],\n",
       "       [ 91,  37,  21,  66,   6],\n",
       "       [ 11,  83,  59,  35,  12]])"
      ]
     },
     "metadata": {},
     "output_type": "display_data"
    }
   ],
   "source": [
    "import numpy\n",
    "import random\n",
    "\n",
    "my_list = [random.randint(0, 100) for _ in range(20)]\n",
    "print(my_list)\n",
    "\n",
    "nd_list = numpy.array(my_list)\n",
    "nd_list = numpy.reshape(nd_list, (4, 5))\n",
    "display(nd_list)"
   ]
  },
  {
   "cell_type": "code",
   "execution_count": 12,
   "metadata": {},
   "outputs": [
    {
     "data": {
      "text/plain": [
       "array([[100,  96,  91,  11],\n",
       "       [ 68,  63,  37,  83],\n",
       "       [ 68,  57,  21,  59],\n",
       "       [ 95,  22,  66,  35],\n",
       "       [ 17,  56,   6,  12]])"
      ]
     },
     "metadata": {},
     "output_type": "display_data"
    }
   ],
   "source": [
    "nd_list = nd_list.transpose()\n",
    "display(nd_list)"
   ]
  },
  {
   "cell_type": "code",
   "execution_count": 13,
   "metadata": {},
   "outputs": [
    {
     "data": {
      "text/plain": [
       "array([[ 400,  768, 1092,  176],\n",
       "       [ 272,  504,  444, 1328],\n",
       "       [ 272,  456,  252,  944],\n",
       "       [ 380,  176,  792,  560],\n",
       "       [  68,  448,   72,  192]])"
      ]
     },
     "metadata": {},
     "output_type": "display_data"
    }
   ],
   "source": [
    "nd_list = nd_list * [4, 8, 12, 16]\n",
    "display(nd_list)"
   ]
  },
  {
   "cell_type": "code",
   "execution_count": 14,
   "metadata": {},
   "outputs": [
    {
     "name": "stdout",
     "output_type": "stream",
     "text": [
      "[23664 31696 22864 21392  7792]\n"
     ]
    }
   ],
   "source": [
    "nd_list = nd_list.dot([4, 8, 12, 16])\n",
    "print(nd_list)"
   ]
  },
  {
   "cell_type": "markdown",
   "metadata": {},
   "source": [
    "You may be wondering why NumPy is important. Well, as many of you know, an image is multi-dimensional (as in, not 1D). For a single image, what do you think the dimension of the array would be?"
   ]
  },
  {
   "cell_type": "markdown",
   "metadata": {},
   "source": [
    "#### OpenCV\n",
    "\n",
    "Now, we can get started with OpenCV. There's some cool things you can do with OpenCV, such as contouring:"
   ]
  },
  {
   "cell_type": "code",
   "execution_count": null,
   "metadata": {},
   "outputs": [],
   "source": [
    "#insert image here"
   ]
  },
  {
   "cell_type": "code",
   "execution_count": null,
   "metadata": {},
   "outputs": [],
   "source": []
  }
 ],
 "metadata": {
  "kernelspec": {
   "display_name": "Python 3",
   "language": "python",
   "name": "python3"
  },
  "language_info": {
   "codemirror_mode": {
    "name": "ipython",
    "version": 3
   },
   "file_extension": ".py",
   "mimetype": "text/x-python",
   "name": "python",
   "nbconvert_exporter": "python",
   "pygments_lexer": "ipython3",
   "version": "3.6.5"
  }
 },
 "nbformat": 4,
 "nbformat_minor": 2
}
