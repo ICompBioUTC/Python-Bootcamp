{
 "cells": [
  {
   "cell_type": "markdown",
   "metadata": {},
   "source": [
    "### Creating simple artificial intelligence in Python\n",
    "\n",
    "In this tutorial, we will be classifying what type of Iris a set of values are. Is it setosa, versicolor, or virginica? Using sklearn, we will be doing this automatically, and hopefully be able to predict a certain species of flower *even if we don't know specifically what the species is*. \n",
    "\n",
    "#### Step 1: Data Preparation\n",
    "First, we need to load our data from a file. We need to separate them into two arrays: \n",
    "\n",
    "- Training Array (often denoted as \"X\")\n",
    "    - Your training array will contain a set of values. In our example, we will be passing the sepal length and width, and petal length and width.\n",
    "- Target Array (often denoted as \"y\")\n",
    "    - Your target array will contain the *answers* to the given training array.\n",
    "\n",
    "For simplicity, I will be using the following English vs. German example:\n",
    "\n",
    "|Training Array|Target Array|\n",
    "|-----|-----|\n",
    "|ANYONE|English|\n",
    "|UPROAR|English|\n",
    "|YELLOW|English|\n",
    "|BÄRGET|German|\n",
    "|ZURUFE|German|\n",
    "|WÜSTEM|German|\n",
    "\n",
    "Unlike the above example, we are going to be using Iris data instead. First, let's create our training array. We shall be using the traditional way of loading data in Python, in contrast to `pandas`, for reference and simplicity.\n",
    "\n",
    "##### Traditionally loading files in Python\n",
    "You can open files natively, without the need of libraries, using the `open()` function. `open()` returns a file-like object. In this case, it returns a TextIOWrapper object."
   ]
  },
  {
   "cell_type": "code",
   "execution_count": 12,
   "metadata": {},
   "outputs": [
    {
     "name": "stdout",
     "output_type": "stream",
     "text": [
      "<class '_io.TextIOWrapper'>\n"
     ]
    }
   ],
   "source": [
    "my_file = open(\"iris-setosa.csv\", 'r')\n",
    "print(type(my_file))"
   ]
  },
  {
   "cell_type": "markdown",
   "metadata": {},
   "source": [
    "If you want to read a TextIOWrapper object, you can use `read()` or `readlines()`.\n",
    "\n",
    "Here, we will use `readlines()`. Readlines returns a list of strings, with each element being the corresponding line within the text file."
   ]
  },
  {
   "cell_type": "code",
   "execution_count": 13,
   "metadata": {},
   "outputs": [
    {
     "name": "stdout",
     "output_type": "stream",
     "text": [
      "sepal_length,sepal_width,petal_length,petal_width,species\n",
      "\n",
      "5.1,3.5,1.4,0.2,Iris-setosa\n",
      "\n",
      "4.9,3.0,1.4,0.2,Iris-setosa\n",
      "\n",
      "4.7,3.2,1.3,0.2,Iris-setosa\n",
      "\n",
      "4.6,3.1,1.5,0.2,Iris-setosa\n",
      "\n",
      "5.0,3.6,1.4,0.2,Iris-setosa\n",
      "\n",
      "5.4,3.9,1.7,0.4,Iris-setosa\n",
      "\n",
      "4.6,3.4,1.4,0.3,Iris-setosa\n",
      "\n",
      "5.0,3.4,1.5,0.2,Iris-setosa\n",
      "\n",
      "4.4,2.9,1.4,0.2,Iris-setosa\n",
      "\n",
      "4.9,3.1,1.5,0.1,Iris-setosa\n",
      "\n",
      "5.4,3.7,1.5,0.2,Iris-setosa\n",
      "\n",
      "4.8,3.4,1.6,0.2,Iris-setosa\n",
      "\n",
      "4.8,3.0,1.4,0.1,Iris-setosa\n",
      "\n",
      "4.3,3.0,1.1,0.1,Iris-setosa\n",
      "\n",
      "5.8,4.0,1.2,0.2,Iris-setosa\n",
      "\n",
      "5.7,4.4,1.5,0.4,Iris-setosa\n",
      "\n",
      "5.4,3.9,1.3,0.4,Iris-setosa\n",
      "\n",
      "5.1,3.5,1.4,0.3,Iris-setosa\n",
      "\n",
      "5.7,3.8,1.7,0.3,Iris-setosa\n",
      "\n",
      "5.1,3.8,1.5,0.3,Iris-setosa\n",
      "\n",
      "5.4,3.4,1.7,0.2,Iris-setosa\n",
      "\n",
      "5.1,3.7,1.5,0.4,Iris-setosa\n",
      "\n",
      "4.6,3.6,1.0,0.2,Iris-setosa\n",
      "\n",
      "5.1,3.3,1.7,0.5,Iris-setosa\n",
      "\n",
      "4.8,3.4,1.9,0.2,Iris-setosa\n",
      "\n",
      "5.0,3.0,1.6,0.2,Iris-setosa\n",
      "\n",
      "5.0,3.4,1.6,0.4,Iris-setosa\n",
      "\n",
      "5.2,3.5,1.5,0.2,Iris-setosa\n",
      "\n",
      "5.2,3.4,1.4,0.2,Iris-setosa\n",
      "\n",
      "4.7,3.2,1.6,0.2,Iris-setosa\n",
      "\n",
      "4.8,3.1,1.6,0.2,Iris-setosa\n",
      "\n",
      "5.4,3.4,1.5,0.4,Iris-setosa\n",
      "\n",
      "5.2,4.1,1.5,0.1,Iris-setosa\n",
      "\n",
      "5.5,4.2,1.4,0.2,Iris-setosa\n",
      "\n",
      "4.9,3.1,1.5,0.1,Iris-setosa\n",
      "\n",
      "5.0,3.2,1.2,0.2,Iris-setosa\n",
      "\n",
      "5.5,3.5,1.3,0.2,Iris-setosa\n",
      "\n",
      "4.9,3.1,1.5,0.1,Iris-setosa\n",
      "\n",
      "4.4,3.0,1.3,0.2,Iris-setosa\n",
      "\n",
      "5.1,3.4,1.5,0.2,Iris-setosa\n",
      "\n",
      "5.0,3.5,1.3,0.3,Iris-setosa\n",
      "\n",
      "4.5,2.3,1.3,0.3,Iris-setosa\n",
      "\n",
      "4.4,3.2,1.3,0.2,Iris-setosa\n",
      "\n",
      "5.0,3.5,1.6,0.6,Iris-setosa\n",
      "\n",
      "5.1,3.8,1.9,0.4,Iris-setosa\n",
      "\n",
      "4.8,3.0,1.4,0.3,Iris-setosa\n",
      "\n",
      "5.1,3.8,1.6,0.2,Iris-setosa\n",
      "\n",
      "4.6,3.2,1.4,0.2,Iris-setosa\n",
      "\n",
      "5.3,3.7,1.5,0.2,Iris-setosa\n",
      "\n",
      "5.0,3.3,1.4,0.2,Iris-setosa\n",
      "\n"
     ]
    }
   ],
   "source": [
    "for text_line in my_file:\n",
    "    print(text_line)"
   ]
  },
  {
   "cell_type": "markdown",
   "metadata": {},
   "source": [
    "Now, using what we learnt "
   ]
  },
  {
   "cell_type": "code",
   "execution_count": 10,
   "metadata": {},
   "outputs": [],
   "source": [
    "import glob\n",
    "\n",
    "files = []\n",
    "for item in glob.glob(\"*.csv\"):\n",
    "    file = open(item, 'r')\n",
    "    files.append(file)"
   ]
  },
  {
   "cell_type": "markdown",
   "metadata": {},
   "source": [
    "Let look at how to read files normally in Python."
   ]
  },
  {
   "cell_type": "code",
   "execution_count": null,
   "metadata": {},
   "outputs": [],
   "source": []
  },
  {
   "cell_type": "code",
   "execution_count": null,
   "metadata": {},
   "outputs": [],
   "source": []
  }
 ],
 "metadata": {
  "kernelspec": {
   "display_name": "Python 3",
   "language": "python",
   "name": "python3"
  },
  "language_info": {
   "codemirror_mode": {
    "name": "ipython",
    "version": 3
   },
   "file_extension": ".py",
   "mimetype": "text/x-python",
   "name": "python",
   "nbconvert_exporter": "python",
   "pygments_lexer": "ipython3",
   "version": "3.6.5"
  }
 },
 "nbformat": 4,
 "nbformat_minor": 2
}
