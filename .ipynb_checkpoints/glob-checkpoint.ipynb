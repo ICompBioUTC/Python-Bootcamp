{
 "cells": [
  {
   "cell_type": "markdown",
   "metadata": {},
   "source": [
    "### Glob\n",
    "\n",
    "If you have multiple files in a directory, it might be better to load them through glob instead of doing it manually. Let's say you have 5 files. Doing it manually would entail:\n",
    "\n",
    "```\n",
    "first_df = pandas.read_csv(\"file1.csv\")\n",
    "second_df = pandas.read_csv(\"file2.csv\")\n",
    "third_df = pandas.read_csv(\"file3.csv\")\n",
    "fourth_df = pandas.read_csv(\"file4.csv\")\n",
    "fifth_df = pandas.read_csv(\"file5.csv\")\n",
    "```\n",
    "\n",
    "As you can see, doing that would be a little tedious. Instead, you can do it in a loop using glob. First, we will import glob and create a list with the dataframes:"
   ]
  },
  {
   "cell_type": "code",
   "execution_count": 1,
   "metadata": {},
   "outputs": [],
   "source": [
    "import glob\n",
    "import pandas\n",
    "\n",
    "iris_dataframe = pandas.DataFrame()"
   ]
  },
  {
   "cell_type": "markdown",
   "metadata": {},
   "source": [
    "Secondly, we will use the `glob.iglob()` function in order to take files within a directory. Note that `*` in `*.csv` means \"anything with '.csv' in it.\" If we wanted just file`x`.csv, we can use `file*.csv`."
   ]
  },
  {
   "cell_type": "code",
   "execution_count": 2,
   "metadata": {},
   "outputs": [
    {
     "name": "stdout",
     "output_type": "stream",
     "text": [
      "     sepal_length  sepal_width  petal_length  petal_width          species\n",
      "0             5.1          3.5           1.4          0.2      Iris-setosa\n",
      "1             4.7          3.2           1.3          0.2      Iris-setosa\n",
      "2             5.0          3.6           1.4          0.2      Iris-setosa\n",
      "3             4.6          3.4           1.4          0.3      Iris-setosa\n",
      "4             4.4          2.9           1.4          0.2      Iris-setosa\n",
      "5             5.4          3.7           1.5          0.2      Iris-setosa\n",
      "6             4.8          3.0           1.4          0.1      Iris-setosa\n",
      "7             5.8          4.0           1.2          0.2      Iris-setosa\n",
      "8             5.4          3.9           1.3          0.4      Iris-setosa\n",
      "9             5.7          3.8           1.7          0.3      Iris-setosa\n",
      "10            5.4          3.4           1.7          0.2      Iris-setosa\n",
      "11            4.6          3.6           1.0          0.2      Iris-setosa\n",
      "12            4.8          3.4           1.9          0.2      Iris-setosa\n",
      "13            5.0          3.4           1.6          0.4      Iris-setosa\n",
      "14            5.2          3.4           1.4          0.2      Iris-setosa\n",
      "15            4.8          3.1           1.6          0.2      Iris-setosa\n",
      "16            5.2          4.1           1.5          0.1      Iris-setosa\n",
      "17            4.9          3.1           1.5          0.1      Iris-setosa\n",
      "18            5.5          3.5           1.3          0.2      Iris-setosa\n",
      "19            4.4          3.0           1.3          0.2      Iris-setosa\n",
      "20            5.0          3.5           1.3          0.3      Iris-setosa\n",
      "21            4.4          3.2           1.3          0.2      Iris-setosa\n",
      "22            5.1          3.8           1.9          0.4      Iris-setosa\n",
      "23            5.1          3.8           1.6          0.2      Iris-setosa\n",
      "24            5.3          3.7           1.5          0.2      Iris-setosa\n",
      "25            7.0          3.2           4.7          1.4  Iris-versicolor\n",
      "26            6.9          3.1           4.9          1.5  Iris-versicolor\n",
      "27            6.5          2.8           4.6          1.5  Iris-versicolor\n",
      "28            6.3          3.3           4.7          1.6  Iris-versicolor\n",
      "29            6.6          2.9           4.6          1.3  Iris-versicolor\n",
      "..            ...          ...           ...          ...              ...\n",
      "88            5.2          2.7           3.9          1.4  Iris-versicolor\n",
      "89            5.9          3.0           4.2          1.5  Iris-versicolor\n",
      "90            6.1          2.9           4.7          1.4  Iris-versicolor\n",
      "91            6.7          3.1           4.4          1.4  Iris-versicolor\n",
      "92            5.8          2.7           4.1          1.0  Iris-versicolor\n",
      "93            5.6          2.5           3.9          1.1  Iris-versicolor\n",
      "94            6.1          2.8           4.0          1.3  Iris-versicolor\n",
      "95            6.1          2.8           4.7          1.2  Iris-versicolor\n",
      "96            6.6          3.0           4.4          1.4  Iris-versicolor\n",
      "97            6.7          3.0           5.0          1.7  Iris-versicolor\n",
      "98            5.7          2.6           3.5          1.0  Iris-versicolor\n",
      "99            5.5          2.4           3.7          1.0  Iris-versicolor\n",
      "100           6.0          2.7           5.1          1.6  Iris-versicolor\n",
      "101           5.8          2.7           5.1          1.9   Iris-virginica\n",
      "102           6.3          2.9           5.6          1.8   Iris-virginica\n",
      "103           7.6          3.0           6.6          2.1   Iris-virginica\n",
      "104           7.3          2.9           6.3          1.8   Iris-virginica\n",
      "105           7.2          3.6           6.1          2.5   Iris-virginica\n",
      "106           6.4          2.7           5.3          1.9   Iris-virginica\n",
      "107           5.7          2.5           5.0          2.0   Iris-virginica\n",
      "108           6.4          3.2           5.3          2.3   Iris-virginica\n",
      "109           7.7          3.8           6.7          2.2   Iris-virginica\n",
      "110           6.0          2.2           5.0          1.5   Iris-virginica\n",
      "111           5.6          2.8           4.9          2.0   Iris-virginica\n",
      "112           6.3          2.7           4.9          1.8   Iris-virginica\n",
      "113           7.2          3.2           6.0          1.8   Iris-virginica\n",
      "114           6.1          3.0           4.9          1.8   Iris-virginica\n",
      "115           7.2          3.0           5.8          1.6   Iris-virginica\n",
      "116           7.9          3.8           6.4          2.0   Iris-virginica\n",
      "117           6.3          2.8           5.1          1.5   Iris-virginica\n",
      "\n",
      "[118 rows x 5 columns]\n"
     ]
    }
   ],
   "source": [
    "for file in glob.glob(\"*.csv\"):\n",
    "    this_file_dataframe = pandas.read_csv(file)\n",
    "    iris_dataframe = iris_dataframe.append(this_file_dataframe, ignore_index=True)\n",
    "    \n",
    "print(iris_dataframe)"
   ]
  },
  {
   "cell_type": "markdown",
   "metadata": {},
   "source": [
    "Now, your dataframes are accessible within the list. If you want to access them, you just need to call the index of the dataframe that you want. Printing a sample from the dataframes at a specific index yields you:"
   ]
  },
  {
   "cell_type": "code",
   "execution_count": null,
   "metadata": {},
   "outputs": [],
   "source": [
    "print(iris_dataframe.sample(3)) # In the python_Introduction directory, this would be iris1.csv"
   ]
  },
  {
   "cell_type": "code",
   "execution_count": null,
   "metadata": {},
   "outputs": [],
   "source": []
  }
 ],
 "metadata": {
  "kernelspec": {
   "display_name": "Python [conda env:Shaw]",
   "language": "python",
   "name": "conda-env-Shaw-py"
  },
  "language_info": {
   "codemirror_mode": {
    "name": "ipython",
    "version": 3
   },
   "file_extension": ".py",
   "mimetype": "text/x-python",
   "name": "python",
   "nbconvert_exporter": "python",
   "pygments_lexer": "ipython3",
   "version": "3.6.8"
  }
 },
 "nbformat": 4,
 "nbformat_minor": 2
}
