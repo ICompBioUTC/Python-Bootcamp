{
 "cells": [
  {
   "cell_type": "markdown",
   "metadata": {},
   "source": [
    "### Visualization in python, using seaborn\n",
    "\n",
    "Included with this notebook is an anonymized  dataset from a thesis project assessing the rates of natural history digitization. We'll use these data to practice visualization in python."
   ]
  },
  {
   "cell_type": "code",
   "execution_count": 18,
   "metadata": {},
   "outputs": [
    {
     "data": {
      "text/html": [
       "<div>\n",
       "<style scoped>\n",
       "    .dataframe tbody tr th:only-of-type {\n",
       "        vertical-align: middle;\n",
       "    }\n",
       "\n",
       "    .dataframe tbody tr th {\n",
       "        vertical-align: top;\n",
       "    }\n",
       "\n",
       "    .dataframe thead th {\n",
       "        text-align: right;\n",
       "    }\n",
       "</style>\n",
       "<table border=\"1\" class=\"dataframe\">\n",
       "  <thead>\n",
       "    <tr style=\"text-align: right;\">\n",
       "      <th></th>\n",
       "      <th>Date</th>\n",
       "      <th>name</th>\n",
       "      <th>qty_imaged</th>\n",
       "      <th>minutes_spent</th>\n",
       "      <th>Were there any setbacks? Please describe.</th>\n",
       "      <th>rate</th>\n",
       "      <th>tot_min</th>\n",
       "      <th>binned</th>\n",
       "      <th>tot_hours</th>\n",
       "    </tr>\n",
       "  </thead>\n",
       "  <tbody>\n",
       "    <tr>\n",
       "      <th>0</th>\n",
       "      <td>2017-01-10</td>\n",
       "      <td>Emma</td>\n",
       "      <td>190.0</td>\n",
       "      <td>180.0</td>\n",
       "      <td>NaN</td>\n",
       "      <td>1.056</td>\n",
       "      <td>180.0</td>\n",
       "      <td>(120.0, 180.0]</td>\n",
       "      <td>3.00</td>\n",
       "    </tr>\n",
       "    <tr>\n",
       "      <th>1</th>\n",
       "      <td>2017-01-10</td>\n",
       "      <td>Vincent</td>\n",
       "      <td>242.0</td>\n",
       "      <td>175.0</td>\n",
       "      <td>NaN</td>\n",
       "      <td>1.383</td>\n",
       "      <td>175.0</td>\n",
       "      <td>(120.0, 180.0]</td>\n",
       "      <td>2.92</td>\n",
       "    </tr>\n",
       "  </tbody>\n",
       "</table>\n",
       "</div>"
      ],
      "text/plain": [
       "        Date     name  qty_imaged  minutes_spent  \\\n",
       "0 2017-01-10     Emma       190.0          180.0   \n",
       "1 2017-01-10  Vincent       242.0          175.0   \n",
       "\n",
       "  Were there any setbacks? Please describe.   rate  tot_min          binned  \\\n",
       "0                                       NaN  1.056    180.0  (120.0, 180.0]   \n",
       "1                                       NaN  1.383    175.0  (120.0, 180.0]   \n",
       "\n",
       "   tot_hours  \n",
       "0       3.00  \n",
       "1       2.92  "
      ]
     },
     "execution_count": 18,
     "metadata": {},
     "output_type": "execute_result"
    }
   ],
   "source": [
    "# notice the import with simplified alias\n",
    "import pandas as pd\n",
    "\n",
    "# On load in, tell pandas that the 'Date' column should be treated as a date object\n",
    "df = pd.read_csv('imaging_rates.csv', parse_dates=['Date'])\n",
    "df.head(2)"
   ]
  },
  {
   "cell_type": "code",
   "execution_count": 19,
   "metadata": {},
   "outputs": [
    {
     "data": {
      "text/html": [
       "<div>\n",
       "<style scoped>\n",
       "    .dataframe tbody tr th:only-of-type {\n",
       "        vertical-align: middle;\n",
       "    }\n",
       "\n",
       "    .dataframe tbody tr th {\n",
       "        vertical-align: top;\n",
       "    }\n",
       "\n",
       "    .dataframe thead th {\n",
       "        text-align: right;\n",
       "    }\n",
       "</style>\n",
       "<table border=\"1\" class=\"dataframe\">\n",
       "  <thead>\n",
       "    <tr style=\"text-align: right;\">\n",
       "      <th></th>\n",
       "      <th>Date</th>\n",
       "      <th>name</th>\n",
       "      <th>qty_imaged</th>\n",
       "      <th>minutes_spent</th>\n",
       "      <th>Were there any setbacks? Please describe.</th>\n",
       "      <th>rate</th>\n",
       "      <th>tot_min</th>\n",
       "      <th>binned</th>\n",
       "      <th>tot_hours</th>\n",
       "    </tr>\n",
       "  </thead>\n",
       "  <tbody>\n",
       "    <tr>\n",
       "      <th>0</th>\n",
       "      <td>2017-01-10</td>\n",
       "      <td>Emma</td>\n",
       "      <td>190.0</td>\n",
       "      <td>180.0</td>\n",
       "      <td>NaN</td>\n",
       "      <td>1.056</td>\n",
       "      <td>180.0</td>\n",
       "      <td>(120.0, 180.0]</td>\n",
       "      <td>3.00</td>\n",
       "    </tr>\n",
       "    <tr>\n",
       "      <th>1</th>\n",
       "      <td>2017-01-10</td>\n",
       "      <td>Vincent</td>\n",
       "      <td>242.0</td>\n",
       "      <td>175.0</td>\n",
       "      <td>NaN</td>\n",
       "      <td>1.383</td>\n",
       "      <td>175.0</td>\n",
       "      <td>(120.0, 180.0]</td>\n",
       "      <td>2.92</td>\n",
       "    </tr>\n",
       "  </tbody>\n",
       "</table>\n",
       "</div>"
      ],
      "text/plain": [
       "        Date     name  qty_imaged  minutes_spent  \\\n",
       "0 2017-01-10     Emma       190.0          180.0   \n",
       "1 2017-01-10  Vincent       242.0          175.0   \n",
       "\n",
       "  Were there any setbacks? Please describe.   rate  tot_min          binned  \\\n",
       "0                                       NaN  1.056    180.0  (120.0, 180.0]   \n",
       "1                                       NaN  1.383    175.0  (120.0, 180.0]   \n",
       "\n",
       "   tot_hours  \n",
       "0       3.00  \n",
       "1       2.92  "
      ]
     },
     "execution_count": 19,
     "metadata": {},
     "output_type": "execute_result"
    }
   ],
   "source": [
    "# add a rate column, as qty imaged / minutes spent\n",
    "df['rate'] = round(df['qty_imaged'] / df['minutes_spent'], 3)\n",
    "df.head(2)"
   ]
  },
  {
   "cell_type": "code",
   "execution_count": 20,
   "metadata": {},
   "outputs": [
    {
     "data": {
      "text/html": [
       "<div>\n",
       "<style scoped>\n",
       "    .dataframe tbody tr th:only-of-type {\n",
       "        vertical-align: middle;\n",
       "    }\n",
       "\n",
       "    .dataframe tbody tr th {\n",
       "        vertical-align: top;\n",
       "    }\n",
       "\n",
       "    .dataframe thead th {\n",
       "        text-align: right;\n",
       "    }\n",
       "</style>\n",
       "<table border=\"1\" class=\"dataframe\">\n",
       "  <thead>\n",
       "    <tr style=\"text-align: right;\">\n",
       "      <th></th>\n",
       "      <th>Date</th>\n",
       "      <th>name</th>\n",
       "      <th>qty_imaged</th>\n",
       "      <th>minutes_spent</th>\n",
       "      <th>Were there any setbacks? Please describe.</th>\n",
       "      <th>rate</th>\n",
       "      <th>tot_min</th>\n",
       "      <th>binned</th>\n",
       "      <th>tot_hours</th>\n",
       "    </tr>\n",
       "  </thead>\n",
       "  <tbody>\n",
       "    <tr>\n",
       "      <th>0</th>\n",
       "      <td>2017-01-10</td>\n",
       "      <td>Emma</td>\n",
       "      <td>190.0</td>\n",
       "      <td>180.0</td>\n",
       "      <td>NaN</td>\n",
       "      <td>1.056</td>\n",
       "      <td>180.0</td>\n",
       "      <td>(120.0, 180.0]</td>\n",
       "      <td>3.00</td>\n",
       "    </tr>\n",
       "    <tr>\n",
       "      <th>1</th>\n",
       "      <td>2017-01-10</td>\n",
       "      <td>Vincent</td>\n",
       "      <td>242.0</td>\n",
       "      <td>175.0</td>\n",
       "      <td>NaN</td>\n",
       "      <td>1.383</td>\n",
       "      <td>175.0</td>\n",
       "      <td>(120.0, 180.0]</td>\n",
       "      <td>2.92</td>\n",
       "    </tr>\n",
       "    <tr>\n",
       "      <th>2</th>\n",
       "      <td>2017-01-10</td>\n",
       "      <td>Emma</td>\n",
       "      <td>198.0</td>\n",
       "      <td>180.0</td>\n",
       "      <td>NaN</td>\n",
       "      <td>1.100</td>\n",
       "      <td>360.0</td>\n",
       "      <td>(120.0, 180.0]</td>\n",
       "      <td>6.00</td>\n",
       "    </tr>\n",
       "  </tbody>\n",
       "</table>\n",
       "</div>"
      ],
      "text/plain": [
       "        Date     name  qty_imaged  minutes_spent  \\\n",
       "0 2017-01-10     Emma       190.0          180.0   \n",
       "1 2017-01-10  Vincent       242.0          175.0   \n",
       "2 2017-01-10     Emma       198.0          180.0   \n",
       "\n",
       "  Were there any setbacks? Please describe.   rate  tot_min          binned  \\\n",
       "0                                       NaN  1.056    180.0  (120.0, 180.0]   \n",
       "1                                       NaN  1.383    175.0  (120.0, 180.0]   \n",
       "2                                       NaN  1.100    360.0  (120.0, 180.0]   \n",
       "\n",
       "   tot_hours  \n",
       "0       3.00  \n",
       "1       2.92  \n",
       "2       6.00  "
      ]
     },
     "execution_count": 20,
     "metadata": {},
     "output_type": "execute_result"
    }
   ],
   "source": [
    "# add a total cumulative minutes column\n",
    "# first groupby name, then calculate the cumulative sum minutes_spent for each group, aka person.\n",
    "df['tot_min'] = df.groupby('name')['minutes_spent'].cumsum()\n",
    "# for simplicity, add a total hours\n",
    "df.head(3)"
   ]
  },
  {
   "cell_type": "markdown",
   "metadata": {},
   "source": [
    "### Activity: add a calculated column.\n",
    "\n",
    "For simplicity, add a `tot_hours` column to the DataFrame similar to the way we added the rate column.\n"
   ]
  },
  {
   "cell_type": "code",
   "execution_count": null,
   "metadata": {},
   "outputs": [],
   "source": []
  },
  {
   "cell_type": "markdown",
   "metadata": {},
   "source": [
    "Notice there is a setbacks field. Should we remove them? \n",
    "\n",
    "```{python}\n",
    "df = df.loc[df['Were there any setbacks? Please describe.'].isna()]\n",
    "```"
   ]
  },
  {
   "cell_type": "code",
   "execution_count": null,
   "metadata": {},
   "outputs": [],
   "source": [
    "display(df.loc[df['Were there any setbacks? Please describe.'].notna()].sample(5))"
   ]
  },
  {
   "cell_type": "code",
   "execution_count": null,
   "metadata": {},
   "outputs": [],
   "source": [
    "\n",
    "df.shape"
   ]
  },
  {
   "cell_type": "markdown",
   "metadata": {},
   "source": [
    "There are many options for visualization, most plotting is based on the [Matplotlib](https://matplotlib.org/) library which is worth getting to know. However, the [seaborn](https://seaborn.pydata.org/) library offers simplified access to the Matplotlib functions, making it a great place to start."
   ]
  },
  {
   "cell_type": "code",
   "execution_count": null,
   "metadata": {},
   "outputs": [],
   "source": [
    "# import seaborn using the sns alias\n",
    "import seaborn as sns\n",
    "# In order to control the plot size, we have to use an underlying Matplotlib function.\n",
    "\n",
    "import matplotlib.pyplot as plt\n",
    "plt.rcParams['figure.figsize'] = [20, 10]\n",
    "\n",
    "sns.lineplot(x='tot_min', \n",
    "             y='rate', \n",
    "             hue='name',\n",
    "             data=df,\n",
    "             linewidth=2.5)"
   ]
  },
  {
   "cell_type": "markdown",
   "metadata": {},
   "source": [
    "### Activity: explore various visualization options for the large dataset.\n",
    "\n",
    "Presume you're the principal investigator on a NSF funded project to digitize a quarter milion natural history specimens. Over the course of a semester, many students have been earning credit hours by helping with this digitization effort. You want to hire 3 students to continue their work over the summer, but you're not sure which students to keep. Explore the results from the various visualization options below to make an informed decision."
   ]
  },
  {
   "cell_type": "code",
   "execution_count": null,
   "metadata": {},
   "outputs": [],
   "source": [
    "# this initates the grid which will be filled in with whatever option is chosen below.\n",
    "g = sns.FacetGrid(df, hue=\"name\", col=\"name\", col_wrap=5)\n",
    "\n",
    "# Choose from these options by uncommenting them one at a time.\n",
    "#g.map(plt.scatter, 'tot_hours', \"rate\", edgecolor=\"white\")\n",
    "#g.map(plt.plot, 'tot_hours', 'rate', marker=\"o\")\n",
    "#g.map(sns.regplot, 'tot_hours', \"rate\")#, x_bins=range(0,60))\n",
    "\n",
    "# this sets the limits to the plots\n",
    "g.set(ylim=(0, 6), xlim=(0, 60))"
   ]
  },
  {
   "cell_type": "code",
   "execution_count": null,
   "metadata": {},
   "outputs": [],
   "source": [
    "# here is one example of attempting to gain an average for all combined students\n",
    "\n",
    "g = sns.regplot(x='tot_hours', y='rate',data=df, x_bins= range(1,61))\n",
    "g.set(ylim=(0, 6), xlim=(0, 60))"
   ]
  },
  {
   "cell_type": "markdown",
   "metadata": {},
   "source": [
    "### Activity: try some of the example recipes from seaborn\n",
    "\n",
    "seaborn [has a great example gallery](https://seaborn.pydata.org/examples/index.html), try some one of their recipes in the cell below."
   ]
  },
  {
   "cell_type": "code",
   "execution_count": null,
   "metadata": {},
   "outputs": [],
   "source": []
  }
 ],
 "metadata": {
  "kernelspec": {
   "display_name": "Python 3",
   "language": "python",
   "name": "python3"
  },
  "language_info": {
   "codemirror_mode": {
    "name": "ipython",
    "version": 3
   },
   "file_extension": ".py",
   "mimetype": "text/x-python",
   "name": "python",
   "nbconvert_exporter": "python",
   "pygments_lexer": "ipython3",
   "version": "3.7.3"
  }
 },
 "nbformat": 4,
 "nbformat_minor": 2
}
