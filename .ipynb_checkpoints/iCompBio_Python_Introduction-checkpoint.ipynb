{
 "cells": [
  {
   "cell_type": "markdown",
   "metadata": {},
   "source": [
    "# Python coding bootcamp, day 1\n",
    "\n",
    "    Caleb Powell\n",
    "    calebadampowell@gmail.com\n",
    "    https://github.com/CapPow\n",
    "    \n",
    "\n",
    "    Dakila Ledesma\n",
    "    bgq527@mocs.utc.edu\n",
    "    https://github.com/bgq527\n",
    "    \n",
    "Materials heavily modified from: http://swcarpentry.github.io/python-novice-inflammation/  \n",
    "  \n",
    "### Objectives\n",
    "_After today, you will be able to:_\n",
    "\n",
    "* Setup a python programming environment\n",
    "    * Python 3\n",
    "    * Jupyter Notebook\n",
    "* Overview of basic datatypes\n",
    "    * String\n",
    "    * Integer\n",
    "    * Float\n",
    "* Understand and use variables\n",
    "* Build and use functions\n",
    "* Use loops for repated tasks\n",
    "* Use Pandas for working with tabular data\n",
    "    * Load a csv and xlsx files\n",
    "    * Select specific data (conditional, exact, and 'contains')\n",
    "* Use python to gather & analyze data\n",
    "    * iDigbio API\n",
    "    * datetime library"
   ]
  },
  {
   "cell_type": "markdown",
   "metadata": {},
   "source": [
    "<a id='variables'></a>\n",
    "## Variables\n",
    "Any Python interpreter can be used as a calculator:"
   ]
  },
  {
   "cell_type": "code",
   "execution_count": 5,
   "metadata": {},
   "outputs": [
    {
     "data": {
      "text/plain": [
       "23"
      ]
     },
     "execution_count": 5,
     "metadata": {},
     "output_type": "execute_result"
    }
   ],
   "source": [
    "3 + 5 * 4\n"
   ]
  },
  {
   "cell_type": "markdown",
   "metadata": {},
   "source": [
    "This is great but not very interesting. To do anything useful with data, we need to [assign](https://swcarpentry.github.io/python-novice-inflammation/reference/#assign) its value to a [variable](https://swcarpentry.github.io/python-novice-inflammation/reference/#variable). In Python, we can assign a value to a variable, using the equals sign `=`. For example, to assign value `60` to a variable `weight_kg`, we would execute:"
   ]
  },
  {
   "cell_type": "code",
   "execution_count": 6,
   "metadata": {},
   "outputs": [],
   "source": [
    "weight_kg = 60\n"
   ]
  },
  {
   "cell_type": "markdown",
   "metadata": {},
   "source": [
    "From now on, whenever we use `weight_kg`, Python will substitute the value we assigned to\n",
    "it. In essence, **a variable is just a name for a value**.\n",
    "\n",
    "In Python, variable names:\n",
    "\n",
    " - can include letters, digits, and underscores\n",
    " - cannot start with a digit\n",
    " - are [case sensitive](https://swcarpentry.github.io/python-novice-inflammation/reference/#case-sensitive).\n",
    "\n",
    "This means that, for example:\n",
    " - `weight0` is a valid variable name, whereas `0weight` is not\n",
    " - `weight` and `Weight` are different variables\n"
   ]
  },
  {
   "cell_type": "markdown",
   "metadata": {},
   "source": [
    "<a id='usingvariables'></a>\n",
    "## Using Variables in Python\n",
    "To display the value of a variable to the screen in Python, we can use the `print` function:\n"
   ]
  },
  {
   "cell_type": "code",
   "execution_count": 7,
   "metadata": {},
   "outputs": [
    {
     "name": "stdout",
     "output_type": "stream",
     "text": [
      "60\n"
     ]
    }
   ],
   "source": [
    "print(weight_kg)"
   ]
  },
  {
   "cell_type": "markdown",
   "metadata": {},
   "source": [
    "We can display multiple things at once using only one `print` command:"
   ]
  },
  {
   "cell_type": "code",
   "execution_count": 8,
   "metadata": {},
   "outputs": [
    {
     "name": "stdout",
     "output_type": "stream",
     "text": [
      "weight in kilograms:  60\n"
     ]
    }
   ],
   "source": [
    "print('weight in kilograms: ', weight_kg)"
   ]
  },
  {
   "cell_type": "markdown",
   "metadata": {},
   "source": [
    "Moreover, we can do arithmetic and use variables right inside the `print` function using an [\"f\" string](https://docs.python.org/3/reference/lexical_analysis.html#f-strings), where we can include python code inside of a string by placing the code inside of `{}`."
   ]
  },
  {
   "cell_type": "code",
   "execution_count": 9,
   "metadata": {},
   "outputs": [
    {
     "name": "stdout",
     "output_type": "stream",
     "text": [
      "60 kg in pounds is: 132.0lbs.\n"
     ]
    }
   ],
   "source": [
    "print(f'{weight_kg} kg in pounds is: {2.2 * weight_kg}lbs.')"
   ]
  },
  {
   "cell_type": "markdown",
   "metadata": {},
   "source": [
    "The above command, however, did not change the value of `weight_kg`:"
   ]
  },
  {
   "cell_type": "code",
   "execution_count": 10,
   "metadata": {},
   "outputs": [
    {
     "name": "stdout",
     "output_type": "stream",
     "text": [
      "60\n"
     ]
    }
   ],
   "source": [
    "print(weight_kg)"
   ]
  },
  {
   "cell_type": "markdown",
   "metadata": {},
   "source": [
    "To change the value of the `weight_kg` variable, we have to\n",
    "**assign** `weight_kg` a new value using the equals `=` sign:"
   ]
  },
  {
   "cell_type": "code",
   "execution_count": 11,
   "metadata": {},
   "outputs": [
    {
     "name": "stdout",
     "output_type": "stream",
     "text": [
      "weight in kilograms is now: 65.0\n"
     ]
    }
   ],
   "source": [
    "weight_kg = 65.0\n",
    "print(f'weight in kilograms is now: {weight_kg}')"
   ]
  },
  {
   "cell_type": "markdown",
   "metadata": {},
   "source": [
    "## Variables as Sticky Notes\n",
    "\n",
    "A variable is analogous to a sticky note with a name written on it:\n",
    "\n",
    "assigning a value to a variable is like putting that sticky note on a particular value.\n",
    "<img src=\"files/assets/python-sticky-note-variables-01.svg\">\n",
    "\n",
    "This means that assigning a value to one variable does **not** change values of other variables. For example, let's store the subject's weight in pounds in its own variable:"
   ]
  },
  {
   "cell_type": "code",
   "execution_count": 12,
   "metadata": {},
   "outputs": [
    {
     "name": "stdout",
     "output_type": "stream",
     "text": [
      "weight in kilograms: 65.0 and in pounds: 143.0\n"
     ]
    }
   ],
   "source": [
    "# There are 2.2 pounds per kilogram\n",
    "weight_lb = 2.2 * weight_kg\n",
    "print(f'weight in kilograms: {weight_kg} and in pounds: {weight_lb}')\n"
   ]
  },
  {
   "cell_type": "markdown",
   "metadata": {},
   "source": [
    "<img src=\"files/assets/python-sticky-note-variables-02.svg\">\n",
    "\n",
    "Let's now change `weight_kg`:\n"
   ]
  },
  {
   "cell_type": "code",
   "execution_count": 13,
   "metadata": {},
   "outputs": [
    {
     "name": "stdout",
     "output_type": "stream",
     "text": [
      "weight in kilograms is now: 100.0 and weight in pounds is still:143.0\n"
     ]
    }
   ],
   "source": [
    "weight_kg = 100.0\n",
    "print(f'weight in kilograms is now: {weight_kg} and weight in pounds is still:{weight_lb}')"
   ]
  },
  {
   "cell_type": "markdown",
   "metadata": {},
   "source": [
    "<img src=\"files/assets/python-sticky-note-variables-03.svg\">\n",
    "\n",
    "Since `weight_lb` doesn't \"remember\" where its value comes from, it is not updated when we change `weight_kg`."
   ]
  },
  {
   "cell_type": "markdown",
   "metadata": {},
   "source": [
    "<a id='typesofdata'></a>\n",
    "## Types Of Data\n",
    "Python knows various types of data. Three common ones are:\n",
    "\n",
    "* integer numbers\n",
    "* floating point numbers, and\n",
    "* strings.\n",
    "\n",
    "In the example above, variable `weight_kg` has an integer value of `60`.\n",
    "To create a variable with a floating point value, we can execute:\n"
   ]
  },
  {
   "cell_type": "code",
   "execution_count": 14,
   "metadata": {},
   "outputs": [],
   "source": [
    "weight_kg = 60.0"
   ]
  },
  {
   "cell_type": "markdown",
   "metadata": {},
   "source": [
    "And to create a string we simply have to add single or double quotes around some text, for example:"
   ]
  },
  {
   "cell_type": "code",
   "execution_count": 15,
   "metadata": {},
   "outputs": [],
   "source": [
    "weight_kg_text = 'weight in kilograms:'"
   ]
  },
  {
   "cell_type": "code",
   "execution_count": 16,
   "metadata": {},
   "outputs": [
    {
     "name": "stdout",
     "output_type": "stream",
     "text": [
      "Type of integer_var: <class 'int'>\n",
      "Type of float_var: <class 'float'>\n",
      "Type of complex_var: <class 'complex'>\n"
     ]
    }
   ],
   "source": [
    "integer_var = 3\n",
    "float_var = 3.1\n",
    "complex_var = 3+2j\n",
    "\n",
    "print(F'Type of integer_var: {type(integer_var)}')\n",
    "print(F'Type of float_var: {type(float_var)}')\n",
    "print(F'Type of complex_var: {type(complex_var)}')"
   ]
  },
  {
   "cell_type": "markdown",
   "metadata": {},
   "source": [
    "#### String"
   ]
  },
  {
   "cell_type": "code",
   "execution_count": 17,
   "metadata": {},
   "outputs": [
    {
     "name": "stdout",
     "output_type": "stream",
     "text": [
      "My whole name is Bob Builder\n"
     ]
    }
   ],
   "source": [
    "first_name = \"Bob\"\n",
    "last_name = \"Builder\"\n",
    "\n",
    "whole_name = first_name + \" \" + last_name\n",
    "print(F'My whole name is {whole_name}')"
   ]
  },
  {
   "cell_type": "markdown",
   "metadata": {},
   "source": [
    "#### Lists\n",
    "\n",
    "Lists are a way to store variables. Lists in Python are quite flexible; they can contain numbers, strings, and even methods."
   ]
  },
  {
   "cell_type": "code",
   "execution_count": 18,
   "metadata": {},
   "outputs": [
    {
     "name": "stdout",
     "output_type": "stream",
     "text": [
      "[-12, -3, 0, 6, 7, 8, 14]\n"
     ]
    }
   ],
   "source": [
    "numbers_list = [8, 6, 7, 14, -3, -12]\n",
    "\n",
    "numbers_list.append(0)\n",
    "numbers_list.sort()\n",
    "\n",
    "print(numbers_list)"
   ]
  },
  {
   "cell_type": "code",
   "execution_count": 19,
   "metadata": {},
   "outputs": [
    {
     "name": "stdout",
     "output_type": "stream",
     "text": [
      "[14, 8, 7, 6, 0, -3, -12]\n"
     ]
    }
   ],
   "source": [
    "numbers_list.reverse()\n",
    "print(numbers_list)"
   ]
  },
  {
   "cell_type": "code",
   "execution_count": 20,
   "metadata": {},
   "outputs": [
    {
     "name": "stdout",
     "output_type": "stream",
     "text": [
      "[14, 8, 6, 0, -3, -12]\n"
     ]
    }
   ],
   "source": [
    "numbers_list.remove(7)\n",
    "print(numbers_list)"
   ]
  },
  {
   "cell_type": "code",
   "execution_count": 21,
   "metadata": {},
   "outputs": [
    {
     "name": "stdout",
     "output_type": "stream",
     "text": [
      "[14, 6, 0, -3, -12]\n"
     ]
    }
   ],
   "source": [
    "del numbers_list[1]\n",
    "print(numbers_list)"
   ]
  },
  {
   "cell_type": "code",
   "execution_count": 22,
   "metadata": {},
   "outputs": [
    {
     "name": "stdout",
     "output_type": "stream",
     "text": [
      "My number = -3\n",
      "Numbers list = [14, 6, 0, -12]\n"
     ]
    }
   ],
   "source": [
    "my_number = numbers_list.pop(3)\n",
    "print(F'My number = {my_number}')\n",
    "print(F'Numbers list = {numbers_list}')"
   ]
  },
  {
   "cell_type": "code",
   "execution_count": 23,
   "metadata": {},
   "outputs": [
    {
     "name": "stdout",
     "output_type": "stream",
     "text": [
      "[14, 6, 0, -12, 14, 6, 0, -12]\n"
     ]
    }
   ],
   "source": [
    "concat_numbers_list = numbers_list + numbers_list\n",
    "print(concat_numbers_list)"
   ]
  },
  {
   "cell_type": "code",
   "execution_count": 24,
   "metadata": {},
   "outputs": [
    {
     "name": "stdout",
     "output_type": "stream",
     "text": [
      "[14, 29, 6, 0, -12]\n"
     ]
    }
   ],
   "source": [
    "numbers_list.insert(1, 29)\n",
    "print(numbers_list)"
   ]
  },
  {
   "cell_type": "code",
   "execution_count": 25,
   "metadata": {},
   "outputs": [
    {
     "name": "stdout",
     "output_type": "stream",
     "text": [
      "[120, 29, 6, 0, -12]\n"
     ]
    }
   ],
   "source": [
    "numbers_list[0] = 120\n",
    "print(numbers_list)"
   ]
  },
  {
   "cell_type": "code",
   "execution_count": 26,
   "metadata": {},
   "outputs": [
    {
     "name": "stdout",
     "output_type": "stream",
     "text": [
      "5\n"
     ]
    }
   ],
   "source": [
    "print(len(numbers_list))"
   ]
  },
  {
   "cell_type": "markdown",
   "metadata": {},
   "source": [
    "#### Tuples\n",
    "\n",
    "Tuples are like lists, however they are *immutable*, meaning that you cannot change the variables within the tuple after it is set (such as removing variables, setting variables, etc.)"
   ]
  },
  {
   "cell_type": "code",
   "execution_count": 27,
   "metadata": {},
   "outputs": [
    {
     "name": "stdout",
     "output_type": "stream",
     "text": [
      "(14, 12, 94)\n"
     ]
    }
   ],
   "source": [
    "numbers_tuple = (14, 12, 94)\n",
    "print(numbers_tuple)"
   ]
  },
  {
   "cell_type": "markdown",
   "metadata": {},
   "source": [
    "#### Dictionaries\n",
    "\n",
    "Dictionaries are like lists, but instead of using indices (e.g. ```number_list[0]```, where ```0``` is the index), you use keys instead."
   ]
  },
  {
   "cell_type": "code",
   "execution_count": 28,
   "metadata": {},
   "outputs": [
    {
     "name": "stdout",
     "output_type": "stream",
     "text": [
      "Bob's name is Bob Builder\n",
      "Bob's gender is male\n"
     ]
    }
   ],
   "source": [
    "information = {'name':'Bob Builder', 'age':55, 'gender':'male'}\n",
    "print(F\"Bob's name is {information['name']}\")\n",
    "print(F\"Bob's gender is {information['gender']}\")"
   ]
  },
  {
   "cell_type": "markdown",
   "metadata": {},
   "source": [
    "### Operators\n",
    "\n",
    "#### Arithmetic\n",
    "|Type|Python|\n",
    "|-----|-----|\n",
    "|Addition|+|\n",
    "|Subtraction|-|\n",
    "|Multiplication|*|\n",
    "|Division|/|\n",
    "|Floor Division|//|\n",
    "|Squared|**|\n",
    "|Modulo|%|"
   ]
  },
  {
   "cell_type": "markdown",
   "metadata": {},
   "source": [
    "#### Logic\n",
    "\n",
    "|Normal|Python|Alternative\n",
    "|-----|-----|-----|\n",
    "|And|and|-|\n",
    "|Or|or|-|\n",
    "|Not|not|!|\n",
    "|More than|>|-|\n",
    "|Less than|<|-|\n",
    "|Equal to|==|-|\n",
    "|Not equal to|!=|-|\n",
    "|More than or equal to|>=|-|\n",
    "|Less than or equal to|<=|-|"
   ]
  },
  {
   "cell_type": "markdown",
   "metadata": {},
   "source": [
    "#### Assignment\n",
    "|Type|Python|\n",
    "|-----|-----|\n",
    "|Assign|=|\n",
    "|Add to|+=|\n",
    "|Subtract to|-=|\n",
    "|Multiply to|*=|\n",
    "|Divide to|/=|\n",
    "|Floor divide to|//=|\n",
    "|Modulo to|%=|\n"
   ]
  },
  {
   "cell_type": "markdown",
   "metadata": {},
   "source": [
    "## Adding Comments to Your Code \n",
    "\n",
    "In python, the `#` symbol tells the interpreter the remainder of that line should be ignored. This is often used to insert comments into code. It is good practice to frequently comment you code, this can help when you, or someone else looks back on it. "
   ]
  },
  {
   "cell_type": "code",
   "execution_count": 29,
   "metadata": {},
   "outputs": [
    {
     "name": "stdout",
     "output_type": "stream",
     "text": [
      "The value of x is still: 25\n"
     ]
    }
   ],
   "source": [
    "# here is one example of an in code comment.\n",
    "x = 5 * 5 # here is another example of an in code comment\n",
    "# notice how the variable assigned is unaffected by the inline comments \n",
    "print(f'The value of x is still: {x}')\n",
    "\n",
    "# sometimes, comments are used to remove unnecessary lines of code which might be useful later.\n",
    "# y = x * 5\n",
    "# print(y)"
   ]
  },
  {
   "cell_type": "markdown",
   "metadata": {},
   "source": [
    "<a id='creatingfunctions'></a>\n",
    "## Creating & Using Functions\n",
    "\n",
    "When learning [how to work with variables](#usingvariables), we converted kilograms to pounds. what if we want to use that code again, on a different dataset or at a different point in our program? Cutting and pasting it is going to make our code get very long and very repetitive, very quickly.\n",
    "\n",
    "We'd like a way to package our code so that it is easier to reuse, and Python provides for this by letting us define things called 'functions' a shorthand way of re-executing longer pieces of code.\n",
    "\n",
    "Let's start by defining a function `fahr_to_celsius` that converts temperatures from Fahrenheit to Celsius:"
   ]
  },
  {
   "cell_type": "code",
   "execution_count": 30,
   "metadata": {},
   "outputs": [],
   "source": [
    "def fahr_to_celsius(temp):\n",
    "    \"\"\" a function which converts fahrenheit to celsius.\n",
    "\n",
    "        Parameters\n",
    "        ----------\n",
    "        temp : integer or float, temperature value in fahrenheit\n",
    "\n",
    "    \"\"\"\n",
    "    return ((temp - 32) * (5/9))"
   ]
  },
  {
   "cell_type": "markdown",
   "metadata": {},
   "source": [
    "<img src=\"files/assets/python-function.svg\">\n",
    "\n",
    "\n",
    "\n",
    "The function definition opens with the keyword `def` followed by the name of the function (`fahr_to_celsius`) and a parenthesized list of parameter names (`temp`). Inside a set of ```\"\"\"``` is a description of the function, and its [parameters](http://swcarpentry.github.io/python-novice-inflammation/reference/#parameters), called a [docstring](http://swcarpentry.github.io/python-novice-inflammation/reference/#docstring). This is information can be accessed later in jupyter notebook using the ```Shift + Tab``` key combination.\n",
    "\n",
    "The [body](http://swcarpentry.github.io/python-novice-inflammation/reference/#body) of the function --- the statements that are executed when it runs --- is indented below the definition line. The body concludes with a `return` keyword followed by the return value.\n",
    "\n",
    "When we call the function, the values we pass to it are assigned to those variables so that we can use them inside the function. Inside the function, we use a [return statement](http://swcarpentry.github.io/python-novice-inflammation/reference/#return-statement) to send a result back to whoever asked for it.\n",
    "\n",
    "Let's try running our function.\n"
   ]
  },
  {
   "cell_type": "code",
   "execution_count": 31,
   "metadata": {},
   "outputs": [
    {
     "name": "stdout",
     "output_type": "stream",
     "text": [
      "freezing point of water: 0.0 C\n"
     ]
    }
   ],
   "source": [
    "freezing_point_celsius = fahr_to_celsius(32)\n",
    "print(f'freezing point of water: {freezing_point_celsius} C')\n"
   ]
  },
  {
   "cell_type": "markdown",
   "metadata": {},
   "source": [
    "This command should call our function, using \"32\" as the input and save the results to the variable called \"freezing_point_celsius.\"\n",
    "\n",
    "In fact, calling our own function is no different from calling any other function:"
   ]
  },
  {
   "cell_type": "code",
   "execution_count": 32,
   "metadata": {},
   "outputs": [
    {
     "name": "stdout",
     "output_type": "stream",
     "text": [
      "boiling point of water: 100.0 C\n"
     ]
    }
   ],
   "source": [
    "boiling_point_celsius = fahr_to_celsius(212)\n",
    "print(f'boiling point of water: {boiling_point_celsius} C')"
   ]
  },
  {
   "cell_type": "markdown",
   "metadata": {},
   "source": [
    "## Exercise, write a `celsius_to_kelvin` function\n",
    "\n",
    "Now that we've seen how to turn Fahrenheit into Celsius, write a function in the code cell below named `celsius_to_kelvin` which converts Celsius into Kelvin.\n",
    "\n",
    "_hint: temperatures in kelvin are converted using_ `k = c + 273.15`"
   ]
  },
  {
   "cell_type": "code",
   "execution_count": null,
   "metadata": {},
   "outputs": [],
   "source": []
  },
  {
   "cell_type": "markdown",
   "metadata": {},
   "source": [
    "## Composing Functions\n",
    "\n",
    "What about converting Fahrenheit to Kelvin? We could write out the formula, but we don't need to. Instead, we can [compose](swcarpentry.github.io/python-novice-inflammation/reference/#compose) the two functions we have already created:"
   ]
  },
  {
   "cell_type": "code",
   "execution_count": null,
   "metadata": {},
   "outputs": [],
   "source": [
    "def fahr_to_kelvin(temp_f):\n",
    "    \"\"\" a function which converts fahrenheit to kelvin.\n",
    "\n",
    "        Parameters\n",
    "        ----------\n",
    "        temp_f : integer or float, temperature value in fahrenheit\n",
    "\n",
    "    \"\"\"\n",
    "    temp_c = fahr_to_celsius(temp_f)\n",
    "    temp_k = celsius_to_kelvin(temp_c)\n",
    "    return temp_k\n",
    "\n",
    "print(f'boiling point of water in Kelvin: {fahr_to_kelvin(212.0)}')"
   ]
  },
  {
   "cell_type": "markdown",
   "metadata": {},
   "source": [
    "<a id='usingloops'></a>\n",
    "## Use loops for repated tasks\n",
    "\n",
    "One major benefit of programming is the automation of redundant tasks. Let's apply what we have already learned to automate the conversion of many temperatures measurements from fahrenheit to celsius. Using a list of temperature we'll use a [for loop](http://swcarpentry.github.io/python-novice-inflammation/reference/#for-loop') to repeat an operation --- in this case, converting fahrenheit to celsius.\n",
    "\n",
    "The general form of a loop is:\n",
    "\n",
    "```python\n",
    "for item in collection:\n",
    "    # do things using variable, such as print\n",
    "```\n",
    "\n",
    "where each `item` in the `collection` is looped through one after another.\n",
    "\n",
    "We can call the [loop variable](http://swcarpentry.github.io/python-novice-inflammation/reference/#loop-variable) anything we like, but there must be a colon at the end of the line starting the loop, and we must indent anything we want to run inside the loop. Unlike many other languages, there is no command to signify the end of the loop body (e.g. `end for`); what is indented after the `for` statement belongs to the loop."
   ]
  },
  {
   "cell_type": "code",
   "execution_count": 34,
   "metadata": {},
   "outputs": [],
   "source": [
    "# create a list of example temperatures\n",
    "temps_in_fahr = [32, 41, 35, 34, 39, 44, 41, 39, 35]\n",
    "\n",
    "for temp in temps_in_fahr:\n",
    "    fahr_to_celsius(temp)"
   ]
  },
  {
   "cell_type": "markdown",
   "metadata": {},
   "source": [
    "After running the loop above, nothing happens. Why?\n",
    "\n",
    "The function `fahr_to_celsius` was run on every item in the list `temps_in_fahr`, yet we neglicted to do anything with the results returned from the. We did not save the output anywhere. Let's try that loop again, but this time save the results into a new list called `temps_in_celsius`."
   ]
  },
  {
   "cell_type": "code",
   "execution_count": 35,
   "metadata": {
    "scrolled": true
   },
   "outputs": [
    {
     "name": "stdout",
     "output_type": "stream",
     "text": [
      "[0.5555555555555556, 5.555555555555555, 1.6666666666666667, 1.1111111111111112, 3.8888888888888893, 6.666666666666667, 5.0, 3.8888888888888893, 1.6666666666666667]\n"
     ]
    }
   ],
   "source": [
    "# create a list of example temperatures\n",
    "temps_in_fahr = [33, 42, 35, 34, 39, 44, 41, 39, 35]\n",
    "\n",
    "# create an empty list to store the converted temperatures\n",
    "temps_in_celsius = []\n",
    "\n",
    "for temp in temps_in_fahr:\n",
    "    temps_in_celsius.append(fahr_to_celsius(temp))\n",
    "\n",
    "# after completing the loop, print the list 'temps_in_celsius'\n",
    "print(temps_in_celsius)"
   ]
  },
  {
   "cell_type": "markdown",
   "metadata": {},
   "source": [
    "## Cleaning up the results\n",
    "\n",
    "The results of the above loop are now being saved to `temps_in_celsius`, but the `5/9` division included in the [fahr_to_celsius function](#creatingfunctions) is producing too many decimal points. \n",
    "\n",
    "There are a few ways to solve this problem, for example: we could add Python's build-in [round() function](https://docs.python.org/3/library/functions.html#round) inside of the loop, or inside of the [fahr_to_celsius function](#creatingfunctions).\n",
    "\n",
    "Using what we have learned about jupyter notebook cells, let's go back up to the [fahr_to_celsius function](#creatingfunctions) and add in the round() function. Making it look something like this:\n",
    "\n",
    "```python\n",
    "def fahr_to_celsius(temp):\n",
    "    \"\"\" a function which converts fahrenheit to celsius.\n",
    "\n",
    "        Parameters\n",
    "        ----------\n",
    "        temp : integer or float, temperature value in fahrenheit\n",
    "\n",
    "    \"\"\"\n",
    "    temp_c = (temp - 32) * (5/9)   \n",
    "    return round(temp_c, 2)\n",
    "```\n",
    "\n",
    "After making your changes, re-run the modified cell (to store those changes) then run the above loop again. If everything is correct, the values in `temps_in_celsius` should have a more appropriate number of decimal places."
   ]
  },
  {
   "cell_type": "markdown",
   "metadata": {},
   "source": [
    "## Using External Libraries\n",
    "\n",
    "While a lot of powerful, general tools such as round() are built into Python, specialized tools built up from these basic units live in [libraries](http://swcarpentry.github.io/python-novice-inflammation/reference/#library) that can be called upon when needed. We will use one of these libraries, called [Pandas](http://pandas.pydata.org/pandas-docs/stable/) to read and manipulate tabular (spreadsheet style) data. There are many ways to find and install external python libaries. The most common method is using `pip` to install packages from the popular \"Python Package Index\" or \"PyPI.\"\n",
    "\n",
    "To check if you already have pip installed, enter the following commmand in your terminal:\n",
    "\n",
    "```\n",
    "pip --version\n",
    "```\n",
    "\n",
    "If you cannot install packages using pip, you may need to install it. Detailed instructions are [available here] (https://packaging.python.org/tutorials/installing-packages/#ensure-you-can-run-pip-from-the-command-line).\n",
    "\n",
    "Once pip is available enter the following command into your terminal to install pandas:\n",
    "\n",
    "```\n",
    "pip install pandas\n",
    "```\n",
    "\n",
    "\n",
    "## Loading Data Into Python\n",
    "\n",
    "To access Pandas' functions, we need to [import](http://swcarpentry.github.io/python-novice-inflammation/reference/#import) the library into our script. Imports usually look like this:\n",
    "\n",
    "```python\n",
    "import library_name\n",
    "```\n",
    "Where the library's functions are available following the library name. For example:\n",
    "\n",
    "```python\n",
    "library_name.function_name()\n",
    "```\n",
    "\n",
    "Sometimes you'll see users import pandas and assign it a shorter variable name, like this:\n",
    "```python\n",
    "import pandas as pd\n",
    "```\n",
    "\n",
    "When this is done, the library would be accessed as:\n",
    "```python\n",
    "pd.some_function()\n",
    "```"
   ]
  },
  {
   "cell_type": "code",
   "execution_count": 36,
   "metadata": {},
   "outputs": [],
   "source": [
    "# for simplicity we'll stick to the default name pandas.\n",
    "import pandas"
   ]
  },
  {
   "cell_type": "markdown",
   "metadata": {},
   "source": [
    "To practice using tabular data in python, we'll be using an data from Christie Aschwanden's [\"You Cant Trust What You Read About Nutrition\"](https://fivethirtyeight.com/features/you-cant-trust-what-you-read-about-nutrition/). Pandas can [read and write to many tabular formats](https://pandas.pydata.org/pandas-docs/stable/user_guide/io.html), including csv files. While it is most common to read a csv which is already on your hard drive, it is also possible for pandas to read a csv directly from the internet. \n",
    "\n",
    "Since tabular data loaded into pandas is called a [\"DataFrame\"](https://pandas.pydata.org/pandas-docs/stable/reference/api/pandas.DataFrame.html), users often use \"df\" as a variable name for a DataFrame loaded into pandas. For clarity, we will use the more descriptive variable name: \"nutrition_data\" for our dataframe."
   ]
  },
  {
   "cell_type": "code",
   "execution_count": 37,
   "metadata": {
    "scrolled": false
   },
   "outputs": [
    {
     "data": {
      "text/html": [
       "<div>\n",
       "<style scoped>\n",
       "    .dataframe tbody tr th:only-of-type {\n",
       "        vertical-align: middle;\n",
       "    }\n",
       "\n",
       "    .dataframe tbody tr th {\n",
       "        vertical-align: top;\n",
       "    }\n",
       "\n",
       "    .dataframe thead th {\n",
       "        text-align: right;\n",
       "    }\n",
       "</style>\n",
       "<table border=\"1\" class=\"dataframe\">\n",
       "  <thead>\n",
       "    <tr style=\"text-align: right;\">\n",
       "      <th></th>\n",
       "      <th>ID</th>\n",
       "      <th>cancer</th>\n",
       "      <th>diabetes</th>\n",
       "      <th>heart_disease</th>\n",
       "      <th>belly</th>\n",
       "      <th>ever_smoked</th>\n",
       "      <th>currently_smoke</th>\n",
       "      <th>smoke_often</th>\n",
       "      <th>smoke_rarely</th>\n",
       "      <th>never_smoked</th>\n",
       "      <th>...</th>\n",
       "      <th>DT_FIBER_INSOL</th>\n",
       "      <th>DT_FIBER_SOL</th>\n",
       "      <th>DT_PROT_ANIMAL</th>\n",
       "      <th>DT_PROT_VEGETABLE</th>\n",
       "      <th>DT_NITROGEN</th>\n",
       "      <th>PHYTIC_ACID</th>\n",
       "      <th>OXALIC_ACID</th>\n",
       "      <th>COUMESTROL</th>\n",
       "      <th>BIOCHANIN_A</th>\n",
       "      <th>FORMONONETIN</th>\n",
       "    </tr>\n",
       "  </thead>\n",
       "  <tbody>\n",
       "    <tr>\n",
       "      <th>32</th>\n",
       "      <td>1076</td>\n",
       "      <td>No</td>\n",
       "      <td>No</td>\n",
       "      <td>No</td>\n",
       "      <td>Innie</td>\n",
       "      <td>No</td>\n",
       "      <td>No</td>\n",
       "      <td>No</td>\n",
       "      <td>No</td>\n",
       "      <td>Yes</td>\n",
       "      <td>...</td>\n",
       "      <td>13.48</td>\n",
       "      <td>4.90</td>\n",
       "      <td>54.00</td>\n",
       "      <td>30.38</td>\n",
       "      <td>13.59</td>\n",
       "      <td>606.28</td>\n",
       "      <td>331.64</td>\n",
       "      <td>0.0901</td>\n",
       "      <td>0.0834</td>\n",
       "      <td>0.0121</td>\n",
       "    </tr>\n",
       "    <tr>\n",
       "      <th>51</th>\n",
       "      <td>1044</td>\n",
       "      <td>Yes</td>\n",
       "      <td>No</td>\n",
       "      <td>No</td>\n",
       "      <td>Innie</td>\n",
       "      <td>No</td>\n",
       "      <td>No</td>\n",
       "      <td>No</td>\n",
       "      <td>No</td>\n",
       "      <td>Yes</td>\n",
       "      <td>...</td>\n",
       "      <td>15.49</td>\n",
       "      <td>6.10</td>\n",
       "      <td>72.33</td>\n",
       "      <td>26.23</td>\n",
       "      <td>15.91</td>\n",
       "      <td>659.28</td>\n",
       "      <td>212.16</td>\n",
       "      <td>0.0431</td>\n",
       "      <td>0.0844</td>\n",
       "      <td>0.0203</td>\n",
       "    </tr>\n",
       "    <tr>\n",
       "      <th>3</th>\n",
       "      <td>1166</td>\n",
       "      <td>No</td>\n",
       "      <td>No</td>\n",
       "      <td>No</td>\n",
       "      <td>Innie</td>\n",
       "      <td>No</td>\n",
       "      <td>No</td>\n",
       "      <td>No</td>\n",
       "      <td>No</td>\n",
       "      <td>Yes</td>\n",
       "      <td>...</td>\n",
       "      <td>26.34</td>\n",
       "      <td>10.85</td>\n",
       "      <td>28.71</td>\n",
       "      <td>44.59</td>\n",
       "      <td>12.15</td>\n",
       "      <td>1570.07</td>\n",
       "      <td>334.08</td>\n",
       "      <td>0.2830</td>\n",
       "      <td>0.0890</td>\n",
       "      <td>0.0126</td>\n",
       "    </tr>\n",
       "  </tbody>\n",
       "</table>\n",
       "<p>3 rows × 1093 columns</p>\n",
       "</div>"
      ],
      "text/plain": [
       "      ID cancer diabetes heart_disease  belly ever_smoked currently_smoke  \\\n",
       "32  1076     No       No            No  Innie          No              No   \n",
       "51  1044    Yes       No            No  Innie          No              No   \n",
       "3   1166     No       No            No  Innie          No              No   \n",
       "\n",
       "   smoke_often smoke_rarely never_smoked  ... DT_FIBER_INSOL DT_FIBER_SOL  \\\n",
       "32          No           No          Yes  ...          13.48         4.90   \n",
       "51          No           No          Yes  ...          15.49         6.10   \n",
       "3           No           No          Yes  ...          26.34        10.85   \n",
       "\n",
       "   DT_PROT_ANIMAL DT_PROT_VEGETABLE DT_NITROGEN PHYTIC_ACID OXALIC_ACID  \\\n",
       "32          54.00             30.38       13.59      606.28      331.64   \n",
       "51          72.33             26.23       15.91      659.28      212.16   \n",
       "3           28.71             44.59       12.15     1570.07      334.08   \n",
       "\n",
       "   COUMESTROL BIOCHANIN_A FORMONONETIN  \n",
       "32     0.0901      0.0834       0.0121  \n",
       "51     0.0431      0.0844       0.0203  \n",
       "3      0.2830      0.0890       0.0126  \n",
       "\n",
       "[3 rows x 1093 columns]"
      ]
     },
     "metadata": {},
     "output_type": "display_data"
    },
    {
     "name": "stdout",
     "output_type": "stream",
     "text": [
      "the data is shaped as: (54, 1093)\n"
     ]
    }
   ],
   "source": [
    "# Set the data source URL to a variable\n",
    "url = 'https://raw.githubusercontent.com/fivethirtyeight/data/master/nutrition-studies/raw_anonymized_data.csv'\n",
    "# Read the csv available at that URL, as a DataFrame\n",
    "nutrition_data = pandas.read_csv(url)\n",
    "\n",
    "# Display a small portion of the data to spot check it.\n",
    "# Two things to notice here: \n",
    "    # First, nutrition_data.sample(3) chooses 3 random rows\n",
    "    # Second, we used \"display\" instead of \"print.\" \n",
    "    # Display is only for jupyter notebooks and prints things with better formatting.\n",
    "display(nutrition_data.sample(3))\n",
    "\n",
    "# the \"shape\" of a dataframe is an attribute which describes the total rows, and columns present.\n",
    "print(f'the data is shaped as: {nutrition_data.shape}')"
   ]
  },
  {
   "cell_type": "markdown",
   "metadata": {},
   "source": [
    "## Selecting Data in a Pandas DataFrame\n",
    "\n",
    "Pandas has many ways to select subsets of data, such as by position, by Condition, or by a combination. Below are a series of examples selecting specific subsets of data from the dataframe."
   ]
  },
  {
   "cell_type": "code",
   "execution_count": 38,
   "metadata": {
    "scrolled": false
   },
   "outputs": [
    {
     "data": {
      "text/plain": [
       "53     No\n",
       "8      No\n",
       "23    Yes\n",
       "Name: currently_smoke, dtype: object"
      ]
     },
     "metadata": {},
     "output_type": "display_data"
    },
    {
     "data": {
      "text/plain": [
       "GI                                                  34.74\n",
       "CARROTSQUAN                                             2\n",
       "GROUP_CAFE_LECHE_1_PCT_OR_2_PCT_MILK_TOTAL_GRAMS        0\n",
       "Name: 0, dtype: object"
      ]
     },
     "metadata": {},
     "output_type": "display_data"
    },
    {
     "data": {
      "text/html": [
       "<div>\n",
       "<style scoped>\n",
       "    .dataframe tbody tr th:only-of-type {\n",
       "        vertical-align: middle;\n",
       "    }\n",
       "\n",
       "    .dataframe tbody tr th {\n",
       "        vertical-align: top;\n",
       "    }\n",
       "\n",
       "    .dataframe thead th {\n",
       "        text-align: right;\n",
       "    }\n",
       "</style>\n",
       "<table border=\"1\" class=\"dataframe\">\n",
       "  <thead>\n",
       "    <tr style=\"text-align: right;\">\n",
       "      <th></th>\n",
       "      <th>ID</th>\n",
       "      <th>cancer</th>\n",
       "      <th>diabetes</th>\n",
       "      <th>heart_disease</th>\n",
       "      <th>belly</th>\n",
       "      <th>ever_smoked</th>\n",
       "      <th>currently_smoke</th>\n",
       "      <th>smoke_often</th>\n",
       "      <th>smoke_rarely</th>\n",
       "      <th>never_smoked</th>\n",
       "      <th>...</th>\n",
       "      <th>DT_FIBER_INSOL</th>\n",
       "      <th>DT_FIBER_SOL</th>\n",
       "      <th>DT_PROT_ANIMAL</th>\n",
       "      <th>DT_PROT_VEGETABLE</th>\n",
       "      <th>DT_NITROGEN</th>\n",
       "      <th>PHYTIC_ACID</th>\n",
       "      <th>OXALIC_ACID</th>\n",
       "      <th>COUMESTROL</th>\n",
       "      <th>BIOCHANIN_A</th>\n",
       "      <th>FORMONONETIN</th>\n",
       "    </tr>\n",
       "  </thead>\n",
       "  <tbody>\n",
       "    <tr>\n",
       "      <th>1</th>\n",
       "      <td>1053</td>\n",
       "      <td>No</td>\n",
       "      <td>Yes</td>\n",
       "      <td>Yes</td>\n",
       "      <td>Outie</td>\n",
       "      <td>Yes</td>\n",
       "      <td>Yes</td>\n",
       "      <td>No</td>\n",
       "      <td>Yes</td>\n",
       "      <td>No</td>\n",
       "      <td>...</td>\n",
       "      <td>9.11</td>\n",
       "      <td>3.37</td>\n",
       "      <td>59.41</td>\n",
       "      <td>18.25</td>\n",
       "      <td>12.51</td>\n",
       "      <td>434.98</td>\n",
       "      <td>112.66</td>\n",
       "      <td>0.0107</td>\n",
       "      <td>0.1390</td>\n",
       "      <td>0.00743</td>\n",
       "    </tr>\n",
       "    <tr>\n",
       "      <th>22</th>\n",
       "      <td>1146</td>\n",
       "      <td>No</td>\n",
       "      <td>No</td>\n",
       "      <td>No</td>\n",
       "      <td>Outie</td>\n",
       "      <td>No</td>\n",
       "      <td>No</td>\n",
       "      <td>No</td>\n",
       "      <td>No</td>\n",
       "      <td>Yes</td>\n",
       "      <td>...</td>\n",
       "      <td>15.36</td>\n",
       "      <td>5.71</td>\n",
       "      <td>47.25</td>\n",
       "      <td>28.81</td>\n",
       "      <td>12.03</td>\n",
       "      <td>629.62</td>\n",
       "      <td>395.82</td>\n",
       "      <td>0.0687</td>\n",
       "      <td>0.1130</td>\n",
       "      <td>0.01670</td>\n",
       "    </tr>\n",
       "    <tr>\n",
       "      <th>34</th>\n",
       "      <td>1177</td>\n",
       "      <td>No</td>\n",
       "      <td>Yes</td>\n",
       "      <td>No</td>\n",
       "      <td>Outie</td>\n",
       "      <td>No</td>\n",
       "      <td>No</td>\n",
       "      <td>No</td>\n",
       "      <td>No</td>\n",
       "      <td>Yes</td>\n",
       "      <td>...</td>\n",
       "      <td>10.72</td>\n",
       "      <td>4.66</td>\n",
       "      <td>28.62</td>\n",
       "      <td>18.40</td>\n",
       "      <td>7.43</td>\n",
       "      <td>558.89</td>\n",
       "      <td>155.55</td>\n",
       "      <td>0.2750</td>\n",
       "      <td>0.0549</td>\n",
       "      <td>0.01580</td>\n",
       "    </tr>\n",
       "  </tbody>\n",
       "</table>\n",
       "<p>3 rows × 1093 columns</p>\n",
       "</div>"
      ],
      "text/plain": [
       "      ID cancer diabetes heart_disease  belly ever_smoked currently_smoke  \\\n",
       "1   1053     No      Yes           Yes  Outie         Yes             Yes   \n",
       "22  1146     No       No            No  Outie          No              No   \n",
       "34  1177     No      Yes            No  Outie          No              No   \n",
       "\n",
       "   smoke_often smoke_rarely never_smoked  ... DT_FIBER_INSOL DT_FIBER_SOL  \\\n",
       "1           No          Yes           No  ...           9.11         3.37   \n",
       "22          No           No          Yes  ...          15.36         5.71   \n",
       "34          No           No          Yes  ...          10.72         4.66   \n",
       "\n",
       "   DT_PROT_ANIMAL DT_PROT_VEGETABLE DT_NITROGEN PHYTIC_ACID OXALIC_ACID  \\\n",
       "1           59.41             18.25       12.51      434.98      112.66   \n",
       "22          47.25             28.81       12.03      629.62      395.82   \n",
       "34          28.62             18.40        7.43      558.89      155.55   \n",
       "\n",
       "   COUMESTROL BIOCHANIN_A FORMONONETIN  \n",
       "1      0.0107      0.1390      0.00743  \n",
       "22     0.0687      0.1130      0.01670  \n",
       "34     0.2750      0.0549      0.01580  \n",
       "\n",
       "[3 rows x 1093 columns]"
      ]
     },
     "metadata": {},
     "output_type": "display_data"
    },
    {
     "data": {
      "text/html": [
       "<div>\n",
       "<style scoped>\n",
       "    .dataframe tbody tr th:only-of-type {\n",
       "        vertical-align: middle;\n",
       "    }\n",
       "\n",
       "    .dataframe tbody tr th {\n",
       "        vertical-align: top;\n",
       "    }\n",
       "\n",
       "    .dataframe thead th {\n",
       "        text-align: right;\n",
       "    }\n",
       "</style>\n",
       "<table border=\"1\" class=\"dataframe\">\n",
       "  <thead>\n",
       "    <tr style=\"text-align: right;\">\n",
       "      <th></th>\n",
       "      <th>ID</th>\n",
       "      <th>cancer</th>\n",
       "      <th>diabetes</th>\n",
       "      <th>heart_disease</th>\n",
       "      <th>belly</th>\n",
       "      <th>ever_smoked</th>\n",
       "      <th>currently_smoke</th>\n",
       "      <th>smoke_often</th>\n",
       "      <th>smoke_rarely</th>\n",
       "      <th>never_smoked</th>\n",
       "      <th>...</th>\n",
       "      <th>DT_FIBER_INSOL</th>\n",
       "      <th>DT_FIBER_SOL</th>\n",
       "      <th>DT_PROT_ANIMAL</th>\n",
       "      <th>DT_PROT_VEGETABLE</th>\n",
       "      <th>DT_NITROGEN</th>\n",
       "      <th>PHYTIC_ACID</th>\n",
       "      <th>OXALIC_ACID</th>\n",
       "      <th>COUMESTROL</th>\n",
       "      <th>BIOCHANIN_A</th>\n",
       "      <th>FORMONONETIN</th>\n",
       "    </tr>\n",
       "  </thead>\n",
       "  <tbody>\n",
       "    <tr>\n",
       "      <th>15</th>\n",
       "      <td>1105</td>\n",
       "      <td>No</td>\n",
       "      <td>No</td>\n",
       "      <td>Yes</td>\n",
       "      <td>Innie</td>\n",
       "      <td>No</td>\n",
       "      <td>No</td>\n",
       "      <td>No</td>\n",
       "      <td>No</td>\n",
       "      <td>Yes</td>\n",
       "      <td>...</td>\n",
       "      <td>15.68</td>\n",
       "      <td>5.46</td>\n",
       "      <td>54.77</td>\n",
       "      <td>29.75</td>\n",
       "      <td>13.63</td>\n",
       "      <td>633.68</td>\n",
       "      <td>291.90</td>\n",
       "      <td>0.1470</td>\n",
       "      <td>0.0746</td>\n",
       "      <td>0.00616</td>\n",
       "    </tr>\n",
       "    <tr>\n",
       "      <th>43</th>\n",
       "      <td>1019</td>\n",
       "      <td>Yes</td>\n",
       "      <td>No</td>\n",
       "      <td>No</td>\n",
       "      <td>Innie</td>\n",
       "      <td>No</td>\n",
       "      <td>No</td>\n",
       "      <td>No</td>\n",
       "      <td>No</td>\n",
       "      <td>Yes</td>\n",
       "      <td>...</td>\n",
       "      <td>11.19</td>\n",
       "      <td>3.13</td>\n",
       "      <td>53.00</td>\n",
       "      <td>14.89</td>\n",
       "      <td>10.92</td>\n",
       "      <td>225.80</td>\n",
       "      <td>338.43</td>\n",
       "      <td>0.0126</td>\n",
       "      <td>0.0868</td>\n",
       "      <td>0.00728</td>\n",
       "    </tr>\n",
       "    <tr>\n",
       "      <th>46</th>\n",
       "      <td>1002</td>\n",
       "      <td>No</td>\n",
       "      <td>No</td>\n",
       "      <td>No</td>\n",
       "      <td>Innie</td>\n",
       "      <td>No</td>\n",
       "      <td>No</td>\n",
       "      <td>No</td>\n",
       "      <td>No</td>\n",
       "      <td>Yes</td>\n",
       "      <td>...</td>\n",
       "      <td>30.75</td>\n",
       "      <td>11.35</td>\n",
       "      <td>68.53</td>\n",
       "      <td>45.88</td>\n",
       "      <td>18.41</td>\n",
       "      <td>1108.32</td>\n",
       "      <td>743.68</td>\n",
       "      <td>0.2330</td>\n",
       "      <td>0.2200</td>\n",
       "      <td>0.04280</td>\n",
       "    </tr>\n",
       "  </tbody>\n",
       "</table>\n",
       "<p>3 rows × 1093 columns</p>\n",
       "</div>"
      ],
      "text/plain": [
       "      ID cancer diabetes heart_disease  belly ever_smoked currently_smoke  \\\n",
       "15  1105     No       No           Yes  Innie          No              No   \n",
       "43  1019    Yes       No            No  Innie          No              No   \n",
       "46  1002     No       No            No  Innie          No              No   \n",
       "\n",
       "   smoke_often smoke_rarely never_smoked  ... DT_FIBER_INSOL DT_FIBER_SOL  \\\n",
       "15          No           No          Yes  ...          15.68         5.46   \n",
       "43          No           No          Yes  ...          11.19         3.13   \n",
       "46          No           No          Yes  ...          30.75        11.35   \n",
       "\n",
       "   DT_PROT_ANIMAL DT_PROT_VEGETABLE DT_NITROGEN PHYTIC_ACID OXALIC_ACID  \\\n",
       "15          54.77             29.75       13.63      633.68      291.90   \n",
       "43          53.00             14.89       10.92      225.80      338.43   \n",
       "46          68.53             45.88       18.41     1108.32      743.68   \n",
       "\n",
       "   COUMESTROL BIOCHANIN_A FORMONONETIN  \n",
       "15     0.1470      0.0746      0.00616  \n",
       "43     0.0126      0.0868      0.00728  \n",
       "46     0.2330      0.2200      0.04280  \n",
       "\n",
       "[3 rows x 1093 columns]"
      ]
     },
     "metadata": {},
     "output_type": "display_data"
    }
   ],
   "source": [
    "# select all the data for a single column, by the name of that column\n",
    "current_smoker = nutrition_data['currently_smoke']\n",
    "# display a small sample of the 'currently_smoke' column's data.\n",
    "display(current_smoker.sample(3))\n",
    "\n",
    "# select all the data for a single row, by the row number.\n",
    "# more details at: https://pandas.pydata.org/pandas-docs/stable/reference/api/pandas.DataFrame.iloc.html\n",
    "first_respondant = nutrition_data.iloc[0]\n",
    "# displaying all a sample of the first responder's answers.\n",
    "display(first_respondant.sample(3))\n",
    "\n",
    "# select based on condition. In this case, those paitents with \"Outie\" belly buttons.\n",
    "outies = nutrition_data[nutrition_data['belly'] == 'Outie']\n",
    "display(outies.sample(3))\n",
    "\n",
    "# select based on multiple conditions, such as: \n",
    "    # consuming cabbage more than 5 times a week, and having a a cat.\n",
    "condition_1 = nutrition_data['CABBAGEFREQ'] > 5\n",
    "condition_2 = nutrition_data['cat'] == 'Yes'\n",
    "\n",
    "cabbage_cats = nutrition_data[condition_1 & condition_2]\n",
    "display(cabbage_cats.sample(3))"
   ]
  },
  {
   "cell_type": "markdown",
   "metadata": {},
   "source": [
    "## Hypothesis Testing\n",
    "\n",
    "Now that we can load tabular data into python using pandas, and we can select subsets of that data. Let's use what we have learned to test a hypothesis. In this example, we will test if there is a significant difference in coffee consumption those with and without a history of heart disease. To do this test, we will use the `stats` functions available in the external library `scipy`. \n",
    "\n",
    "This starts with importing those functions."
   ]
  },
  {
   "cell_type": "code",
   "execution_count": 39,
   "metadata": {},
   "outputs": [],
   "source": [
    "# we're importing the stats functions of the larger library called scipy\n",
    "from scipy import stats"
   ]
  },
  {
   "cell_type": "markdown",
   "metadata": {},
   "source": [
    "To run this statistical test, we will make variables for the population subsets we are interested in, by saving the results of conditional selections to descriptive variable names."
   ]
  },
  {
   "cell_type": "code",
   "execution_count": 40,
   "metadata": {},
   "outputs": [
    {
     "name": "stdout",
     "output_type": "stream",
     "text": [
      "heart_disease_yes group drinks 2.75 cups of coffee a week.\n",
      "heart_disease_no group drinks 2.323529411764706 cups of coffee a week.\n"
     ]
    }
   ],
   "source": [
    "heart_disease_yes = nutrition_data[nutrition_data['heart_disease'] == 'Yes']\n",
    "print(f'heart_disease_yes group drinks {heart_disease_yes[\"COFFEEDRINKSFREQ\"].mean()} cups of coffee a week.')\n",
    "\n",
    "heart_disease_no = nutrition_data[nutrition_data['heart_disease'] == 'No']\n",
    "print(f'heart_disease_no group drinks {heart_disease_no[\"COFFEEDRINKSFREQ\"].mean()} cups of coffee a week.')"
   ]
  },
  {
   "cell_type": "markdown",
   "metadata": {},
   "source": [
    "Now that we have determined our subsets, we need to verify that the subsets meet the assumptions for a ttest. To do this, we will start with a [levene](https://docs.scipy.org/doc/scipy/reference/generated/scipy.stats.levene.html) test for homogeneity of variances."
   ]
  },
  {
   "cell_type": "code",
   "execution_count": 41,
   "metadata": {},
   "outputs": [
    {
     "name": "stdout",
     "output_type": "stream",
     "text": [
      "LeveneResult(statistic=0.5534421183980399, pvalue=0.46026317254784666)\n"
     ]
    }
   ],
   "source": [
    "levene_results = stats.levene(heart_disease_yes['COFFEEDRINKSFREQ'], heart_disease_no['COFFEEDRINKSFREQ'])\n",
    "print(levene_results)"
   ]
  },
  {
   "cell_type": "markdown",
   "metadata": {},
   "source": [
    "The test is not significant meaning the subsets have similar variances, so we can proceed. Next we must verify that both subsets are normally distributed. Using what we've [learned about loops](#usingloops), we will run a [normal distribution test](https://docs.scipy.org/doc/scipy/reference/generated/scipy.stats.normaltest.html) on each subset. "
   ]
  },
  {
   "cell_type": "code",
   "execution_count": 42,
   "metadata": {},
   "outputs": [
    {
     "name": "stdout",
     "output_type": "stream",
     "text": [
      "(20,)\n",
      "NormaltestResult(statistic=9.049196953467886, pvalue=0.010839065699871767)\n",
      "(34,)\n",
      "NormaltestResult(statistic=17.95538580507401, pvalue=0.00012619365297101605)\n"
     ]
    }
   ],
   "source": [
    "for subset in [heart_disease_yes['COFFEEDRINKSFREQ'], heart_disease_no['COFFEEDRINKSFREQ']]:\n",
    "    #Check the shape, and normal distribution of both groups using a loop.\n",
    "    print(subset.shape)\n",
    "    normalResults = stats.normaltest(subset)\n",
    "    print(normalResults)"
   ]
  },
  {
   "cell_type": "markdown",
   "metadata": {},
   "source": [
    "Both subsets are normally distributed, meaning we have satisfied the assusmptions and can run the independent t-test."
   ]
  },
  {
   "cell_type": "code",
   "execution_count": 43,
   "metadata": {},
   "outputs": [
    {
     "name": "stdout",
     "output_type": "stream",
     "text": [
      "The t-statistic was 0.6969408404074194, with a p-value of 0.4889439550183742\n"
     ]
    }
   ],
   "source": [
    "# stats.ttest returns a tuple of the calculated t-statistic, and the p-value as (t, p)\n",
    "# assign both variables in one statement:\n",
    "\n",
    "t, p = stats.ttest_ind(heart_disease_yes['COFFEEDRINKSFREQ'], heart_disease_no['COFFEEDRINKSFREQ'])\n",
    "print(f'The t-statistic was {t}, with a p-value of {p}')"
   ]
  },
  {
   "cell_type": "markdown",
   "metadata": {},
   "source": [
    "# Morel hunting example\n",
    "<a id='query'></a>\n",
    "\n",
    "For the next section, we will answer a real life question using a third party library. [iDigBio ](https://www.idigbio.org/portal) aggregates biodiversiy data from natural history collections. In this example, we'll use their python library to help determine the best time of year to go hunting for a popular gourmet mushroom, morels. Morels are typically wild harvested and notoriously ephemeral, meaning they are only around for brief period making timing very important.\n",
    "\n",
    "<img src=\"files/assets/morel.jpg\">\n",
    "\n",
    "To start with, we'll install the new library 'idigbio' using the pip command which gathers libraries from the [Python Package Index](https://pypi.org/) or \"PyPI\""
   ]
  },
  {
   "cell_type": "code",
   "execution_count": 44,
   "metadata": {},
   "outputs": [
    {
     "name": "stdout",
     "output_type": "stream",
     "text": [
      "Requirement already satisfied: idigbio in /usr/lib/python3.7/site-packages (0.8.5)\n",
      "Requirement already satisfied: requests in /usr/lib/python3.7/site-packages (from idigbio) (2.22.0)\n",
      "Requirement already satisfied: certifi>=2017.4.17 in /usr/lib/python3.7/site-packages (from requests->idigbio) (2019.3.9)\n",
      "Requirement already satisfied: idna<2.9,>=2.5 in /usr/lib/python3.7/site-packages (from requests->idigbio) (2.8)\n",
      "Requirement already satisfied: chardet<3.1.0,>=3.0.2 in /usr/lib/python3.7/site-packages (from requests->idigbio) (3.0.4)\n",
      "Requirement already satisfied: urllib3!=1.25.0,!=1.25.1,<1.26,>=1.21.1 in /usr/lib/python3.7/site-packages (from requests->idigbio) (1.25.3)\n",
      "Note: you may need to restart the kernel to use updated packages.\n"
     ]
    }
   ],
   "source": [
    "pip install idigbio"
   ]
  },
  {
   "cell_type": "code",
   "execution_count": 45,
   "metadata": {},
   "outputs": [
    {
     "name": "stdout",
     "output_type": "stream",
     "text": [
      "119 rows, and 46 columns returned.\n"
     ]
    },
    {
     "data": {
      "text/html": [
       "<div>\n",
       "<style scoped>\n",
       "    .dataframe tbody tr th:only-of-type {\n",
       "        vertical-align: middle;\n",
       "    }\n",
       "\n",
       "    .dataframe tbody tr th {\n",
       "        vertical-align: top;\n",
       "    }\n",
       "\n",
       "    .dataframe thead th {\n",
       "        text-align: right;\n",
       "    }\n",
       "</style>\n",
       "<table border=\"1\" class=\"dataframe\">\n",
       "  <thead>\n",
       "    <tr style=\"text-align: right;\">\n",
       "      <th></th>\n",
       "      <th>basisofrecord</th>\n",
       "      <th>canonicalname</th>\n",
       "      <th>catalognumber</th>\n",
       "      <th>class</th>\n",
       "      <th>collectioncode</th>\n",
       "      <th>collectionid</th>\n",
       "      <th>collector</th>\n",
       "      <th>continent</th>\n",
       "      <th>coordinateuncertainty</th>\n",
       "      <th>country</th>\n",
       "      <th>...</th>\n",
       "      <th>recordnumber</th>\n",
       "      <th>recordset</th>\n",
       "      <th>scientificname</th>\n",
       "      <th>specificepithet</th>\n",
       "      <th>startdayofyear</th>\n",
       "      <th>stateprovince</th>\n",
       "      <th>taxonid</th>\n",
       "      <th>taxonomicstatus</th>\n",
       "      <th>taxonrank</th>\n",
       "      <th>verbatimeventdate</th>\n",
       "    </tr>\n",
       "    <tr>\n",
       "      <th>uuid</th>\n",
       "      <th></th>\n",
       "      <th></th>\n",
       "      <th></th>\n",
       "      <th></th>\n",
       "      <th></th>\n",
       "      <th></th>\n",
       "      <th></th>\n",
       "      <th></th>\n",
       "      <th></th>\n",
       "      <th></th>\n",
       "      <th></th>\n",
       "      <th></th>\n",
       "      <th></th>\n",
       "      <th></th>\n",
       "      <th></th>\n",
       "      <th></th>\n",
       "      <th></th>\n",
       "      <th></th>\n",
       "      <th></th>\n",
       "      <th></th>\n",
       "      <th></th>\n",
       "    </tr>\n",
       "  </thead>\n",
       "  <tbody>\n",
       "    <tr>\n",
       "      <th>6a440fbc-9d30-434f-b18f-48a4c9abf936</th>\n",
       "      <td>preservedspecimen</td>\n",
       "      <td>morchella conica</td>\n",
       "      <td>tenn-f-004141</td>\n",
       "      <td>pezizomycetes</td>\n",
       "      <td>tenn-f</td>\n",
       "      <td>97e2d271-3744-48a3-92b5-5a86afbfb01d</td>\n",
       "      <td>l.r. hesler</td>\n",
       "      <td>north america</td>\n",
       "      <td>NaN</td>\n",
       "      <td>united states</td>\n",
       "      <td>...</td>\n",
       "      <td>NaN</td>\n",
       "      <td>04d9b721-259c-4d6b-b48f-2e23edf66c9f</td>\n",
       "      <td>morchella conica</td>\n",
       "      <td>conica</td>\n",
       "      <td>77.0</td>\n",
       "      <td>tennessee</td>\n",
       "      <td>9014337</td>\n",
       "      <td>accepted</td>\n",
       "      <td>species</td>\n",
       "      <td>NaN</td>\n",
       "    </tr>\n",
       "    <tr>\n",
       "      <th>29f4be1a-ffbf-4bf7-b606-dad9203884b2</th>\n",
       "      <td>preservedspecimen</td>\n",
       "      <td>morchella angusticeps</td>\n",
       "      <td>rms0000938</td>\n",
       "      <td>pezizomycetes</td>\n",
       "      <td>NaN</td>\n",
       "      <td>53b69cf0-a097-4840-91ed-a1eb33f8ded2</td>\n",
       "      <td>l. r. hesler</td>\n",
       "      <td>north america</td>\n",
       "      <td>NaN</td>\n",
       "      <td>united states</td>\n",
       "      <td>...</td>\n",
       "      <td>NaN</td>\n",
       "      <td>9a06cc34-be24-4ebf-b599-cbb1d4b8ac7b</td>\n",
       "      <td>morchella angusticeps</td>\n",
       "      <td>angusticeps</td>\n",
       "      <td>77.0</td>\n",
       "      <td>tennessee</td>\n",
       "      <td>2594624</td>\n",
       "      <td>accepted</td>\n",
       "      <td>species</td>\n",
       "      <td>NaN</td>\n",
       "    </tr>\n",
       "  </tbody>\n",
       "</table>\n",
       "<p>2 rows × 46 columns</p>\n",
       "</div>"
      ],
      "text/plain": [
       "                                          basisofrecord  \\\n",
       "uuid                                                      \n",
       "6a440fbc-9d30-434f-b18f-48a4c9abf936  preservedspecimen   \n",
       "29f4be1a-ffbf-4bf7-b606-dad9203884b2  preservedspecimen   \n",
       "\n",
       "                                              canonicalname  catalognumber  \\\n",
       "uuid                                                                         \n",
       "6a440fbc-9d30-434f-b18f-48a4c9abf936       morchella conica  tenn-f-004141   \n",
       "29f4be1a-ffbf-4bf7-b606-dad9203884b2  morchella angusticeps     rms0000938   \n",
       "\n",
       "                                              class collectioncode  \\\n",
       "uuid                                                                 \n",
       "6a440fbc-9d30-434f-b18f-48a4c9abf936  pezizomycetes         tenn-f   \n",
       "29f4be1a-ffbf-4bf7-b606-dad9203884b2  pezizomycetes            NaN   \n",
       "\n",
       "                                                              collectionid  \\\n",
       "uuid                                                                         \n",
       "6a440fbc-9d30-434f-b18f-48a4c9abf936  97e2d271-3744-48a3-92b5-5a86afbfb01d   \n",
       "29f4be1a-ffbf-4bf7-b606-dad9203884b2  53b69cf0-a097-4840-91ed-a1eb33f8ded2   \n",
       "\n",
       "                                         collector      continent  \\\n",
       "uuid                                                                \n",
       "6a440fbc-9d30-434f-b18f-48a4c9abf936   l.r. hesler  north america   \n",
       "29f4be1a-ffbf-4bf7-b606-dad9203884b2  l. r. hesler  north america   \n",
       "\n",
       "                                      coordinateuncertainty        country  \\\n",
       "uuid                                                                         \n",
       "6a440fbc-9d30-434f-b18f-48a4c9abf936                    NaN  united states   \n",
       "29f4be1a-ffbf-4bf7-b606-dad9203884b2                    NaN  united states   \n",
       "\n",
       "                                      ... recordnumber  \\\n",
       "uuid                                  ...                \n",
       "6a440fbc-9d30-434f-b18f-48a4c9abf936  ...          NaN   \n",
       "29f4be1a-ffbf-4bf7-b606-dad9203884b2  ...          NaN   \n",
       "\n",
       "                                                                 recordset  \\\n",
       "uuid                                                                         \n",
       "6a440fbc-9d30-434f-b18f-48a4c9abf936  04d9b721-259c-4d6b-b48f-2e23edf66c9f   \n",
       "29f4be1a-ffbf-4bf7-b606-dad9203884b2  9a06cc34-be24-4ebf-b599-cbb1d4b8ac7b   \n",
       "\n",
       "                                             scientificname specificepithet  \\\n",
       "uuid                                                                          \n",
       "6a440fbc-9d30-434f-b18f-48a4c9abf936       morchella conica          conica   \n",
       "29f4be1a-ffbf-4bf7-b606-dad9203884b2  morchella angusticeps     angusticeps   \n",
       "\n",
       "                                     startdayofyear  stateprovince  taxonid  \\\n",
       "uuid                                                                          \n",
       "6a440fbc-9d30-434f-b18f-48a4c9abf936           77.0      tennessee  9014337   \n",
       "29f4be1a-ffbf-4bf7-b606-dad9203884b2           77.0      tennessee  2594624   \n",
       "\n",
       "                                     taxonomicstatus taxonrank  \\\n",
       "uuid                                                             \n",
       "6a440fbc-9d30-434f-b18f-48a4c9abf936        accepted   species   \n",
       "29f4be1a-ffbf-4bf7-b606-dad9203884b2        accepted   species   \n",
       "\n",
       "                                     verbatimeventdate  \n",
       "uuid                                                    \n",
       "6a440fbc-9d30-434f-b18f-48a4c9abf936               NaN  \n",
       "29f4be1a-ffbf-4bf7-b606-dad9203884b2               NaN  \n",
       "\n",
       "[2 rows x 46 columns]"
      ]
     },
     "metadata": {},
     "output_type": "display_data"
    }
   ],
   "source": [
    "# Example usage available at: https://github.com/iDigBio/idigbio-python-client\n",
    "import idigbio\n",
    "\n",
    "# make a variable for the idigbio api's pandas option\n",
    "api = idigbio.pandas()\n",
    "\n",
    "# set a variable for the genus Morchella (true morels)\n",
    "genusOfInterest = 'Morchella'\n",
    "\n",
    "# set a variable for the states we're interested in\n",
    "nearbyStates = ['Tennessee','Georgia','North Carolina','Alabama']\n",
    "\n",
    "# define a dictionary with the query's \"key word arguments\"\n",
    "query = {'genus':genusOfInterest, \"stateprovince\":nearbyStates}\n",
    "\n",
    "# call iDigbio's api, using the query we built. The result is a dataframe.\n",
    "pandas_output = api.search_records(rq=query, limit = 500)\n",
    "\n",
    "# the \"shape\" of a dataframe is an attribute which returns a tuple containing the row and column count.\n",
    "# notice, since we know there are exactly 2 items in the tuple we can assign 2 variables to the attribute.\n",
    "rowQty, columnQty = pandas_output.shape\n",
    "\n",
    "# print how large the results are\n",
    "print(f'{rowQty} rows, and {columnQty} columns returned.')\n",
    "\n",
    "# display a small portion of the results, to spot check\n",
    "# Two things to notice here: \n",
    "    # First, pandas_output.sample(2) chooses 2 random rows\n",
    "    # Second, we used \"display\" instead of \"print.\" \n",
    "    # Display is only for jupyter notebooks and prints things with better formatting.\n",
    "display(pandas_output.sample(2))"
   ]
  },
  {
   "cell_type": "markdown",
   "metadata": {},
   "source": [
    "<a id='dropna'></a>\n",
    "There are many columns in the pandas_output DataFrame:\n",
    "\n",
    "- ['eventdate'](https://terms.tdwg.org/wiki/dwc:eventDate) column stores the date the specimen was collected\n",
    "\n",
    "- ['startdayofyear'](https://terms.tdwg.org/wiki/dwc:startDayOfYear) column is the day of the year (e.g., 1 is January 1st).\n",
    "\n",
    "We can use this data to determine the most frequent day of the year Morel's are found in this region.\n"
   ]
  },
  {
   "cell_type": "code",
   "execution_count": 46,
   "metadata": {},
   "outputs": [
    {
     "name": "stdout",
     "output_type": "stream",
     "text": [
      "(21, 46)\n"
     ]
    }
   ],
   "source": [
    "# start by dropping all records which have no data in 'eventdate'\n",
    "# notice we save the result of dropna back to the pandas_output.\n",
    "# this means we overwrite pandas_output the results after dropping the null values\n",
    "pandas_output = pandas_output.dropna(subset=['eventdate'])\n",
    "\n",
    "# before we move on we should check how many records are left\n",
    "# remember the shape attribute is a tuple of (rows, columns)\n",
    "print(pandas_output.shape)"
   ]
  },
  {
   "cell_type": "code",
   "execution_count": 47,
   "metadata": {},
   "outputs": [
    {
     "name": "stdout",
     "output_type": "stream",
     "text": [
      "The average day of the year for Morchella in ['Tennessee', 'Georgia', 'North Carolina', 'Alabama'] is: 100.875.\n",
      "The current date & time is: 2019-06-01 15:31:02.194480.\n",
      "The current year is 2019\n",
      "The average day for collecting morels is 2019-04-11.\n"
     ]
    }
   ],
   "source": [
    "# Calculate the mean of the 'startdayofyear' column. \n",
    "# notice we included the parameter \"skipna=True,\"\n",
    "# remember Shift+Tab while the curser is inside a function call displays that function's options.\n",
    "avgDayOfYear = pandas_output['startdayofyear'].mean(skipna=True)\n",
    "print(f'The average day of the year for {genusOfInterest} in {nearbyStates} is: {avgDayOfYear}.')\n",
    "\n",
    "# the avgDayOfYear is useful but how do we make this information more useable?\n",
    "# Let's convert this to a date by adding the avgDayOfYear to a January 1st of this year.\n",
    "# First we'll import the \"datetime\" library which comes with python.\n",
    "import datetime\n",
    "\n",
    "# Using the datetime library's \"now()\" function, save the current date to a variable\n",
    "currentDate = datetime.datetime.now()\n",
    "# display the results of the current date\n",
    "print(f'The current date & time is: {currentDate}.')\n",
    "# The currentDate produced has a \".year\" attribute\n",
    "thisYear = currentDate.year\n",
    "print(f'The current year is {thisYear}')\n",
    "\n",
    "# save a variable for a dateTime object representing January 1st of this year.\n",
    "startOfYear = datetime.date(thisYear,1,1)\n",
    "\n",
    "# add the avgDayOfYear, to get this year's best date\n",
    "# datetime's timedelta function returns the difference between two datetime values (as a date).\n",
    "bestDate = startOfYear + datetime.timedelta(avgDayOfYear)\n",
    "\n",
    "# print the results\n",
    "print(f'The average day for collecting morels is {bestDate}.')"
   ]
  },
  {
   "cell_type": "markdown",
   "metadata": {},
   "source": [
    "# Exercise, improve upon this work\n",
    "\n",
    "Recall there were not many records after [we dropped those without an event date](#dropna). Often scripts are written using an example as a starting point. In the cell(s) below, improve on the morel hunting example by increasing the sample size, one simple way to do this is to include additional states [in the initial query we built](#query)."
   ]
  },
  {
   "cell_type": "markdown",
   "metadata": {},
   "source": [
    "<img src=\"files/assets/southeast.gif\">"
   ]
  },
  {
   "cell_type": "code",
   "execution_count": null,
   "metadata": {},
   "outputs": [],
   "source": []
  },
  {
   "cell_type": "markdown",
   "metadata": {},
   "source": [
    "Additional Resources:\n",
    "\n",
    "[datetime documentation](https://docs.python.org/3/library/datetime.html)\n",
    "\n",
    "[Pandas documentation](http://pandas.pydata.org/pandas-docs/stable/)\n",
    "\n",
    "[list of public APIs](https://github.com/toddmotto/public-apis)\n",
    "\n",
    "[iDigBio's Python API (examples and documentation)](https://github.com/iDigBio/idigbio-python-client)"
   ]
  },
  {
   "cell_type": "markdown",
   "metadata": {},
   "source": [
    "Todo:\n",
    "\n",
    "including description of \"in ram\" effects of a jupyter notebook.\n",
    "\n"
   ]
  },
  {
   "cell_type": "code",
   "execution_count": null,
   "metadata": {},
   "outputs": [],
   "source": []
  }
 ],
 "metadata": {
  "kernelspec": {
   "display_name": "Python 3",
   "language": "python",
   "name": "python3"
  },
  "language_info": {
   "codemirror_mode": {
    "name": "ipython",
    "version": 3
   },
   "file_extension": ".py",
   "mimetype": "text/x-python",
   "name": "python",
   "nbconvert_exporter": "python",
   "pygments_lexer": "ipython3",
   "version": "3.7.3"
  }
 },
 "nbformat": 4,
 "nbformat_minor": 2
}
