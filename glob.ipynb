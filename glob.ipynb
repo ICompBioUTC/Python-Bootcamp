{
 "cells": [
  {
   "cell_type": "markdown",
   "metadata": {},
   "source": [
    "### Glob\n",
    "\n",
    "If you have multiple files in a directory, it might be better to load them through glob instead of doing it manually. Let's say you have 5 files. Doing it manually would entail:\n",
    "\n",
    "```\n",
    "first_df = pandas.read_csv(\"file1.csv\")\n",
    "second_df = pandas.read_csv(\"file2.csv\")\n",
    "third_df = pandas.read_csv(\"file3.csv\")\n",
    "fourth_df = pandas.read_csv(\"file4.csv\")\n",
    "fifth_df = pandas.read_csv(\"file5.csv\")\n",
    "```\n",
    "\n",
    "As you can see, doing that would be a little tedious. Instead, you can do it in a loop using glob. First, we will import glob and create a list with the dataframes:"
   ]
  },
  {
   "cell_type": "code",
   "execution_count": 14,
   "metadata": {},
   "outputs": [],
   "source": [
    "import glob\n",
    "import pandas\n",
    "\n",
    "iris_dataframe = pandas.DataFrame()"
   ]
  },
  {
   "cell_type": "markdown",
   "metadata": {},
   "source": [
    "Secondly, we will use the `glob.iglob()` function in order to take files within a directory. Note that `*` in `*.csv` means \"anything with '.csv' in it.\" If we wanted just file`x`.csv, we can use `file*.csv`."
   ]
  },
  {
   "cell_type": "code",
   "execution_count": 15,
   "metadata": {},
   "outputs": [
    {
     "name": "stdout",
     "output_type": "stream",
     "text": [
      "     petal_length          species\n",
      "0             4.7  Iris-versicolor\n",
      "1             4.5  Iris-versicolor\n",
      "2             4.9  Iris-versicolor\n",
      "3             4.0  Iris-versicolor\n",
      "4             4.6  Iris-versicolor\n",
      "5             4.5  Iris-versicolor\n",
      "6             4.7  Iris-versicolor\n",
      "7             3.3  Iris-versicolor\n",
      "8             4.6  Iris-versicolor\n",
      "9             3.9  Iris-versicolor\n",
      "10            3.5  Iris-versicolor\n",
      "11            4.2  Iris-versicolor\n",
      "12            4.0  Iris-versicolor\n",
      "13            4.7  Iris-versicolor\n",
      "14            3.6  Iris-versicolor\n",
      "15            4.4  Iris-versicolor\n",
      "16            4.5  Iris-versicolor\n",
      "17            4.1  Iris-versicolor\n",
      "18            4.5  Iris-versicolor\n",
      "19            3.9  Iris-versicolor\n",
      "20            4.8  Iris-versicolor\n",
      "21            4.0  Iris-versicolor\n",
      "22            4.9  Iris-versicolor\n",
      "23            4.7  Iris-versicolor\n",
      "24            4.3  Iris-versicolor\n",
      "25            4.4  Iris-versicolor\n",
      "26            4.8  Iris-versicolor\n",
      "27            5.0  Iris-versicolor\n",
      "28            4.5  Iris-versicolor\n",
      "29            3.5  Iris-versicolor\n",
      "..            ...              ...\n",
      "120           1.7      Iris-setosa\n",
      "121           1.5      Iris-setosa\n",
      "122           1.0      Iris-setosa\n",
      "123           1.7      Iris-setosa\n",
      "124           1.9      Iris-setosa\n",
      "125           1.6      Iris-setosa\n",
      "126           1.6      Iris-setosa\n",
      "127           1.5      Iris-setosa\n",
      "128           1.4      Iris-setosa\n",
      "129           1.6      Iris-setosa\n",
      "130           1.6      Iris-setosa\n",
      "131           1.5      Iris-setosa\n",
      "132           1.5      Iris-setosa\n",
      "133           1.4      Iris-setosa\n",
      "134           1.5      Iris-setosa\n",
      "135           1.2      Iris-setosa\n",
      "136           1.3      Iris-setosa\n",
      "137           1.5      Iris-setosa\n",
      "138           1.3      Iris-setosa\n",
      "139           1.5      Iris-setosa\n",
      "140           1.3      Iris-setosa\n",
      "141           1.3      Iris-setosa\n",
      "142           1.3      Iris-setosa\n",
      "143           1.6      Iris-setosa\n",
      "144           1.9      Iris-setosa\n",
      "145           1.4      Iris-setosa\n",
      "146           1.6      Iris-setosa\n",
      "147           1.4      Iris-setosa\n",
      "148           1.5      Iris-setosa\n",
      "149           1.4      Iris-setosa\n",
      "\n",
      "[150 rows x 2 columns]\n"
     ]
    }
   ],
   "source": [
    "for file in glob.glob(\"*.csv\"):\n",
    "    keep_cols = ['petal_length', 'species']\n",
    "    this_file_dataframe = pandas.read_csv(file,usecols = keep_cols)\n",
    "    iris_dataframe = iris_dataframe.append(this_file_dataframe, ignore_index=True)\n",
    "\n",
    "print(iris_dataframe)"
   ]
  },
  {
   "cell_type": "markdown",
   "metadata": {},
   "source": [
    "Now, your dataframes are accessible within the list. If you want to access them, you just need to call the index of the dataframe that you want. Printing a sample from the dataframes at a specific index yields you:"
   ]
  },
  {
   "cell_type": "code",
   "execution_count": 16,
   "metadata": {},
   "outputs": [
    {
     "name": "stdout",
     "output_type": "stream",
     "text": [
      "     petal_length          species\n",
      "30            3.8  Iris-versicolor\n",
      "119           1.5      Iris-setosa\n",
      "47            4.3  Iris-versicolor\n"
     ]
    }
   ],
   "source": [
    "print(iris_dataframe.sample(3)) # In the python_Introduction directory, this would be iris1.csv"
   ]
  },
  {
   "cell_type": "code",
   "execution_count": 30,
   "metadata": {},
   "outputs": [
    {
     "data": {
      "text/html": [
       "<div>\n",
       "<style scoped>\n",
       "    .dataframe tbody tr th:only-of-type {\n",
       "        vertical-align: middle;\n",
       "    }\n",
       "\n",
       "    .dataframe tbody tr th {\n",
       "        vertical-align: top;\n",
       "    }\n",
       "\n",
       "    .dataframe thead th {\n",
       "        text-align: right;\n",
       "    }\n",
       "</style>\n",
       "<table border=\"1\" class=\"dataframe\">\n",
       "  <thead>\n",
       "    <tr style=\"text-align: right;\">\n",
       "      <th></th>\n",
       "      <th>petal_length</th>\n",
       "      <th>species</th>\n",
       "    </tr>\n",
       "  </thead>\n",
       "  <tbody>\n",
       "    <tr>\n",
       "      <th>145</th>\n",
       "      <td>1.4</td>\n",
       "      <td>Iris-setosa</td>\n",
       "    </tr>\n",
       "    <tr>\n",
       "      <th>146</th>\n",
       "      <td>1.6</td>\n",
       "      <td>Iris-setosa</td>\n",
       "    </tr>\n",
       "    <tr>\n",
       "      <th>147</th>\n",
       "      <td>1.4</td>\n",
       "      <td>Iris-setosa</td>\n",
       "    </tr>\n",
       "    <tr>\n",
       "      <th>148</th>\n",
       "      <td>1.5</td>\n",
       "      <td>Iris-setosa</td>\n",
       "    </tr>\n",
       "    <tr>\n",
       "      <th>149</th>\n",
       "      <td>1.4</td>\n",
       "      <td>Iris-setosa</td>\n",
       "    </tr>\n",
       "  </tbody>\n",
       "</table>\n",
       "</div>"
      ],
      "text/plain": [
       "     petal_length      species\n",
       "145           1.4  Iris-setosa\n",
       "146           1.6  Iris-setosa\n",
       "147           1.4  Iris-setosa\n",
       "148           1.5  Iris-setosa\n",
       "149           1.4  Iris-setosa"
      ]
     },
     "execution_count": 30,
     "metadata": {},
     "output_type": "execute_result"
    }
   ],
   "source": [
    "import numpy as np\n",
    "\n",
    "df = iris_dataframe\n",
    "df.loc[df['species'] == 'Iris-virginica', 'petal_length'] *= 2.54\n",
    "\n",
    "df.wh\n",
    "\n",
    "df.tail()\n"
   ]
  },
  {
   "cell_type": "code",
   "execution_count": null,
   "metadata": {},
   "outputs": [],
   "source": []
  }
 ],
 "metadata": {
  "kernelspec": {
   "display_name": "Python 3",
   "language": "python",
   "name": "python3"
  },
  "language_info": {
   "codemirror_mode": {
    "name": "ipython",
    "version": 3
   },
   "file_extension": ".py",
   "mimetype": "text/x-python",
   "name": "python",
   "nbconvert_exporter": "python",
   "pygments_lexer": "ipython3",
   "version": "3.7.3"
  }
 },
 "nbformat": 4,
 "nbformat_minor": 2
}
