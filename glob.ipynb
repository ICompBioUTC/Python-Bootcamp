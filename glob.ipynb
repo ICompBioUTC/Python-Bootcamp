{
 "cells": [
  {
   "cell_type": "markdown",
   "metadata": {},
   "source": [
    "### Glob\n",
    "\n",
    "If you have multiple files in a directory, it might be better to load them through glob instead of doing it manually. Let's say you have 5 files. Doing it manually would entail:\n",
    "\n",
    "```\n",
    "first_df = pandas.read_csv(\"file1.csv\")\n",
    "second_df = pandas.read_csv(\"file2.csv\")\n",
    "third_df = pandas.read_csv(\"file3.csv\")\n",
    "fourth_df = pandas.read_csv(\"file4.csv\")\n",
    "fifth_df = pandas.read_csv(\"file5.csv\")\n",
    "```\n",
    "\n",
    "As you can see, doing that would be a little tedious. Instead, you can do it in a loop using glob. First, we will import glob and create a list with the dataframes:"
   ]
  },
  {
   "cell_type": "code",
   "execution_count": 13,
   "metadata": {},
   "outputs": [],
   "source": [
    "import glob\n",
    "import pandas\n",
    "\n",
    "iris_dataframe = pandas.DataFrame()"
   ]
  },
  {
   "cell_type": "markdown",
   "metadata": {},
   "source": [
    "Secondly, we will use the `glob.iglob()` function in order to take files within a directory. Note that `*` in `*.csv` means \"anything with '.csv' in it.\" If we wanted just file`x`.csv, we can use `file*.csv`."
   ]
  },
  {
   "cell_type": "code",
   "execution_count": 14,
   "metadata": {},
   "outputs": [
    {
     "name": "stdout",
     "output_type": "stream",
     "text": [
      "     0.984  1.299  2.362   2.48  Iris-virginica  petal_length  petal_width  \\\n",
      "0      NaN    NaN    NaN    NaN             NaN           1.4          0.2   \n",
      "1      NaN    NaN    NaN    NaN             NaN           1.4          0.2   \n",
      "2      NaN    NaN    NaN    NaN             NaN           1.3          0.2   \n",
      "3      NaN    NaN    NaN    NaN             NaN           1.5          0.2   \n",
      "4      NaN    NaN    NaN    NaN             NaN           1.4          0.2   \n",
      "5      NaN    NaN    NaN    NaN             NaN           1.7          0.4   \n",
      "6      NaN    NaN    NaN    NaN             NaN           1.4          0.3   \n",
      "7      NaN    NaN    NaN    NaN             NaN           1.5          0.2   \n",
      "8      NaN    NaN    NaN    NaN             NaN           1.4          0.2   \n",
      "9      NaN    NaN    NaN    NaN             NaN           1.5          0.1   \n",
      "10     NaN    NaN    NaN    NaN             NaN           1.5          0.2   \n",
      "11     NaN    NaN    NaN    NaN             NaN           1.6          0.2   \n",
      "12     NaN    NaN    NaN    NaN             NaN           1.4          0.1   \n",
      "13     NaN    NaN    NaN    NaN             NaN           1.1          0.1   \n",
      "14     NaN    NaN    NaN    NaN             NaN           1.2          0.2   \n",
      "15     NaN    NaN    NaN    NaN             NaN           1.5          0.4   \n",
      "16     NaN    NaN    NaN    NaN             NaN           1.3          0.4   \n",
      "17     NaN    NaN    NaN    NaN             NaN           1.4          0.3   \n",
      "18     NaN    NaN    NaN    NaN             NaN           1.7          0.3   \n",
      "19     NaN    NaN    NaN    NaN             NaN           1.5          0.3   \n",
      "20     NaN    NaN    NaN    NaN             NaN           1.7          0.2   \n",
      "21     NaN    NaN    NaN    NaN             NaN           1.5          0.4   \n",
      "22     NaN    NaN    NaN    NaN             NaN           1.0          0.2   \n",
      "23     NaN    NaN    NaN    NaN             NaN           1.7          0.5   \n",
      "24     NaN    NaN    NaN    NaN             NaN           1.9          0.2   \n",
      "25     NaN    NaN    NaN    NaN             NaN           1.6          0.2   \n",
      "26     NaN    NaN    NaN    NaN             NaN           1.6          0.4   \n",
      "27     NaN    NaN    NaN    NaN             NaN           1.5          0.2   \n",
      "28     NaN    NaN    NaN    NaN             NaN           1.4          0.2   \n",
      "29     NaN    NaN    NaN    NaN             NaN           1.6          0.2   \n",
      "..     ...    ...    ...    ...             ...           ...          ...   \n",
      "119  0.906  1.260  2.244  2.717  Iris-virginica           NaN          NaN   \n",
      "120  0.787  1.102  1.929  2.205  Iris-virginica           NaN          NaN   \n",
      "121  0.787  1.102  2.638  3.031  Iris-virginica           NaN          NaN   \n",
      "122  0.709  1.063  1.929  2.480  Iris-virginica           NaN          NaN   \n",
      "123  0.827  1.299  2.244  2.638  Iris-virginica           NaN          NaN   \n",
      "124  0.709  1.260  2.362  2.835  Iris-virginica           NaN          NaN   \n",
      "125  0.709  1.102  1.890  2.441  Iris-virginica           NaN          NaN   \n",
      "126  0.709  1.181  1.929  2.402  Iris-virginica           NaN          NaN   \n",
      "127  0.827  1.102  2.205  2.520  Iris-virginica           NaN          NaN   \n",
      "128  0.630  1.181  2.283  2.835  Iris-virginica           NaN          NaN   \n",
      "129  0.748  1.102  2.402  2.913  Iris-virginica           NaN          NaN   \n",
      "130  0.787  1.496  2.520  3.110  Iris-virginica           NaN          NaN   \n",
      "131  0.866  1.102  2.205  2.520  Iris-virginica           NaN          NaN   \n",
      "132  0.591  1.102  2.008  2.480  Iris-virginica           NaN          NaN   \n",
      "133  0.551  1.024  2.205  2.402  Iris-virginica           NaN          NaN   \n",
      "134  0.906  1.181  2.402  3.031  Iris-virginica           NaN          NaN   \n",
      "135  0.945  1.339  2.205  2.480  Iris-virginica           NaN          NaN   \n",
      "136  0.709  1.220  2.165  2.520  Iris-virginica           NaN          NaN   \n",
      "137  0.709  1.181  1.890  2.362  Iris-virginica           NaN          NaN   \n",
      "138  0.827  1.220  2.126  2.717  Iris-virginica           NaN          NaN   \n",
      "139  0.945  1.220  2.205  2.638  Iris-virginica           NaN          NaN   \n",
      "140  0.906  1.220  2.008  2.717  Iris-virginica           NaN          NaN   \n",
      "141  0.748  1.063  2.008  2.283  Iris-virginica           NaN          NaN   \n",
      "142  0.906  1.260  2.323  2.677  Iris-virginica           NaN          NaN   \n",
      "143  0.984  1.299  2.244  2.638  Iris-virginica           NaN          NaN   \n",
      "144  0.906  1.181  2.047  2.638  Iris-virginica           NaN          NaN   \n",
      "145  0.748  0.984  1.969  2.480  Iris-virginica           NaN          NaN   \n",
      "146  0.787  1.181  2.047  2.559  Iris-virginica           NaN          NaN   \n",
      "147  0.906  1.339  2.126  2.441  Iris-virginica           NaN          NaN   \n",
      "148  0.709  1.181  2.008  2.323  Iris-virginica           NaN          NaN   \n",
      "\n",
      "     sepal_length  sepal_width      species  \n",
      "0             5.1          3.5  Iris-setosa  \n",
      "1             4.9          3.0  Iris-setosa  \n",
      "2             4.7          3.2  Iris-setosa  \n",
      "3             4.6          3.1  Iris-setosa  \n",
      "4             5.0          3.6  Iris-setosa  \n",
      "5             5.4          3.9  Iris-setosa  \n",
      "6             4.6          3.4  Iris-setosa  \n",
      "7             5.0          3.4  Iris-setosa  \n",
      "8             4.4          2.9  Iris-setosa  \n",
      "9             4.9          3.1  Iris-setosa  \n",
      "10            5.4          3.7  Iris-setosa  \n",
      "11            4.8          3.4  Iris-setosa  \n",
      "12            4.8          3.0  Iris-setosa  \n",
      "13            4.3          3.0  Iris-setosa  \n",
      "14            5.8          4.0  Iris-setosa  \n",
      "15            5.7          4.4  Iris-setosa  \n",
      "16            5.4          3.9  Iris-setosa  \n",
      "17            5.1          3.5  Iris-setosa  \n",
      "18            5.7          3.8  Iris-setosa  \n",
      "19            5.1          3.8  Iris-setosa  \n",
      "20            5.4          3.4  Iris-setosa  \n",
      "21            5.1          3.7  Iris-setosa  \n",
      "22            4.6          3.6  Iris-setosa  \n",
      "23            5.1          3.3  Iris-setosa  \n",
      "24            4.8          3.4  Iris-setosa  \n",
      "25            5.0          3.0  Iris-setosa  \n",
      "26            5.0          3.4  Iris-setosa  \n",
      "27            5.2          3.5  Iris-setosa  \n",
      "28            5.2          3.4  Iris-setosa  \n",
      "29            4.7          3.2  Iris-setosa  \n",
      "..            ...          ...          ...  \n",
      "119           NaN          NaN          NaN  \n",
      "120           NaN          NaN          NaN  \n",
      "121           NaN          NaN          NaN  \n",
      "122           NaN          NaN          NaN  \n",
      "123           NaN          NaN          NaN  \n",
      "124           NaN          NaN          NaN  \n",
      "125           NaN          NaN          NaN  \n",
      "126           NaN          NaN          NaN  \n",
      "127           NaN          NaN          NaN  \n",
      "128           NaN          NaN          NaN  \n",
      "129           NaN          NaN          NaN  \n",
      "130           NaN          NaN          NaN  \n",
      "131           NaN          NaN          NaN  \n",
      "132           NaN          NaN          NaN  \n",
      "133           NaN          NaN          NaN  \n",
      "134           NaN          NaN          NaN  \n",
      "135           NaN          NaN          NaN  \n",
      "136           NaN          NaN          NaN  \n",
      "137           NaN          NaN          NaN  \n",
      "138           NaN          NaN          NaN  \n",
      "139           NaN          NaN          NaN  \n",
      "140           NaN          NaN          NaN  \n",
      "141           NaN          NaN          NaN  \n",
      "142           NaN          NaN          NaN  \n",
      "143           NaN          NaN          NaN  \n",
      "144           NaN          NaN          NaN  \n",
      "145           NaN          NaN          NaN  \n",
      "146           NaN          NaN          NaN  \n",
      "147           NaN          NaN          NaN  \n",
      "148           NaN          NaN          NaN  \n",
      "\n",
      "[149 rows x 10 columns]\n"
     ]
    }
   ],
   "source": [
    "for file in glob.glob(\"*.csv\"):\n",
    "    this_file_dataframe = pandas.read_csv(file)\n",
    "    iris_dataframe = iris_dataframe.append(this_file_dataframe, ignore_index=True)\n",
    "    \n",
    "print(iris_dataframe)"
   ]
  },
  {
   "cell_type": "markdown",
   "metadata": {},
   "source": [
    "Now, your dataframes are accessible within the list. If you want to access them, you just need to call the index of the dataframe that you want. Printing a sample from the dataframes at a specific index yields you:"
   ]
  },
  {
   "cell_type": "code",
   "execution_count": 8,
   "metadata": {},
   "outputs": [
    {
     "name": "stdout",
     "output_type": "stream",
     "text": [
      "     sepal_length  sepal_width  petal_length  petal_width         species\n",
      "6        4.600000     3.400000      1.400000     0.300000     Iris-setosa\n",
      "133      2.480315     1.102362      2.007874     0.590551  Iris-virginica\n",
      "24       4.800000     3.400000      1.900000     0.200000     Iris-setosa\n"
     ]
    }
   ],
   "source": [
    "print(iris_dataframe.sample(3)) # In the python_Introduction directory, this would be iris1.csv"
   ]
  },
  {
   "cell_type": "code",
   "execution_count": 12,
   "metadata": {},
   "outputs": [
    {
     "data": {
      "text/plain": [
       "array(['Iris-setosa', 'Iris-versicolor', 'Iris-virginica'], dtype=object)"
      ]
     },
     "execution_count": 12,
     "metadata": {},
     "output_type": "execute_result"
    }
   ],
   "source": [
    "iris_dataframe['species'].unique()"
   ]
  },
  {
   "cell_type": "code",
   "execution_count": null,
   "metadata": {},
   "outputs": [],
   "source": []
  }
 ],
 "metadata": {
  "kernelspec": {
   "display_name": "Python [conda env:Shaw]",
   "language": "python",
   "name": "conda-env-Shaw-py"
  },
  "language_info": {
   "codemirror_mode": {
    "name": "ipython",
    "version": 3
   },
   "file_extension": ".py",
   "mimetype": "text/x-python",
   "name": "python",
   "nbconvert_exporter": "python",
   "pygments_lexer": "ipython3",
   "version": "3.6.8"
  }
 },
 "nbformat": 4,
 "nbformat_minor": 2
}
