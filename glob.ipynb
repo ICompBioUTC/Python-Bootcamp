{
 "cells": [
  {
   "cell_type": "markdown",
   "metadata": {},
   "source": [
    "### Glob\n",
    "\n",
    "If you have multiple files in a directory, it might be better to load them through glob instead of doing it manually. Let's say you have 5 files. Doing it manually would entail:\n",
    "\n",
    "```\n",
    "first_df = pandas.read_csv(\"file1.csv\")\n",
    "second_df = pandas.read_csv(\"file2.csv\")\n",
    "third_df = pandas.read_csv(\"file3.csv\")\n",
    "fourth_df = pandas.read_csv(\"file4.csv\")\n",
    "fifth_df = pandas.read_csv(\"file5.csv\")\n",
    "```\n",
    "\n",
    "As you can see, doing that would be a little tedious. Instead, you can do it in a loop using glob. First, we will import glob and create a list with the dataframes:"
   ]
  },
  {
   "cell_type": "code",
   "execution_count": 1,
   "metadata": {},
   "outputs": [],
   "source": [
    "import glob\n",
    "import pandas\n",
    "\n",
    "iris_dataframe = pandas.DataFrame()"
   ]
  },
  {
   "cell_type": "markdown",
   "metadata": {},
   "source": [
    "Secondly, we will use the `glob.iglob()` function in order to take files within a directory. Note that `*` in `*.csv` means \"anything with '.csv' in it.\" If we wanted just file`x`.csv, we can use `file*.csv`."
   ]
  },
  {
   "cell_type": "code",
   "execution_count": 2,
   "metadata": {},
   "outputs": [
    {
     "name": "stdout",
     "output_type": "stream",
     "text": [
      "     sepal_length  sepal_width  petal_length  petal_width         species\n",
      "0           5.100        3.500         1.400        0.200     Iris-setosa\n",
      "1           4.900        3.000         1.400        0.200     Iris-setosa\n",
      "2           4.700        3.200         1.300        0.200     Iris-setosa\n",
      "3           4.600        3.100         1.500        0.200     Iris-setosa\n",
      "4           5.000        3.600         1.400        0.200     Iris-setosa\n",
      "5           5.400        3.900         1.700        0.400     Iris-setosa\n",
      "6           4.600        3.400         1.400        0.300     Iris-setosa\n",
      "7           5.000        3.400         1.500        0.200     Iris-setosa\n",
      "8           4.400        2.900         1.400        0.200     Iris-setosa\n",
      "9           4.900        3.100         1.500        0.100     Iris-setosa\n",
      "10          5.400        3.700         1.500        0.200     Iris-setosa\n",
      "11          4.800        3.400         1.600        0.200     Iris-setosa\n",
      "12          4.800        3.000         1.400        0.100     Iris-setosa\n",
      "13          4.300        3.000         1.100        0.100     Iris-setosa\n",
      "14          5.800        4.000         1.200        0.200     Iris-setosa\n",
      "15          5.700        4.400         1.500        0.400     Iris-setosa\n",
      "16          5.400        3.900         1.300        0.400     Iris-setosa\n",
      "17          5.100        3.500         1.400        0.300     Iris-setosa\n",
      "18          5.700        3.800         1.700        0.300     Iris-setosa\n",
      "19          5.100        3.800         1.500        0.300     Iris-setosa\n",
      "20          5.400        3.400         1.700        0.200     Iris-setosa\n",
      "21          5.100        3.700         1.500        0.400     Iris-setosa\n",
      "22          4.600        3.600         1.000        0.200     Iris-setosa\n",
      "23          5.100        3.300         1.700        0.500     Iris-setosa\n",
      "24          4.800        3.400         1.900        0.200     Iris-setosa\n",
      "25          5.000        3.000         1.600        0.200     Iris-setosa\n",
      "26          5.000        3.400         1.600        0.400     Iris-setosa\n",
      "27          5.200        3.500         1.500        0.200     Iris-setosa\n",
      "28          5.200        3.400         1.400        0.200     Iris-setosa\n",
      "29          4.700        3.200         1.600        0.200     Iris-setosa\n",
      "..            ...          ...           ...          ...             ...\n",
      "120         2.717        1.260         2.244        0.906  Iris-virginica\n",
      "121         2.205        1.102         1.929        0.787  Iris-virginica\n",
      "122         3.031        1.102         2.638        0.787  Iris-VirGinICA\n",
      "123         2.480        1.063         1.929        0.709  Iris-VirGinICA\n",
      "124         2.638        1.299         2.244        0.827  Iris-virginica\n",
      "125         2.835        1.260         2.362        0.709  Iris-virginica\n",
      "126         2.441        1.102         1.890        0.709  Iris-virginica\n",
      "127         2.402        1.181         1.929        0.709  Iris-VirGinICA\n",
      "128         2.520        1.102         2.205        0.827  Iris-VirGinICA\n",
      "129         2.835        1.181         2.283        0.630  Iris-VirGinICA\n",
      "130         2.913        1.102         2.402        0.748  Iris-VirGinICA\n",
      "131         3.110        1.496         2.520        0.787  Iris-VirGinICA\n",
      "132         2.520        1.102         2.205        0.866  Iris-VirGinICA\n",
      "133         2.480        1.102         2.008        0.591  Iris-VirGinICA\n",
      "134         2.402        1.024         2.205        0.551  Iris-VirGinICA\n",
      "135         3.031        1.181         2.402        0.906  Iris-virginica\n",
      "136         2.480        1.339         2.205        0.945  Iris-VirGinICA\n",
      "137         2.520        1.220         2.165        0.709  Iris-virginica\n",
      "138         2.362        1.181         1.890        0.709  Iris-VirGinICA\n",
      "139         2.717        1.220         2.126        0.827  Iris-VirGinICA\n",
      "140         2.638        1.220         2.205        0.945  Iris-VirGinICA\n",
      "141         2.717        1.220         2.008        0.906  Iris-virginica\n",
      "142         2.283        1.063         2.008        0.748  Iris-virginica\n",
      "143         2.677        1.260         2.323        0.906  Iris-virginica\n",
      "144         2.638        1.299         2.244        0.984  Iris-VirGinICA\n",
      "145         2.638        1.181         2.047        0.906  Iris-VirGinICA\n",
      "146         2.480        0.984         1.969        0.748  Iris-virginica\n",
      "147         2.559        1.181         2.047        0.787  Iris-virginica\n",
      "148         2.441        1.339         2.126        0.906  Iris-virginica\n",
      "149         2.323        1.181         2.008        0.709  Iris-VirGinICA\n",
      "\n",
      "[150 rows x 5 columns]\n"
     ]
    }
   ],
   "source": [
    "for file in glob.glob(\"*.csv\"):\n",
    "    this_file_dataframe = pandas.read_csv(file)\n",
    "    iris_dataframe = iris_dataframe.append(this_file_dataframe, ignore_index=True)\n",
    "    \n",
    "print(iris_dataframe)"
   ]
  },
  {
   "cell_type": "markdown",
   "metadata": {},
   "source": [
    "Now, your dataframes are accessible within the list. If you want to access them, you just need to call the index of the dataframe that you want. Printing a sample from the dataframes at a specific index yields you:"
   ]
  },
  {
   "cell_type": "code",
   "execution_count": 3,
   "metadata": {},
   "outputs": [
    {
     "name": "stdout",
     "output_type": "stream",
     "text": [
      "    sepal_length  sepal_width  petal_length  petal_width          species\n",
      "90           5.5          2.6           4.4          1.2  Iris-versicolor\n",
      "72           6.3          2.5           4.9          1.5  Iris-versicolor\n",
      "50           7.0          3.2           4.7          1.4  Iris-versicolor\n"
     ]
    }
   ],
   "source": [
    "print(iris_dataframe.sample(3)) # In the python_Introduction directory, this would be iris1.csv"
   ]
  },
  {
   "cell_type": "code",
   "execution_count": 13,
   "metadata": {},
   "outputs": [
    {
     "name": "stdout",
     "output_type": "stream",
     "text": [
      "['sepal_length' 'sepal_width' 'petal_length' 'petal_width']\n",
      "     sepal_length  sepal_width  petal_length  petal_width         species\n",
      "0         5.10000      3.50000       1.40000      0.20000     Iris-setosa\n",
      "1         4.90000      3.00000       1.40000      0.20000     Iris-setosa\n",
      "2         4.70000      3.20000       1.30000      0.20000     Iris-setosa\n",
      "3         4.60000      3.10000       1.50000      0.20000     Iris-setosa\n",
      "4         5.00000      3.60000       1.40000      0.20000     Iris-setosa\n",
      "5         5.40000      3.90000       1.70000      0.40000     Iris-setosa\n",
      "6         4.60000      3.40000       1.40000      0.30000     Iris-setosa\n",
      "7         5.00000      3.40000       1.50000      0.20000     Iris-setosa\n",
      "8         4.40000      2.90000       1.40000      0.20000     Iris-setosa\n",
      "9         4.90000      3.10000       1.50000      0.10000     Iris-setosa\n",
      "10        5.40000      3.70000       1.50000      0.20000     Iris-setosa\n",
      "11        4.80000      3.40000       1.60000      0.20000     Iris-setosa\n",
      "12        4.80000      3.00000       1.40000      0.10000     Iris-setosa\n",
      "13        4.30000      3.00000       1.10000      0.10000     Iris-setosa\n",
      "14        5.80000      4.00000       1.20000      0.20000     Iris-setosa\n",
      "15        5.70000      4.40000       1.50000      0.40000     Iris-setosa\n",
      "16        5.40000      3.90000       1.30000      0.40000     Iris-setosa\n",
      "17        5.10000      3.50000       1.40000      0.30000     Iris-setosa\n",
      "18        5.70000      3.80000       1.70000      0.30000     Iris-setosa\n",
      "19        5.10000      3.80000       1.50000      0.30000     Iris-setosa\n",
      "20        5.40000      3.40000       1.70000      0.20000     Iris-setosa\n",
      "21        5.10000      3.70000       1.50000      0.40000     Iris-setosa\n",
      "22        4.60000      3.60000       1.00000      0.20000     Iris-setosa\n",
      "23        5.10000      3.30000       1.70000      0.50000     Iris-setosa\n",
      "24        4.80000      3.40000       1.90000      0.20000     Iris-setosa\n",
      "25        5.00000      3.00000       1.60000      0.20000     Iris-setosa\n",
      "26        5.00000      3.40000       1.60000      0.40000     Iris-setosa\n",
      "27        5.20000      3.50000       1.50000      0.20000     Iris-setosa\n",
      "28        5.20000      3.40000       1.40000      0.20000     Iris-setosa\n",
      "29        4.70000      3.20000       1.60000      0.20000     Iris-setosa\n",
      "..            ...          ...           ...          ...             ...\n",
      "120       6.90118      3.20040       5.69976      2.30124  Iris-virginica\n",
      "121       5.60070      2.79908       4.89966      1.99898  Iris-virginica\n",
      "122       7.69874      2.79908       6.70052      1.99898  Iris-VirGinICA\n",
      "123       6.29920      2.70002       4.89966      1.80086  Iris-VirGinICA\n",
      "124       6.70052      3.29946       5.69976      2.10058  Iris-virginica\n",
      "125       7.20090      3.20040       5.99948      1.80086  Iris-virginica\n",
      "126       6.20014      2.79908       4.80060      1.80086  Iris-virginica\n",
      "127       6.10108      2.99974       4.89966      1.80086  Iris-VirGinICA\n",
      "128       6.40080      2.79908       5.60070      2.10058  Iris-VirGinICA\n",
      "129       7.20090      2.99974       5.79882      1.60020  Iris-VirGinICA\n",
      "130       7.39902      2.79908       6.10108      1.89992  Iris-VirGinICA\n",
      "131       7.89940      3.79984       6.40080      1.99898  Iris-VirGinICA\n",
      "132       6.40080      2.79908       5.60070      2.19964  Iris-VirGinICA\n",
      "133       6.29920      2.79908       5.10032      1.50114  Iris-VirGinICA\n",
      "134       6.10108      2.60096       5.60070      1.39954  Iris-VirGinICA\n",
      "135       7.69874      2.99974       6.10108      2.30124  Iris-virginica\n",
      "136       6.29920      3.40106       5.60070      2.40030  Iris-VirGinICA\n",
      "137       6.40080      3.09880       5.49910      1.80086  Iris-virginica\n",
      "138       5.99948      2.99974       4.80060      1.80086  Iris-VirGinICA\n",
      "139       6.90118      3.09880       5.40004      2.10058  Iris-VirGinICA\n",
      "140       6.70052      3.09880       5.60070      2.40030  Iris-VirGinICA\n",
      "141       6.90118      3.09880       5.10032      2.30124  Iris-virginica\n",
      "142       5.79882      2.70002       5.10032      1.89992  Iris-virginica\n",
      "143       6.79958      3.20040       5.90042      2.30124  Iris-virginica\n",
      "144       6.70052      3.29946       5.69976      2.49936  Iris-VirGinICA\n",
      "145       6.70052      2.99974       5.19938      2.30124  Iris-VirGinICA\n",
      "146       6.29920      2.49936       5.00126      1.89992  Iris-virginica\n",
      "147       6.49986      2.99974       5.19938      1.99898  Iris-virginica\n",
      "148       6.20014      3.40106       5.40004      2.30124  Iris-virginica\n",
      "149       5.90042      2.99974       5.10032      1.80086  Iris-VirGinICA\n",
      "\n",
      "[150 rows x 5 columns]\n"
     ]
    }
   ],
   "source": [
    "import numpy as np\n",
    "\n",
    "\n",
    "cols = iris_dataframe.columns.values[:-1]\n",
    "print(cols)\n",
    "\n",
    "# selection = iris_dataframe.loc[iris_dataframe['species'].str.lower() == 'iris-virginica'][cols]\n",
    "\n",
    "# selection = selection * 2.54 ** 3\n",
    "for i in cols:\n",
    "    iris_dataframe[i] = np.where(iris_dataframe['species'].str.lower() == 'iris-virginica',iris_dataframe[i] * 2.54, iris_dataframe[i])\n",
    "print(iris_dataframe)"
   ]
  },
  {
   "cell_type": "code",
   "execution_count": null,
   "metadata": {},
   "outputs": [],
   "source": []
  }
 ],
 "metadata": {
  "kernelspec": {
   "display_name": "Python [conda env:Shaw]",
   "language": "python",
   "name": "conda-env-Shaw-py"
  },
  "language_info": {
   "codemirror_mode": {
    "name": "ipython",
    "version": 3
   },
   "file_extension": ".py",
   "mimetype": "text/x-python",
   "name": "python",
   "nbconvert_exporter": "python",
   "pygments_lexer": "ipython3",
   "version": "3.6.8"
  }
 },
 "nbformat": 4,
 "nbformat_minor": 2
}
