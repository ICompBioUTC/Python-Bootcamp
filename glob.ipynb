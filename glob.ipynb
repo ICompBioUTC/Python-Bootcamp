{
 "cells": [
  {
   "cell_type": "markdown",
   "metadata": {},
   "source": [
    "### Glob\n",
    "\n",
    "If you have multiple files in a directory, it might be better to load them through glob instead of doing it manually. Let's say you have 5 files. Doing it manually would entail:\n",
    "\n",
    "```\n",
    "first_df = pandas.read_csv(\"file1.csv\")\n",
    "second_df = pandas.read_csv(\"file2.csv\")\n",
    "third_df = pandas.read_csv(\"file3.csv\")\n",
    "fourth_df = pandas.read_csv(\"file4.csv\")\n",
    "fifth_df = pandas.read_csv(\"file5.csv\")\n",
    "```\n",
    "\n",
    "As you can see, doing that would be a little tedious. Instead, you can do it in a loop using glob. First, we will import glob and create a list with the dataframes:"
   ]
  },
  {
   "cell_type": "code",
   "execution_count": 6,
   "metadata": {},
   "outputs": [],
   "source": [
    "import glob\n",
    "import pandas\n",
    "\n",
    "iris_dataframe = pandas.DataFrame()"
   ]
  },
  {
   "cell_type": "markdown",
   "metadata": {},
   "source": [
    "Secondly, we will use the `glob.iglob()` function in order to take files within a directory. Note that `*` in `*.csv` means \"anything with '.csv' in it.\" If we wanted just file`x`.csv, we can use `file*.csv`."
   ]
  },
  {
   "cell_type": "code",
   "execution_count": 7,
   "metadata": {},
   "outputs": [
    {
     "name": "stdout",
     "output_type": "stream",
     "text": [
      "     sepal_length  sepal_width  petal_length  petal_width         species\n",
      "0        5.100000     3.500000      1.400000     0.200000     Iris-setosa\n",
      "1        4.900000     3.000000      1.400000     0.200000     Iris-setosa\n",
      "2        4.700000     3.200000      1.300000     0.200000     Iris-setosa\n",
      "3        4.600000     3.100000      1.500000     0.200000     Iris-setosa\n",
      "4        5.000000     3.600000      1.400000     0.200000     Iris-setosa\n",
      "5        5.400000     3.900000      1.700000     0.400000     Iris-setosa\n",
      "6        4.600000     3.400000      1.400000     0.300000     Iris-setosa\n",
      "7        5.000000     3.400000      1.500000     0.200000     Iris-setosa\n",
      "8        4.400000     2.900000      1.400000     0.200000     Iris-setosa\n",
      "9        4.900000     3.100000      1.500000     0.100000     Iris-setosa\n",
      "10       5.400000     3.700000      1.500000     0.200000     Iris-setosa\n",
      "11       4.800000     3.400000      1.600000     0.200000     Iris-setosa\n",
      "12       4.800000     3.000000      1.400000     0.100000     Iris-setosa\n",
      "13       4.300000     3.000000      1.100000     0.100000     Iris-setosa\n",
      "14       5.800000     4.000000      1.200000     0.200000     Iris-setosa\n",
      "15       5.700000     4.400000      1.500000     0.400000     Iris-setosa\n",
      "16       5.400000     3.900000      1.300000     0.400000     Iris-setosa\n",
      "17       5.100000     3.500000      1.400000     0.300000     Iris-setosa\n",
      "18       5.700000     3.800000      1.700000     0.300000     Iris-setosa\n",
      "19       5.100000     3.800000      1.500000     0.300000     Iris-setosa\n",
      "20       5.400000     3.400000      1.700000     0.200000     Iris-setosa\n",
      "21       5.100000     3.700000      1.500000     0.400000     Iris-setosa\n",
      "22       4.600000     3.600000      1.000000     0.200000     Iris-setosa\n",
      "23       5.100000     3.300000      1.700000     0.500000     Iris-setosa\n",
      "24       4.800000     3.400000      1.900000     0.200000     Iris-setosa\n",
      "25       5.000000     3.000000      1.600000     0.200000     Iris-setosa\n",
      "26       5.000000     3.400000      1.600000     0.400000     Iris-setosa\n",
      "27       5.200000     3.500000      1.500000     0.200000     Iris-setosa\n",
      "28       5.200000     3.400000      1.400000     0.200000     Iris-setosa\n",
      "29       4.700000     3.200000      1.600000     0.200000     Iris-setosa\n",
      "..            ...          ...           ...          ...             ...\n",
      "120      2.716535     1.259843      2.244094     0.905512  Iris-virginica\n",
      "121      2.204724     1.102362      1.929134     0.787402  Iris-virginica\n",
      "122      3.031496     1.102362      2.637795     0.787402  Iris-virginica\n",
      "123      2.480315     1.062992      1.929134     0.708661  Iris-virginica\n",
      "124      2.637795     1.299213      2.244094     0.826772  Iris-virginica\n",
      "125      2.834646     1.259843      2.362205     0.708661  Iris-virginica\n",
      "126      2.440945     1.102362      1.889764     0.708661  Iris-virginica\n",
      "127      2.401575     1.181102      1.929134     0.708661  Iris-virginica\n",
      "128      2.519685     1.102362      2.204724     0.826772  Iris-virginica\n",
      "129      2.834646     1.181102      2.283465     0.629921  Iris-virginica\n",
      "130      2.913386     1.102362      2.401575     0.748031  Iris-virginica\n",
      "131      3.110236     1.496063      2.519685     0.787402  Iris-virginica\n",
      "132      2.519685     1.102362      2.204724     0.866142  Iris-virginica\n",
      "133      2.480315     1.102362      2.007874     0.590551  Iris-virginica\n",
      "134      2.401575     1.023622      2.204724     0.551181  Iris-virginica\n",
      "135      3.031496     1.181102      2.401575     0.905512  Iris-virginica\n",
      "136      2.480315     1.338583      2.204724     0.944882  Iris-virginica\n",
      "137      2.519685     1.220472      2.165354     0.708661  Iris-virginica\n",
      "138      2.362205     1.181102      1.889764     0.708661  Iris-virginica\n",
      "139      2.716535     1.220472      2.125984     0.826772  Iris-virginica\n",
      "140      2.637795     1.220472      2.204724     0.944882  Iris-virginica\n",
      "141      2.716535     1.220472      2.007874     0.905512  Iris-virginica\n",
      "142      2.283465     1.062992      2.007874     0.748031  Iris-virginica\n",
      "143      2.677165     1.259843      2.322835     0.905512  Iris-virginica\n",
      "144      2.637795     1.299213      2.244094     0.984252  Iris-virginica\n",
      "145      2.637795     1.181102      2.047244     0.905512  Iris-virginica\n",
      "146      2.480315     0.984252      1.968504     0.748031  Iris-virginica\n",
      "147      2.559055     1.181102      2.047244     0.787402  Iris-virginica\n",
      "148      2.440945     1.338583      2.125984     0.905512  Iris-virginica\n",
      "149      2.322835     1.181102      2.007874     0.708661  Iris-virginica\n",
      "\n",
      "[150 rows x 5 columns]\n"
     ]
    }
   ],
   "source": [
    "for file in glob.glob(\"*.csv\"):\n",
    "    this_file_dataframe = pandas.read_csv(file)\n",
    "    iris_dataframe = iris_dataframe.append(this_file_dataframe, ignore_index=True)\n",
    "    \n",
    "print(iris_dataframe)"
   ]
  },
  {
   "cell_type": "markdown",
   "metadata": {},
   "source": [
    "Now, your dataframes are accessible within the list. If you want to access them, you just need to call the index of the dataframe that you want. Printing a sample from the dataframes at a specific index yields you:"
   ]
  },
  {
   "cell_type": "code",
   "execution_count": 8,
   "metadata": {},
   "outputs": [
    {
     "name": "stdout",
     "output_type": "stream",
     "text": [
      "     sepal_length  sepal_width  petal_length  petal_width         species\n",
      "6        4.600000     3.400000      1.400000     0.300000     Iris-setosa\n",
      "133      2.480315     1.102362      2.007874     0.590551  Iris-virginica\n",
      "24       4.800000     3.400000      1.900000     0.200000     Iris-setosa\n"
     ]
    }
   ],
   "source": [
    "print(iris_dataframe.sample(3)) # In the python_Introduction directory, this would be iris1.csv"
   ]
  },
  {
   "cell_type": "code",
   "execution_count": 12,
   "metadata": {},
   "outputs": [
    {
     "data": {
      "text/plain": [
       "array(['Iris-setosa', 'Iris-versicolor', 'Iris-virginica'], dtype=object)"
      ]
     },
     "execution_count": 12,
     "metadata": {},
     "output_type": "execute_result"
    }
   ],
   "source": [
    "iris_dataframe['species'].unique()"
   ]
  },
  {
   "cell_type": "code",
   "execution_count": null,
   "metadata": {},
   "outputs": [],
   "source": []
  }
 ],
 "metadata": {
  "kernelspec": {
   "display_name": "Python [conda env:Shaw]",
   "language": "python",
   "name": "conda-env-Shaw-py"
  },
  "language_info": {
   "codemirror_mode": {
    "name": "ipython",
    "version": 3
   },
   "file_extension": ".py",
   "mimetype": "text/x-python",
   "name": "python",
   "nbconvert_exporter": "python",
   "pygments_lexer": "ipython3",
   "version": "3.6.8"
  }
 },
 "nbformat": 4,
 "nbformat_minor": 2
}
