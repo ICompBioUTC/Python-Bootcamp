{
 "cells": [
  {
   "cell_type": "markdown",
   "metadata": {},
   "source": [
    "### Here are a list of activities to help you cement yesterday's topics"
   ]
  },
  {
   "cell_type": "markdown",
   "metadata": {},
   "source": [
    "##### Activity 1\n",
    "\n",
    "Concatenate the generated lists (list1 and list2) together and sort them.\n",
    "\n",
    "- Expected output: similar to\n",
    "\n",
    "    `[31, 56, 78, 109, 136, 141, 159, 164, 179, 188, 210, 287, 291, 304, 425, 769, 769, 878, 885, 945]`"
   ]
  },
  {
   "cell_type": "code",
   "execution_count": 1,
   "metadata": {},
   "outputs": [],
   "source": [
    "import random\n",
    "\n",
    "list1 = [random.randint(12, 256) for _ in range(10)]\n",
    "list2 = [random.randint(44, 988) for _ in range(10)]\n",
    "\n",
    "# Your code here"
   ]
  },
  {
   "cell_type": "markdown",
   "metadata": {},
   "source": [
    "#### Activity 2\n",
    "\n",
    "Make a list with the even numbers, from 0 to 100, using a for loop.\n",
    "\n",
    "- Expected output: `[0, 2, 4, 6, ..., 94, 96, 98, 100]`"
   ]
  },
  {
   "cell_type": "code",
   "execution_count": 2,
   "metadata": {},
   "outputs": [],
   "source": [
    "# Your code here"
   ]
  },
  {
   "cell_type": "markdown",
   "metadata": {},
   "source": [
    "#### Activity 3\n",
    "\n",
    "Create a function that takes a list, and returns a list with all of the values squared (e.g. 14 squared = 196). You may test your list using the code provided\n",
    "\n",
    "- Expected output of function: similar to\n",
    "    `Generated list is: [9, 4, 4, 3, 8]\n",
    "    your_function(list1) = [81, 16, 16, 9, 64]`\n",
    "\n"
   ]
  },
  {
   "cell_type": "code",
   "execution_count": 3,
   "metadata": {},
   "outputs": [
    {
     "name": "stdout",
     "output_type": "stream",
     "text": [
      "Generated list is: [8, 9, 10, 9, 9]\n"
     ]
    }
   ],
   "source": [
    "import random\n",
    "\n",
    "list1 = [random.randint(2, 10) for _ in range(5)]\n",
    "print(f'Generated list is: {list1}')\n",
    "\n",
    "# Your code here"
   ]
  },
  {
   "cell_type": "markdown",
   "metadata": {},
   "source": [
    "##### Activity 4:\n",
    "\n",
    "Read the iris-setosa dataset, and display the `petal_length` column\n",
    "\n",
    "- Expected output: `head()` of column/series yields:\n",
    "\n",
    "`\n",
    "0    1.4\n",
    "1    1.4\n",
    "2    1.3\n",
    "3    1.5\n",
    "4    1.4\n",
    "`"
   ]
  },
  {
   "cell_type": "code",
   "execution_count": 4,
   "metadata": {},
   "outputs": [],
   "source": [
    "import pandas\n",
    "\n",
    "# Your code here"
   ]
  },
  {
   "cell_type": "markdown",
   "metadata": {},
   "source": [
    "##### Activity 5\n",
    "\n",
    "Round a float with decimals to an integer without using `round()`\n",
    "\n",
    "- Expected output: \n",
    "\n",
    "`Generated float is: 3.5007747287665114\n",
    "Your float: 4`\n"
   ]
  },
  {
   "cell_type": "code",
   "execution_count": 5,
   "metadata": {},
   "outputs": [],
   "source": [
    "import random\n",
    "\n",
    "float_num = random.uniform(0, 10)\n",
    "\n",
    "# Your code here"
   ]
  },
  {
   "cell_type": "markdown",
   "metadata": {},
   "source": [
    "##### Activity 6\n",
    "\n",
    "**Create code** that converts the provided messy mixed list into a dictionary using a for-loop, and throw away values that are `None`\n",
    "\n",
    "- Expected output: `{'lucky number':7, 'birthday':224, 'name':'Bob', 'answer':3+4j}`"
   ]
  },
  {
   "cell_type": "code",
   "execution_count": 6,
   "metadata": {},
   "outputs": [],
   "source": [
    "mixed_list = ['lucky number', 7, None, 'birthday', 224, None, None, 'name', 'Bob', 'answer', 3+4j]\n",
    "\n",
    "# Your code here"
   ]
  },
  {
   "cell_type": "markdown",
   "metadata": {},
   "source": [
    "##### Activity 7\n",
    "\n",
    "Create a function that returns the highest number value with the list generated through the provided code. \n",
    "\n",
    "- Expected output: \n",
    "`Generated list is: [289, 374, 735, 419, 45, 48, 425, 164, 491, 841]\n",
    "Your output: 841`"
   ]
  },
  {
   "cell_type": "code",
   "execution_count": 7,
   "metadata": {},
   "outputs": [
    {
     "name": "stdout",
     "output_type": "stream",
     "text": [
      "Generated list is: [161, 520, 411, 859, 725, 799, 997, 276, 16, 802]\n"
     ]
    }
   ],
   "source": [
    "import random\n",
    "\n",
    "list1 = [random.randint(0, 1000) for _ in range(10)]\n",
    "print(f\"Generated list is: {list1}\")\n",
    "\n",
    "# Your code here"
   ]
  },
  {
   "cell_type": "markdown",
   "metadata": {},
   "source": [
    "##### Activity 8\n",
    "\n",
    "**Create a function** that takes the frequency of each letter within the provided string and outputs the values to a dictionary. It should not be case sensitive.\n",
    "\n",
    "- Expected output: `{'s': 5, 'e': 3, 'm': 1, ' ': 8, 'l': 1, 'i': 6, 'k': 1, 't': 4, 'g': 2, 'o': 2, 'n': 2, 'r': 2, 'a': 2, 'h': 2, 'u': 1, 'd': 1, 'y': 1}`"
   ]
  },
  {
   "cell_type": "code",
   "execution_count": 8,
   "metadata": {},
   "outputs": [],
   "source": [
    "string1_dict = {}\n",
    "string1 = \"Seems like it is going to rain this Thursday\"\n",
    "\n",
    "# Your code here"
   ]
  },
  {
   "cell_type": "code",
   "execution_count": null,
   "metadata": {},
   "outputs": [],
   "source": []
  }
 ],
 "metadata": {
  "kernelspec": {
   "display_name": "Python 3",
   "language": "python",
   "name": "python3"
  },
  "language_info": {
   "codemirror_mode": {
    "name": "ipython",
    "version": 3
   },
   "file_extension": ".py",
   "mimetype": "text/x-python",
   "name": "python",
   "nbconvert_exporter": "python",
   "pygments_lexer": "ipython3",
   "version": "3.6.5"
  }
 },
 "nbformat": 4,
 "nbformat_minor": 2
}
