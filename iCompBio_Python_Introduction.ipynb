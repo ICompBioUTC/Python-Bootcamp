{
 "cells": [
  {
   "cell_type": "markdown",
   "metadata": {},
   "source": [
    "# Python coding bootcamp, day 1\n",
    "\n",
    "    Caleb Powell\n",
    "    calebadampowell@gmail.com\n",
    "    https://github.com/CapPow\n",
    "    \n",
    "\n",
    "    Dakila Ledesma\n",
    "    bgq527@mocs.utc.edu\n",
    "    https://github.com/bgq527\n",
    "    \n",
    "Materials heavily modified from: http://swcarpentry.github.io/python-novice-inflammation/  \n",
    "  \n",
    "### Objectives\n",
    "_After today, you will be able to:_\n",
    "\n",
    "* Setup a python programming environment\n",
    "    * Python 3\n",
    "    * Jupyter Notebook\n",
    "* Overview of basic datatypes\n",
    "    * String\n",
    "    * Integer\n",
    "    * Float\n",
    "* Understand and use variables\n",
    "* Build and use functions\n",
    "* Use loops for repated tasks\n",
    "* Use Pandas for working with tabular data\n",
    "    * Load a csv and xlsx files\n",
    "    * Select specific data (conditional, exact, and 'contains')\n",
    "* Use python to gather & analyze data\n",
    "    * iDigbio API\n",
    "    * datetime library"
   ]
  },
  {
   "cell_type": "markdown",
   "metadata": {},
   "source": [
    "<a id='variables'></a>\n",
    "## Variables\n",
    "Any Python interpreter can be used as a calculator:"
   ]
  },
  {
   "cell_type": "code",
   "execution_count": null,
   "metadata": {},
   "outputs": [],
   "source": [
    "3 + 5 * 4\n"
   ]
  },
  {
   "cell_type": "markdown",
   "metadata": {},
   "source": [
    "This is great but not very interesting. To do anything useful with data, we need to [assign](https://swcarpentry.github.io/python-novice-inflammation/reference/#assign) its value to a [variable](https://swcarpentry.github.io/python-novice-inflammation/reference/#variable). In Python, we can assign a value to a variable, using the equals sign `=`. For example, to assign value `60` to a variable `weight_kg`, we would execute:"
   ]
  },
  {
   "cell_type": "code",
   "execution_count": null,
   "metadata": {},
   "outputs": [],
   "source": [
    "weight_kg = 60\n"
   ]
  },
  {
   "cell_type": "markdown",
   "metadata": {},
   "source": [
    "From now on, whenever we use `weight_kg`, Python will substitute the value we assigned to\n",
    "it. In essence, **a variable is just a name for a value**.\n",
    "\n",
    "In Python, variable names:\n",
    "\n",
    " - can include letters, digits, and underscores\n",
    " - cannot start with a digit\n",
    " - are [case sensitive](https://swcarpentry.github.io/python-novice-inflammation/reference/#case-sensitive).\n",
    "\n",
    "This means that, for example:\n",
    " - `weight0` is a valid variable name, whereas `0weight` is not\n",
    " - `weight` and `Weight` are different variables\n"
   ]
  },
  {
   "cell_type": "markdown",
   "metadata": {},
   "source": [
    "<a id='usingvariables'></a>\n",
    "## Using Variables in Python\n",
    "To display the value of a variable to the screen in Python, we can use the `print` function:\n"
   ]
  },
  {
   "cell_type": "code",
   "execution_count": null,
   "metadata": {},
   "outputs": [],
   "source": [
    "print(weight_kg)"
   ]
  },
  {
   "cell_type": "markdown",
   "metadata": {},
   "source": [
    "We can display multiple things at once using only one `print` command:"
   ]
  },
  {
   "cell_type": "code",
   "execution_count": null,
   "metadata": {},
   "outputs": [],
   "source": [
    "print('weight in kilograms: ', weight_kg)"
   ]
  },
  {
   "cell_type": "markdown",
   "metadata": {},
   "source": [
    "Moreover, we can do arithmetic and use variables right inside the `print` function using an [\"f\" string](https://docs.python.org/3/reference/lexical_analysis.html#f-strings), where we can include python code inside of a string by placing the code inside of `{}`."
   ]
  },
  {
   "cell_type": "code",
   "execution_count": null,
   "metadata": {},
   "outputs": [],
   "source": [
    "print(f'{weight_kg} kg in pounds is: {2.2 * weight_kg}lbs.')"
   ]
  },
  {
   "cell_type": "markdown",
   "metadata": {},
   "source": [
    "The above command, however, did not change the value of `weight_kg`:"
   ]
  },
  {
   "cell_type": "code",
   "execution_count": null,
   "metadata": {},
   "outputs": [],
   "source": [
    "print(weight_kg)"
   ]
  },
  {
   "cell_type": "markdown",
   "metadata": {},
   "source": [
    "To change the value of the `weight_kg` variable, we have to\n",
    "**assign** `weight_kg` a new value using the equals `=` sign:"
   ]
  },
  {
   "cell_type": "code",
   "execution_count": null,
   "metadata": {},
   "outputs": [],
   "source": [
    "weight_kg = 65.0\n",
    "print(f'weight in kilograms is now: {weight_kg}')"
   ]
  },
  {
   "cell_type": "markdown",
   "metadata": {},
   "source": [
    "## Variables as Sticky Notes\n",
    "\n",
    "A variable is analogous to a sticky note with a name written on it:\n",
    "\n",
    "assigning a value to a variable is like putting that sticky note on a particular value.\n",
    "<img src=\"files/assets/python-sticky-note-variables-01.svg\">\n",
    "\n",
    "This means that assigning a value to one variable does **not** change values of other variables. For example, let's store the subject's weight in pounds in its own variable:"
   ]
  },
  {
   "cell_type": "code",
   "execution_count": null,
   "metadata": {},
   "outputs": [],
   "source": [
    "# There are 2.2 pounds per kilogram\n",
    "weight_lb = 2.2 * weight_kg\n",
    "print(f'weight in kilograms: {weight_kg} and in pounds: {weight_lb}')\n"
   ]
  },
  {
   "cell_type": "markdown",
   "metadata": {},
   "source": [
    "<img src=\"files/assets/python-sticky-note-variables-02.svg\">\n",
    "\n",
    "Let's now change `weight_kg`:\n"
   ]
  },
  {
   "cell_type": "code",
   "execution_count": null,
   "metadata": {},
   "outputs": [],
   "source": [
    "weight_kg = 100.0\n",
    "print(f'weight in kilograms is now: {weight_kg} and weight in pounds is still:{weight_lb}')"
   ]
  },
  {
   "cell_type": "markdown",
   "metadata": {},
   "source": [
    "<img src=\"files/assets/python-sticky-note-variables-03.svg\">\n",
    "\n",
    "Since `weight_lb` doesn't \"remember\" where its value comes from, it is not updated when we change `weight_kg`."
   ]
  },
  {
   "cell_type": "markdown",
   "metadata": {},
   "source": [
    "<a id='typesofdata'></a>\n",
    "## Types Of Data\n",
    "Python knows various types of data. Three common ones are:\n",
    "\n",
    "* integer numbers\n",
    "* floating point numbers, and\n",
    "* strings.\n",
    "\n",
    "In the example above, variable `weight_kg` has an integer value of `60`.\n",
    "To create a variable with a floating point value, we can execute:\n"
   ]
  },
  {
   "cell_type": "code",
   "execution_count": null,
   "metadata": {},
   "outputs": [],
   "source": [
    "weight_kg = 60.0"
   ]
  },
  {
   "cell_type": "markdown",
   "metadata": {},
   "source": [
    "And to create a string we simply have to add single or double quotes around some text, for example:"
   ]
  },
  {
   "cell_type": "code",
   "execution_count": null,
   "metadata": {},
   "outputs": [],
   "source": [
    "weight_kg_text = 'weight in kilograms:'"
   ]
  },
  {
   "cell_type": "code",
   "execution_count": null,
   "metadata": {},
   "outputs": [],
   "source": [
    "integer_var = 3\n",
    "float_var = 3.1\n",
    "complex_var = 3+2j\n",
    "\n",
    "print(F'Type of integer_var: {type(integer_var)}')\n",
    "print(F'Type of float_var: {type(float_var)}')\n",
    "print(F'Type of complex_var: {type(complex_var)}')"
   ]
  },
  {
   "cell_type": "markdown",
   "metadata": {},
   "source": [
    "#### String"
   ]
  },
  {
   "cell_type": "code",
   "execution_count": null,
   "metadata": {},
   "outputs": [],
   "source": [
    "first_name = \"Bob\"\n",
    "last_name = \"Builder\"\n",
    "\n",
    "whole_name = first_name + \" \" + last_name\n",
    "print(F'My whole name is {whole_name}')"
   ]
  },
  {
   "cell_type": "markdown",
   "metadata": {},
   "source": [
    "#### Lists\n",
    "\n",
    "Lists are a way to store variables. Lists in Python are quite flexible; they can contain numbers, strings, and even methods."
   ]
  },
  {
   "cell_type": "code",
   "execution_count": null,
   "metadata": {},
   "outputs": [],
   "source": [
    "numbers_list = [8, 6, 7, 14, -3, -12]\n",
    "\n",
    "numbers_list.append(0)\n",
    "numbers_list.sort()\n",
    "\n",
    "print(numbers_list)"
   ]
  },
  {
   "cell_type": "code",
   "execution_count": null,
   "metadata": {},
   "outputs": [],
   "source": [
    "numbers_list.reverse()\n",
    "print(numbers_list)"
   ]
  },
  {
   "cell_type": "code",
   "execution_count": null,
   "metadata": {},
   "outputs": [],
   "source": [
    "numbers_list.remove(7)\n",
    "print(numbers_list)"
   ]
  },
  {
   "cell_type": "code",
   "execution_count": null,
   "metadata": {},
   "outputs": [],
   "source": [
    "del numbers_list[1]\n",
    "print(numbers_list)"
   ]
  },
  {
   "cell_type": "code",
   "execution_count": null,
   "metadata": {},
   "outputs": [],
   "source": [
    "my_number = numbers_list.pop(3)\n",
    "print(F'My number = {my_number}')\n",
    "print(F'Numbers list = {numbers_list}')"
   ]
  },
  {
   "cell_type": "code",
   "execution_count": null,
   "metadata": {},
   "outputs": [],
   "source": [
    "concat_numbers_list = numbers_list + numbers_list\n",
    "print(concat_numbers_list)"
   ]
  },
  {
   "cell_type": "code",
   "execution_count": null,
   "metadata": {},
   "outputs": [],
   "source": [
    "numbers_list.insert(1, 29)\n",
    "print(numbers_list)"
   ]
  },
  {
   "cell_type": "code",
   "execution_count": null,
   "metadata": {},
   "outputs": [],
   "source": [
    "numbers_list[0] = 120\n",
    "print(numbers_list)"
   ]
  },
  {
   "cell_type": "code",
   "execution_count": null,
   "metadata": {},
   "outputs": [],
   "source": [
    "print(len(numbers_list))"
   ]
  },
  {
   "cell_type": "markdown",
   "metadata": {},
   "source": [
    "#### Tuples\n",
    "\n",
    "Tuples are like lists, however they are *immutable*, meaning that you cannot change the variables within the tuple after it is set (such as removing variables, setting variables, etc.)"
   ]
  },
  {
   "cell_type": "code",
   "execution_count": null,
   "metadata": {},
   "outputs": [],
   "source": [
    "numbers_tuple = (14, 12, 94)\n",
    "print(numbers_tuple)"
   ]
  },
  {
   "cell_type": "markdown",
   "metadata": {},
   "source": [
    "#### Dictionaries\n",
    "\n",
    "Dictionaries are like lists, but instead of using indices (e.g. ```number_list[0]```, where ```0``` is the index), you use keys instead."
   ]
  },
  {
   "cell_type": "code",
   "execution_count": null,
   "metadata": {},
   "outputs": [],
   "source": [
    "information = {'name':'Bob Builder', 'age':55, 'gender':'male'}\n",
    "print(F\"Bob's name is {information['name']}\")\n",
    "print(F\"Bob's gender is {information['gender']}\")"
   ]
  },
  {
   "cell_type": "markdown",
   "metadata": {},
   "source": [
    "### Operators\n",
    "\n",
    "#### Arithmetic\n",
    "|Type|Python|\n",
    "|-----|-----|\n",
    "|Addition|+|\n",
    "|Subtraction|-|\n",
    "|Multiplication|*|\n",
    "|Division|/|\n",
    "|Floor Division|//|\n",
    "|Squared|**|\n",
    "|Modulo|%|"
   ]
  },
  {
   "cell_type": "markdown",
   "metadata": {},
   "source": [
    "#### Logic\n",
    "\n",
    "|Normal|Python|Alternative\n",
    "|-----|-----|-----|\n",
    "|And|and|-|\n",
    "|Or|or|-|\n",
    "|Not|not|!|\n",
    "|More than|>|-|\n",
    "|Less than|<|-|\n",
    "|Equal to|==|-|\n",
    "|Not equal to|!=|-|\n",
    "|More than or equal to|>=|-|\n",
    "|Less than or equal to|<=|-|"
   ]
  },
  {
   "cell_type": "markdown",
   "metadata": {},
   "source": [
    "#### Assignment\n",
    "|Type|Python|\n",
    "|-----|-----|\n",
    "|Assign|=|\n",
    "|Add to|+=|\n",
    "|Subtract to|-=|\n",
    "|Multiply to|*=|\n",
    "|Divide to|/=|\n",
    "|Floor divide to|//=|\n",
    "|Modulo to|%=|\n"
   ]
  },
  {
   "cell_type": "markdown",
   "metadata": {},
   "source": [
    "## Adding Comments to Your Code \n",
    "\n",
    "In python, the `#` symbol tells the interpreter the remainder of that line should be ignored. This is often used to insert comments into code. It is good practice to frequently comment you code, this can help when you, or someone else looks back on it. "
   ]
  },
  {
   "cell_type": "code",
   "execution_count": null,
   "metadata": {},
   "outputs": [],
   "source": [
    "# here is one example of an in code comment.\n",
    "x = 5 * 5 # here is another example of an in code comment\n",
    "# notice how the variable assigned is unaffected by the inline comments \n",
    "print(f'The value of x is still: {x}')\n",
    "\n",
    "# sometimes, comments are used to remove unnecessary lines of code which might be useful later.\n",
    "# y = x * 5\n",
    "# print(y)"
   ]
  },
  {
   "cell_type": "markdown",
   "metadata": {},
   "source": [
    "<a id='creatingfunctions'></a>\n",
    "## Creating & Using Functions\n",
    "\n",
    "When learning [how to work with variables](#usingvariables), we converted kilograms to pounds. what if we want to use that code again, on a different dataset or at a different point in our program? Cutting and pasting it is going to make our code get very long and very repetitive, very quickly.\n",
    "\n",
    "We'd like a way to package our code so that it is easier to reuse, and Python provides for this by letting us define things called 'functions' a shorthand way of re-executing longer pieces of code.\n",
    "\n",
    "Let's start by defining a function `fahr_to_celsius` that converts temperatures from Fahrenheit to Celsius:"
   ]
  },
  {
   "cell_type": "code",
   "execution_count": null,
   "metadata": {},
   "outputs": [],
   "source": [
    "def fahr_to_celsius(temp):\n",
    "    \"\"\" a function which converts fahrenheit to celsius.\n",
    "\n",
    "        Parameters\n",
    "        ----------\n",
    "        temp : integer or float, temperature value in fahrenheit\n",
    "\n",
    "    \"\"\"\n",
    "    return ((temp - 32) * (5/9))"
   ]
  },
  {
   "cell_type": "markdown",
   "metadata": {},
   "source": [
    "<img src=\"files/assets/python-function.svg\">\n",
    "\n",
    "\n",
    "\n",
    "The function definition opens with the keyword `def` followed by the name of the function (`fahr_to_celsius`) and a parenthesized list of parameter names (`temp`). Inside a set of ```\"\"\"``` is a description of the function, and its [parameters](http://swcarpentry.github.io/python-novice-inflammation/reference/#parameters), called a [docstring](http://swcarpentry.github.io/python-novice-inflammation/reference/#docstring). This is information can be accessed later in jupyter notebook using the ```Shift + Tab``` key combination.\n",
    "\n",
    "The [body](http://swcarpentry.github.io/python-novice-inflammation/reference/#body) of the function --- the statements that are executed when it runs --- is indented below the definition line. The body concludes with a `return` keyword followed by the return value.\n",
    "\n",
    "When we call the function, the values we pass to it are assigned to those variables so that we can use them inside the function. Inside the function, we use a [return statement](http://swcarpentry.github.io/python-novice-inflammation/reference/#return-statement) to send a result back to whoever asked for it.\n",
    "\n",
    "Let's try running our function.\n"
   ]
  },
  {
   "cell_type": "code",
   "execution_count": null,
   "metadata": {},
   "outputs": [],
   "source": [
    "freezing_point_celsius = fahr_to_celsius(32)\n",
    "print(f'freezing point of water: {freezing_point_celsius} C')\n"
   ]
  },
  {
   "cell_type": "markdown",
   "metadata": {},
   "source": [
    "This command should call our function, using \"32\" as the input and save the results to the variable called \"freezing_point_celsius.\"\n",
    "\n",
    "In fact, calling our own function is no different from calling any other function:"
   ]
  },
  {
   "cell_type": "code",
   "execution_count": null,
   "metadata": {},
   "outputs": [],
   "source": [
    "boiling_point_celsius = fahr_to_celsius(212)\n",
    "print(f'boiling point of water: {boiling_point_celsius} C')"
   ]
  },
  {
   "cell_type": "markdown",
   "metadata": {},
   "source": [
    "## Exercise, write a `celsius_to_kelvin` function\n",
    "\n",
    "Now that we've seen how to turn Fahrenheit into Celsius, write a function in the code cell below named `celsius_to_kelvin` which converts Celsius into Kelvin.\n",
    "\n",
    "_hint: temperatures in kelvin are converted using_ `k = c + 273.15`"
   ]
  },
  {
   "cell_type": "code",
   "execution_count": null,
   "metadata": {},
   "outputs": [],
   "source": []
  },
  {
   "cell_type": "markdown",
   "metadata": {},
   "source": [
    "## Composing Functions\n",
    "\n",
    "What about converting Fahrenheit to Kelvin? We could write out the formula, but we don't need to. Instead, we can [compose](swcarpentry.github.io/python-novice-inflammation/reference/#compose) the two functions we have already created:"
   ]
  },
  {
   "cell_type": "code",
   "execution_count": null,
   "metadata": {},
   "outputs": [],
   "source": [
    "def fahr_to_kelvin(temp_f):\n",
    "    \"\"\" a function which converts fahrenheit to kelvin.\n",
    "\n",
    "        Parameters\n",
    "        ----------\n",
    "        temp_f : integer or float, temperature value in fahrenheit\n",
    "\n",
    "    \"\"\"\n",
    "    temp_c = fahr_to_celsius(temp_f)\n",
    "    temp_k = celsius_to_kelvin(temp_c)\n",
    "    return temp_k\n",
    "\n",
    "\n",
    "print(f'boiling point of water in Kelvin: {fahr_to_kelvin(212.0)}')"
   ]
  },
  {
   "cell_type": "markdown",
   "metadata": {},
   "source": [
    "<a id='usingloops'></a>\n",
    "## Use loops for repated tasks\n",
    "\n",
    "One major benefit of programming is the automation of redundant tasks. Let's apply what we have already learned to automate the conversion of many temperatures measurements from fahrenheit to celsius. Using a list of temperature we'll use a [for loop](http://swcarpentry.github.io/python-novice-inflammation/reference/#for-loop') to repeat an operation --- in this case, converting fahrenheit to celsius.\n",
    "\n",
    "The general form of a loop is:\n",
    "\n",
    "```python\n",
    "for item in collection:\n",
    "    # do things using variable, such as print\n",
    "```\n",
    "\n",
    "where each `item` in the `collection` is looped through one after another.\n",
    "\n",
    "We can call the [loop variable](http://swcarpentry.github.io/python-novice-inflammation/reference/#loop-variable) anything we like, but there must be a colon at the end of the line starting the loop, and we must indent anything we want to run inside the loop. Unlike many other languages, there is no command to signify the end of the loop body (e.g. `end for`); what is indented after the `for` statement belongs to the loop."
   ]
  },
  {
   "cell_type": "code",
   "execution_count": null,
   "metadata": {},
   "outputs": [],
   "source": [
    "# create a list of example temperatures\n",
    "temps_in_fahr = [32, 41, 35, 34, 39, 44, 41, 39, 35]\n",
    "\n",
    "for temp in temps_in_fahr:\n",
    "    fahr_to_celsius(temp)"
   ]
  },
  {
   "cell_type": "markdown",
   "metadata": {},
   "source": [
    "After running the loop above, nothing happens. Why?\n",
    "\n",
    "The function `fahr_to_celsius` was run on every item in the list `temps_in_fahr`, yet we neglicted to do anything with the results returned from the. We did not save the output anywhere. Let's try that loop again, but this time save the results into a new list called `temps_in_celsius`."
   ]
  },
  {
   "cell_type": "code",
   "execution_count": null,
   "metadata": {
    "scrolled": true
   },
   "outputs": [],
   "source": [
    "# create a list of example temperatures\n",
    "temps_in_fahr = [33, 42, 35, 34, 39, 44, 41, 39, 35]\n",
    "\n",
    "# create an empty list to store the converted temperatures\n",
    "temps_in_celsius = []\n",
    "\n",
    "for temp in temps_in_fahr:\n",
    "    temps_in_celsius.append(fahr_to_celsius(temp))\n",
    "\n",
    "# after completing the loop, print the list 'temps_in_celsius'\n",
    "print(temps_in_celsius)"
   ]
  },
  {
   "cell_type": "markdown",
   "metadata": {},
   "source": [
    "## Cleaning up the results\n",
    "\n",
    "The results of the above loop are now being saved to `temps_in_celsius`, but the `5/9` division included in the [fahr_to_celsius function](#creatingfunctions) is producing too many decimal points. \n",
    "\n",
    "There are a few ways to solve this problem, for example: we could add Python's build-in [round() function](https://docs.python.org/3/library/functions.html#round) inside of the loop, or inside of the [fahr_to_celsius function](#creatingfunctions).\n",
    "\n",
    "Using what we have learned about jupyter notebook cells, let's go back up to the [fahr_to_celsius function](#creatingfunctions) and add in the round() function. Making it look something like this:\n",
    "\n",
    "```python\n",
    "def fahr_to_celsius(temp):\n",
    "    \"\"\" a function which converts fahrenheit to celsius.\n",
    "\n",
    "        Parameters\n",
    "        ----------\n",
    "        temp : integer or float, temperature value in fahrenheit\n",
    "\n",
    "    \"\"\"\n",
    "    temp_c = (temp - 32) * (5/9)   \n",
    "    return round(temp_c, 2)\n",
    "```\n",
    "\n",
    "After making your changes, re-run the modified cell (to store those changes) then run the above loop again. If everything is correct, the values in `temps_in_celsius` should have a more appropriate number of decimal places."
   ]
  },
  {
   "cell_type": "markdown",
   "metadata": {},
   "source": [
    "## Using External Libraries\n",
    "\n",
    "While a lot of powerful, general tools such as round() are built into Python, specialized tools built up from these basic units live in [libraries](http://swcarpentry.github.io/python-novice-inflammation/reference/#library) that can be called upon when needed. We will use one of these libraries, called [Pandas](http://pandas.pydata.org/pandas-docs/stable/) to read and manipulate tabular (spreadsheet style) data. There are many ways to find and install external python libaries. The most common method is using `pip` to install packages from the popular \"Python Package Index\" or \"PyPI.\"\n",
    "\n",
    "To check if you already have pip installed, enter the following commmand in your terminal:\n",
    "\n",
    "```\n",
    "pip --version\n",
    "```\n",
    "\n",
    "If you cannot install packages using pip, you may need to install it. Detailed instructions are [available here] (https://packaging.python.org/tutorials/installing-packages/#ensure-you-can-run-pip-from-the-command-line).\n",
    "\n",
    "Once pip is available enter the following command into your terminal to install pandas:\n",
    "\n",
    "```\n",
    "pip install pandas\n",
    "```\n",
    "\n",
    "\n",
    "## Loading Data Into Python\n",
    "\n",
    "To access Pandas' functions, we need to [import](http://swcarpentry.github.io/python-novice-inflammation/reference/#import) the library into our script. Imports usually look like this:\n",
    "\n",
    "```python\n",
    "import library_name\n",
    "```\n",
    "Where the library's functions are available following the library name. For example:\n",
    "\n",
    "```python\n",
    "library_name.function_name()\n",
    "```\n",
    "\n",
    "Sometimes you'll see users import pandas and assign it a shorter variable name, like this:\n",
    "```python\n",
    "import pandas as pd\n",
    "```\n",
    "\n",
    "When this is done, the library would be accessed as:\n",
    "```python\n",
    "pd.some_function()\n",
    "```"
   ]
  },
  {
   "cell_type": "code",
   "execution_count": null,
   "metadata": {},
   "outputs": [],
   "source": [
    "# for simplicity we'll stick to the default name pandas.\n",
    "import pandas"
   ]
  },
  {
   "cell_type": "markdown",
   "metadata": {},
   "source": [
    "To practice using tabular data in python, we'll be using an data from Christie Aschwanden's [\"You Cant Trust What You Read About Nutrition\"](https://fivethirtyeight.com/features/you-cant-trust-what-you-read-about-nutrition/). Pandas can [read and write to many tabular formats](https://pandas.pydata.org/pandas-docs/stable/user_guide/io.html), including csv files. While it is most common to read a csv which is already on your hard drive, it is also possible for pandas to read a csv directly from the internet. \n",
    "\n",
    "Since tabular data loaded into pandas is called a [\"DataFrame\"](https://pandas.pydata.org/pandas-docs/stable/reference/api/pandas.DataFrame.html), users often use \"df\" as a variable name for a DataFrame loaded into pandas. For clarity, we will use the more descriptive variable name: \"nutrition_data\" for our dataframe."
   ]
  },
  {
   "cell_type": "code",
   "execution_count": null,
   "metadata": {
    "scrolled": false
   },
   "outputs": [],
   "source": [
    "# Set the data source URL to a variable\n",
    "url = 'https://raw.githubusercontent.com/fivethirtyeight/data/master/nutrition-studies/raw_anonymized_data.csv'\n",
    "# Read the csv available at that URL, as a DataFrame\n",
    "nutrition_data = pandas.read_csv(url)\n",
    "\n",
    "# Display a small portion of the data to spot check it.\n",
    "# Two things to notice here: \n",
    "    # First, nutrition_data.sample(3) chooses 3 random rows\n",
    "    # Second, we used \"display\" instead of \"print.\" \n",
    "    # Display is only for jupyter notebooks and prints things with better formatting.\n",
    "display(nutrition_data.sample(3))\n",
    "\n",
    "# the \"shape\" of a dataframe is an attribute which describes the total rows, and columns present.\n",
    "print(f'the data is shaped as: {nutrition_data.shape}')"
   ]
  },
  {
   "cell_type": "markdown",
   "metadata": {},
   "source": [
    "## Selecting Data in a Pandas DataFrame\n",
    "\n",
    "Pandas has many ways to select subsets of data, such as by position, by Condition, or by a combination. Below are a series of examples selecting specific subsets of data from the dataframe."
   ]
  },
  {
   "cell_type": "code",
   "execution_count": null,
   "metadata": {
    "scrolled": false
   },
   "outputs": [],
   "source": [
    "# select all the data for a single column, by the name of that column\n",
    "current_smoker = nutrition_data['currently_smoke']\n",
    "# display a small sample of the 'currently_smoke' column's data.\n",
    "display(current_smoker.sample(3))\n",
    "\n",
    "# select all the data for a single row, by the row number.\n",
    "# more details at: https://pandas.pydata.org/pandas-docs/stable/reference/api/pandas.DataFrame.iloc.html\n",
    "first_respondant = nutrition_data.iloc[0]\n",
    "# displaying all a sample of the first responder's answers.\n",
    "display(first_respondant.sample(3))\n",
    "\n",
    "# select based on condition. In this case, those paitents with \"Outie\" belly buttons.\n",
    "outies = nutrition_data[nutrition_data['belly'] == 'Outie']\n",
    "display(outies.sample(3))\n",
    "\n",
    "# select based on multiple conditions, such as: \n",
    "    # consuming cabbage more than 5 times a week, and having a a cat.\n",
    "condition_1 = nutrition_data['CABBAGEFREQ'] > 5\n",
    "condition_2 = nutrition_data['cat'] == 'Yes'\n",
    "\n",
    "cabbage_cats = nutrition_data[condition_1 & condition_2]\n",
    "display(cabbage_cats.sample(3))"
   ]
  },
  {
   "cell_type": "markdown",
   "metadata": {},
   "source": [
    "## Hypothesis Testing\n",
    "\n",
    "Now that we can load tabular data into python using pandas, and we can select subsets of that data. Let's use what we have learned to test a hypothesis. In this example, we will test if there is a significant difference in coffee consumption those with and without a history of heart disease. To do this test, we will use the `stats` functions available in the external library `scipy`. \n",
    "\n",
    "This starts with importing those functions."
   ]
  },
  {
   "cell_type": "code",
   "execution_count": null,
   "metadata": {},
   "outputs": [],
   "source": [
    "# we're importing the stats functions of the larger library called scipy\n",
    "from scipy import stats"
   ]
  },
  {
   "cell_type": "markdown",
   "metadata": {},
   "source": [
    "To run this statistical test, we will make variables for the population subsets we are interested in, by saving the results of conditional selections to descriptive variable names."
   ]
  },
  {
   "cell_type": "code",
   "execution_count": null,
   "metadata": {},
   "outputs": [],
   "source": [
    "heart_disease_yes = nutrition_data[nutrition_data['heart_disease'] == 'Yes']\n",
    "print(f'heart_disease_yes group drinks {heart_disease_yes[\"COFFEEDRINKSFREQ\"].mean()} cups of coffee a week.')\n",
    "\n",
    "heart_disease_no = nutrition_data[nutrition_data['heart_disease'] == 'No']\n",
    "print(f'heart_disease_no group drinks {heart_disease_no[\"COFFEEDRINKSFREQ\"].mean()} cups of coffee a week.')"
   ]
  },
  {
   "cell_type": "markdown",
   "metadata": {},
   "source": [
    "Now that we have determined our subsets, we need to verify that the subsets meet the assumptions for a ttest. To do this, we will start with a [levene](https://docs.scipy.org/doc/scipy/reference/generated/scipy.stats.levene.html) test for homogeneity of variances."
   ]
  },
  {
   "cell_type": "code",
   "execution_count": null,
   "metadata": {},
   "outputs": [],
   "source": [
    "levene_results = stats.levene(heart_disease_yes['COFFEEDRINKSFREQ'], heart_disease_no['COFFEEDRINKSFREQ'])\n",
    "print(levene_results)"
   ]
  },
  {
   "cell_type": "markdown",
   "metadata": {},
   "source": [
    "The test is not significant meaning the subsets have similar variances, so we can proceed. Next we must verify that both subsets are normally distributed. Using what we've [learned about loops](#usingloops), we will run a [normal distribution test](https://docs.scipy.org/doc/scipy/reference/generated/scipy.stats.normaltest.html) on each subset. "
   ]
  },
  {
   "cell_type": "code",
   "execution_count": null,
   "metadata": {},
   "outputs": [],
   "source": [
    "for subset in [heart_disease_yes['COFFEEDRINKSFREQ'], heart_disease_no['COFFEEDRINKSFREQ']]:\n",
    "    #Check the shape, and normal distribution of both groups using a loop.\n",
    "    print(subset.shape)\n",
    "    normalResults = stats.normaltest(subset)\n",
    "    print(normalResults)"
   ]
  },
  {
   "cell_type": "markdown",
   "metadata": {},
   "source": [
    "Both subsets are normally distributed, meaning we have satisfied the assusmptions and can run the independent t-test."
   ]
  },
  {
   "cell_type": "code",
   "execution_count": null,
   "metadata": {},
   "outputs": [],
   "source": [
    "# stats.ttest returns a tuple of the calculated t-statistic, and the p-value as (t, p)\n",
    "# assign both variables in one statement:\n",
    "\n",
    "t, p = stats.ttest_ind(heart_disease_yes['COFFEEDRINKSFREQ'], heart_disease_no['COFFEEDRINKSFREQ'])\n",
    "print(f'The t-statistic was {t}, with a p-value of {p}')"
   ]
  },
  {
   "cell_type": "markdown",
   "metadata": {},
   "source": [
    "## Morel hunting example\n",
    "<a id='query'></a>\n",
    "\n",
    "<img src=\"files/assets/morel.jpg\">"
   ]
  },
  {
   "cell_type": "code",
   "execution_count": null,
   "metadata": {},
   "outputs": [],
   "source": [
    "# API details at: https://github.com/iDigBio/idigbio-python-client\n",
    "import idigbio\n",
    "\n",
    "# make a variable for the idigbio api's pandas option\n",
    "api = idigbio.pandas()\n",
    "\n",
    "# set a variable for the genus Morchella (true morels)\n",
    "genusOfInterest = 'Morchella'\n",
    "\n",
    "# set a variable for the state we're interested in\n",
    "nearbyStates = ['Tennessee','Georgia','North Carolina','Alabama']\n",
    "\n",
    "# define a dictionary with the query's \"key word arguments\"\n",
    "query = {'genus':genusOfInterest, \"stateprovince\":nearbyStates}\n",
    "\n",
    "# call iDigbio's api, using the query we built\n",
    "pandas_output = api.search_records(rq=query, limit = 500)\n",
    "\n",
    "# the \"shape\" of a dataframe is an attribute which returns a tuple containing the row and column count.\n",
    "# notice, since we know there are exactly 2 items in the tuple we can assign 2 variables to the attribute.\n",
    "rowQty, columnQty = pandas_output.shape\n",
    "\n",
    "# print how large the results are\n",
    "print(f'{rowQty} rows, and {columnQty} columns returned.')\n",
    "\n",
    "# display a small portion of the results, to spot check\n",
    "# Two things to notice here: \n",
    "    # First, pandas_output.sample(2) chooses 2 random rows\n",
    "    # Second, we used \"display\" instead of \"print.\" \n",
    "    # Display is only for jupyter notebooks and prints things with better formatting.\n",
    "display(pandas_output.sample(2))"
   ]
  },
  {
   "cell_type": "markdown",
   "metadata": {},
   "source": [
    "<a id='dropna'></a>\n",
    "\n",
    "remember pandas_output was the result from querying idigbio's api for all the \"True Morels\" found in Tennessee. \n",
    "\n",
    "the ['eventdate'](https://terms.tdwg.org/wiki/dwc:eventDate) column stores the date the specimen was collected while the ['startdayofyear'](https://terms.tdwg.org/wiki/dwc:startDayOfYear) column is the day of the year (e.g., 1 is January 1st).\n",
    "\n",
    "We can use this data to determine the most frequent day of the year Morel's are found in this region.\n"
   ]
  },
  {
   "cell_type": "code",
   "execution_count": null,
   "metadata": {},
   "outputs": [],
   "source": [
    "# start by dropping all records which have no data in 'eventdate'\n",
    "# notice we save the result of dropna back to the pandas_output.\n",
    "# this means we overwrite pandas_output the results after dropping the null values\n",
    "pandas_output = pandas_output.dropna(subset=['eventdate'])\n",
    "\n",
    "# before we move on we should check how many records are left\n",
    "# remember the shape attribute is a tuple of (rows, columns)\n",
    "print(pandas_output.shape)"
   ]
  },
  {
   "cell_type": "code",
   "execution_count": null,
   "metadata": {},
   "outputs": [],
   "source": [
    "# Calculate the mean of the 'startdayofyear' column. \n",
    "# notice we included the parameter \"skipna=True,\"\n",
    "# remember Shift+Tab while the curser is inside a function call displays that function's options.\n",
    "avgDayOfYear = pandas_output['startdayofyear'].mean(skipna=True)\n",
    "print(f'The average day of the year for {genusOfInterest} in {nearbyStates} is: {avgDayOfYear}.')\n",
    "\n",
    "# the avgDayOfYear is useful but how do we make this information more useable?\n",
    "# Let's convert this to a date by adding the avgDayOfYear to a January 1st of this year.\n",
    "# First we'll import the \"datetime\" library which comes with python.\n",
    "import datetime\n",
    "\n",
    "# Using the datetime library's \"now()\" function, save the current date to a variable\n",
    "currentDate = datetime.datetime.now()\n",
    "# display the results of the current date\n",
    "print(f'The current date & time is: {currentDate}.')\n",
    "# The currentDate produced has a \".year\" attribute\n",
    "thisYear = currentDate.year\n",
    "print(f'The current year is {thisYear}')\n",
    "\n",
    "# save a variable for a dateTime object representing January 1st of this year.\n",
    "startOfYear = datetime.date(thisYear,1,1)\n",
    "\n",
    "# add the avgDayOfYear, to get this year's best date\n",
    "# datetime's timedelta function returns the difference between two datetime values (as a date).\n",
    "bestDate = startOfYear + datetime.timedelta(avgDayOfYear)\n",
    "\n",
    "# print the results\n",
    "print(f'The average day for collecting morels is {bestDate}.')"
   ]
  },
  {
   "cell_type": "markdown",
   "metadata": {},
   "source": [
    "# Exercise, improve upon this work\n",
    "\n",
    "Recall there were not many records after [we dropped those without an event date](#dropna). Often scripts are written using an example as a starting point. In the cell(s) below, improve on the morel hunting example by increasing the sample size, one simple way to do this is to include additional states [in the initial query we built](#query)."
   ]
  },
  {
   "cell_type": "markdown",
   "metadata": {},
   "source": [
    "<img src=\"files/assets/southeast.gif\">"
   ]
  },
  {
   "cell_type": "code",
   "execution_count": null,
   "metadata": {},
   "outputs": [],
   "source": []
  },
  {
   "cell_type": "markdown",
   "metadata": {},
   "source": [
    "Additional Resources:\n",
    "\n",
    "[datetime documentation](https://docs.python.org/3/library/datetime.html)\n",
    "\n",
    "[Pandas documentation](http://pandas.pydata.org/pandas-docs/stable/)\n",
    "\n",
    "[list of public APIs](https://github.com/toddmotto/public-apis)\n",
    "\n",
    "[iDigBio's Python API (examples and documentation)](https://github.com/iDigBio/idigbio-python-client)"
   ]
  },
  {
   "cell_type": "markdown",
   "metadata": {},
   "source": [
    "Todo:\n",
    "\n",
    "including description of \"in ram\" effects of a jupyter notebook.\n",
    "\n"
   ]
  },
  {
   "cell_type": "code",
   "execution_count": null,
   "metadata": {},
   "outputs": [],
   "source": []
  }
 ],
 "metadata": {
  "kernelspec": {
   "display_name": "Python 3",
   "language": "python",
   "name": "python3"
  },
  "language_info": {
   "codemirror_mode": {
    "name": "ipython",
    "version": 3
   },
   "file_extension": ".py",
   "mimetype": "text/x-python",
   "name": "python",
   "nbconvert_exporter": "python",
   "pygments_lexer": "ipython3",
   "version": "3.7.3"
  }
 },
 "nbformat": 4,
 "nbformat_minor": 2
}
